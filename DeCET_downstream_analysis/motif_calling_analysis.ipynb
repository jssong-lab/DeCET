{
 "cells": [
  {
   "cell_type": "code",
   "execution_count": 1,
   "metadata": {},
   "outputs": [],
   "source": [
    "import numpy as np\n",
    "import scipy\n",
    "import scipy.stats\n",
    "import sklearn\n",
    "import sklearn.preprocessing\n",
    "import sklearn.linear_model\n",
    "\n",
    "import matplotlib.pyplot as plt\n",
    "from matplotlib import rcParams\n",
    "rcParams['font.family'] = 'Arial'\n",
    "\n",
    "date = '12_16_19' # change this to get today's date\n",
    "\n",
    "# Directory containing the motif scanning results.\n",
    "motif_input_dir = '../motif_scanning_results/'\n",
    "file_prefix = 'leiomyoma_HOSVD_final'\n",
    "output_dir = '../'\n"
   ]
  },
  {
   "cell_type": "code",
   "execution_count": 2,
   "metadata": {},
   "outputs": [
    {
     "name": "stdout",
     "output_type": "stream",
     "text": [
      "(768, 317)\n",
      "(1250, 317)\n"
     ]
    }
   ],
   "source": [
    "# Read in the names of the motifs. This is just a list of\n",
    "# motif names that match the columns in the motif calling\n",
    "# matrix described below.\n",
    "motif_names = np.loadtxt(motif_input_dir + file_prefix + '_motif_scan_ATACseq_pos_loc4/names', dtype=str, delimiter=\"\\t\")\n",
    "# From the motif names obtain the gene symbol for the\n",
    "# corresponding transcription factor.\n",
    "TF_names = []\n",
    "for motif in motif_names:\n",
    "    TF_names.append(motif.replace('HOCOMOCO_','').replace('.coverage',''))\n",
    "\n",
    "# Read in the motif calling result for each set of regions.\n",
    "# The motif calling results are stored as a CSV file with\n",
    "# each region corresponding to a row and the comma separated\n",
    "# columns to the result for the corresponding motif following\n",
    "# the order given in motif names. The value corresponds to the\n",
    "# number of hits for the motif in the sequence, or to a binary\n",
    "# call for whether there was a motif hit or not.\n",
    "count_matrix_myo = np.loadtxt(motif_input_dir + file_prefix + '_motif_scan_ATACseq_pos_loc4/coverage_data.csv', dtype=np.int, delimiter=\",\")\n",
    "count_matrix_leio = np.loadtxt(motif_input_dir + file_prefix + '_motif_scan_ATACseq_neg_loc4/coverage_data.csv', dtype=np.int, delimiter=\",\")\n",
    "\n",
    "print(count_matrix_myo.shape)\n",
    "print(count_matrix_leio.shape)\n",
    "\n",
    "# Binarize the count matrix. A value of 1 indicates the\n",
    "# motif was found in the sequence and a value of 0 \n",
    "# indicates that it was not\n",
    "binary_myo = np.clip(count_matrix_myo, 0, 1)\n",
    "binary_leio = np.clip(count_matrix_leio, 0, 1)"
   ]
  },
  {
   "cell_type": "code",
   "execution_count": 3,
   "metadata": {},
   "outputs": [],
   "source": [
    "## Motif enrichment"
   ]
  },
  {
   "cell_type": "code",
   "execution_count": 4,
   "metadata": {},
   "outputs": [],
   "source": [
    "# Use Fisher's exact test to test for non-independence\n",
    "# of the presence of a motif and the condition in which\n",
    "# the sequence has higher activating marks; The set of\n",
    "# sequences the motif is enriched in is determined using\n",
    "# the odds ratio\n",
    "\n",
    "motif_enrichment_pvalue = [1.0 for i in range(len(motif_names))]\n",
    "odds_ratio = [0.0 for i in range(len(motif_names))]\n",
    "for i in range(len(motif_names)):\n",
    "    table = [[len(np.where(binary_myo[:,i] == 1)[0]), len(np.where(binary_myo[:,i] == 0)[0])],\n",
    "             [len(np.where(binary_leio[:,i] == 1)[0]), len(np.where(binary_leio[:,i] == 0)[0])]]\n",
    "    odds_ratio[i], motif_enrichment_pvalue[i] = scipy.stats.fisher_exact(table, alternative='two-sided')"
   ]
  },
  {
   "cell_type": "code",
   "execution_count": 5,
   "metadata": {
    "scrolled": false
   },
   "outputs": [
    {
     "name": "stdout",
     "output_type": "stream",
     "text": [
      "44\n"
     ]
    }
   ],
   "source": [
    "# Benjamini-Hochberg multiple hypothesis test correction \n",
    "alpha = 1e-3 # control FDR at this level\n",
    "sorted_pvalue_index = np.argsort(motif_enrichment_pvalue)\n",
    "for i in range(len(motif_enrichment_pvalue)):\n",
    "    if( motif_enrichment_pvalue[sorted_pvalue_index[i]] <=\n",
    "        alpha*(i+1)/len(motif_enrichment_pvalue) ):\n",
    "        continue\n",
    "    else:\n",
    "        K = i\n",
    "        print(K)\n",
    "        break\n",
    "\n",
    "# Get the adjusted p_value sorted by the p-value order\n",
    "sorted_adj_pvalue = [motif_enrichment_pvalue[sorted_pvalue_index[i]]*(len(motif_enrichment_pvalue)/(i+1))\n",
    "                     for i in range(len(motif_enrichment_pvalue))]"
   ]
  },
  {
   "cell_type": "code",
   "execution_count": 6,
   "metadata": {},
   "outputs": [
    {
     "name": "stdout",
     "output_type": "stream",
     "text": [
      "ETV4\t1.58e-08\t1.81\n",
      "MECP2\t5.49e-06\t1.80\n",
      "ETV5\t5.24e-06\t1.62\n",
      "ETS1\t1.10e-05\t2.06\n",
      "ERG\t1.74e-05\t1.82\n",
      "RARG\t5.51e-05\t1.70\n",
      "SREBF2\t6.08e-05\t1.55\n",
      "ETV1\t7.06e-05\t1.99\n",
      "KLF6\t7.94e-05\t1.68\n",
      "ELF3\t9.05e-05\t2.22\n",
      "SP4\t1.01e-04\t1.74\n",
      "NR1D1\t1.08e-04\t1.60\n",
      "SP3\t1.46e-04\t1.69\n",
      "IRF2\t1.67e-04\t23.19\n",
      "RXRA\t1.60e-04\t1.56\n",
      "E2F6\t1.67e-04\t1.61\n",
      "IRF1\t1.63e-04\t4.83\n",
      "ELF2\t1.73e-04\t1.86\n",
      "EGR1\t1.73e-04\t1.64\n",
      "KLF5\t2.32e-04\t1.77\n",
      "ZBTB17\t2.26e-04\t1.60\n",
      "KLF3\t2.28e-04\t1.77\n",
      "ETS2\t2.52e-04\t1.49\n",
      "NR3C1\t3.03e-04\t1.86\n",
      "PATZ1\t3.40e-04\t1.64\n",
      "TAF1\t4.24e-04\t1.58\n",
      "VEZF1\t4.84e-04\t1.59\n",
      "NR2F2\t4.92e-04\t1.75\n",
      "E2F4\t6.13e-04\t1.59\n",
      "NFIC\t6.24e-04\t1.63\n",
      "STAT1\t6.45e-04\t3.76\n",
      "PGR\t6.67e-04\t1.75\n",
      "TFDP1\t7.02e-04\t1.58\n",
      "SMAD3\t7.28e-04\t1.46\n"
     ]
    }
   ],
   "source": [
    "# TFs with motifs enriched in the regions with lower\n",
    "# activating histone modifications in leiomyoma\n",
    "for i in range(K):\n",
    "    if(odds_ratio[sorted_pvalue_index[i]] > 1.0):\n",
    "        print(\"{0}\\t{1:.2e}\\t{2:.2f}\".format(TF_names[sorted_pvalue_index[i]],\n",
    "                                      sorted_adj_pvalue[i],\n",
    "                                      odds_ratio[sorted_pvalue_index[i]]))"
   ]
  },
  {
   "cell_type": "code",
   "execution_count": 7,
   "metadata": {
    "scrolled": false
   },
   "outputs": [
    {
     "name": "stdout",
     "output_type": "stream",
     "text": [
      "SRF\t4.39e-15\t-2.53\n",
      "HOXA9\t4.95e-12\t-1.00\n",
      "TBP\t4.63e-11\t-0.69\n",
      "HOXC9\t5.46e-09\t-0.75\n",
      "HOXA10\t2.07e-08\t-0.89\n",
      "MEIS1\t5.45e-08\t-0.81\n",
      "CDX1\t1.22e-07\t-0.62\n",
      "HOXA13\t2.48e-05\t-0.60\n",
      "SOX5\t1.44e-04\t-0.43\n",
      "HOXB7\t5.86e-04\t-1.21\n"
     ]
    }
   ],
   "source": [
    "# TFs with motifs enriched in the regions with higher\n",
    "# activating histone modifications in leiomyoma\n",
    "for i in range(K):\n",
    "    if(odds_ratio[sorted_pvalue_index[i]] < 1.0):\n",
    "        print(\"{0}\\t{1:.2e}\\t{2:.2f}\".format(TF_names[sorted_pvalue_index[i]],\n",
    "                                      sorted_adj_pvalue[i],\n",
    "                                      np.log(odds_ratio[sorted_pvalue_index[i]])))"
   ]
  },
  {
   "cell_type": "code",
   "execution_count": 8,
   "metadata": {},
   "outputs": [],
   "source": [
    "## Sequence based logistic regression classification "
   ]
  },
  {
   "cell_type": "code",
   "execution_count": 9,
   "metadata": {},
   "outputs": [],
   "source": [
    "# Get the class labels for each of the sequences.\n",
    "class_myo = np.ones(binary_myo.shape[0], dtype=np.int8)\n",
    "class_leio = np.zeros(binary_leio.shape[0], dtype=np.int8)\n",
    "full_class = np.concatenate((class_leio, class_myo), axis=0)\n",
    "del class_myo, class_leio\n",
    "\n",
    "# Concatenate the binary matrices to get the full\n",
    "# predictor matrix\n",
    "full_binary_matrix = np.concatenate((binary_leio, binary_myo), axis=0)\n"
   ]
  },
  {
   "cell_type": "code",
   "execution_count": 10,
   "metadata": {
    "scrolled": true
   },
   "outputs": [],
   "source": [
    "# Use 5-fold cross validation with a grid search to choose \n",
    "# the L1 regularization parameter lambda.\n",
    "# Range of values to try\n",
    "lambda_list = [0.01*(i+1) for i in range(100)]\n",
    "CV_reg_pair = []\n",
    "\n",
    "n_splits = 5\n",
    "skf = sklearn.model_selection.StratifiedKFold(n_splits=n_splits, random_state=None, shuffle=True)\n",
    "\n",
    "for l_r in lambda_list:\n",
    "    # Calculate the class balanced loss and accuracy on\n",
    "    # the test set for each value of lambda\n",
    "    avg_loss = 0.0\n",
    "    avg_CV = 0.0\n",
    "    skl_loss = 0.0\n",
    "    for train_index, test_index in skf.split(full_binary_matrix, full_class):\n",
    "        X_train, X_test = full_binary_matrix[train_index], full_binary_matrix[test_index]\n",
    "        Y_train, Y_test = full_class[train_index], full_class[test_index]\n",
    "        clf = sklearn.linear_model.LogisticRegression(penalty='l1', C=l_r, solver='liblinear',\n",
    "                                                      class_weight='balanced').fit(X_train, Y_train)\n",
    "\n",
    "\n",
    "        class_weight = len(Y_test)/(2 * np.bincount(Y_test))\n",
    "        predicted = clf.predict_log_proba(X_test)\n",
    "        # The loss function on the test set without the L1 regularization term\n",
    "        loss = (-1.0/len(Y_test))*sum([class_weight[Y_test[i]]*((1-Y_test[i])*predicted[i,0] + Y_test[i]*predicted[i,1]) for i in range(len(Y_test))])\n",
    "        avg_loss += loss/n_splits\n",
    "    \n",
    "        avg_CV += sklearn.metrics.balanced_accuracy_score(Y_test, clf.predict(X_test))/n_splits        \n",
    "\n",
    "        total_count = [0.0, 0.0]\n",
    "        correct_count = [0.0, 0.0]\n",
    "    CV_reg_pair.append((l_r, avg_loss, avg_CV))"
   ]
  },
  {
   "cell_type": "code",
   "execution_count": 11,
   "metadata": {},
   "outputs": [
    {
     "data": {
      "image/png": "[encoded data removed]",
      "text/plain": [
       "<Figure size 432x288 with 1 Axes>"
      ]
     },
     "metadata": {
      "needs_background": "light"
     },
     "output_type": "display_data"
    }
   ],
   "source": [
    "fig1 = plt.figure(1)\n",
    "ax1 = fig1.add_subplot(111)    \n",
    "\n",
    "l1, = ax1.plot([CV_reg_pair[i][0] for i in range(len(CV_reg_pair))],\n",
    "               [CV_reg_pair[i][1] for i in range(len(CV_reg_pair))])\n",
    "\n",
    "plt.xscale('log')\n",
    "ax1.set_xlabel('regularization parameter',fontsize=16)\n",
    "ax1.set_ylabel('average loss on validation set',fontsize=16)\n",
    "plt.title('5-fold cross validation',fontsize=16)\n",
    "plt.tight_layout()"
   ]
  },
  {
   "cell_type": "code",
   "execution_count": 12,
   "metadata": {},
   "outputs": [
    {
     "data": {
      "image/png": "[encoded data removed]",
      "text/plain": [
       "<Figure size 432x288 with 1 Axes>"
      ]
     },
     "metadata": {
      "needs_background": "light"
     },
     "output_type": "display_data"
    }
   ],
   "source": [
    "fig1 = plt.figure(1)\n",
    "ax1 = fig1.add_subplot(111)    \n",
    "\n",
    "l1, = ax1.plot([CV_reg_pair[i][0] for i in range(len(CV_reg_pair))],\n",
    "               [CV_reg_pair[i][2] for i in range(len(CV_reg_pair))])\n",
    "\n",
    "plt.xscale('log')\n",
    "ax1.set_xlabel('regularization parameter',fontsize=16)\n",
    "ax1.set_ylabel('mean validation accuracy',fontsize=16)\n",
    "plt.title('5-fold cross validation',fontsize=16)\n",
    "plt.tight_layout()"
   ]
  },
  {
   "cell_type": "code",
   "execution_count": 13,
   "metadata": {},
   "outputs": [
    {
     "name": "stdout",
     "output_type": "stream",
     "text": [
      "14\n",
      "(0.15, 0.6328517465947989, 0.6335506323741619)\n"
     ]
    }
   ],
   "source": [
    "# Select the regularization parameter that minimizes the mean\n",
    "# log-loss on the test set\n",
    "print(np.argmin([CV_reg_pair[i][1] for i in range(len(CV_reg_pair))]))\n",
    "print(CV_reg_pair[np.argmin([CV_reg_pair[i][1] for i in range(len(CV_reg_pair))])])\n",
    "l_fr = CV_reg_pair[np.argmin([CV_reg_pair[i][1] for i in range(len(CV_reg_pair))])][0]"
   ]
  },
  {
   "cell_type": "code",
   "execution_count": 14,
   "metadata": {},
   "outputs": [
    {
     "name": "stdout",
     "output_type": "stream",
     "text": [
      "Mean CV training accuracy:  0.6781831006541278\n",
      "Mean CV test accuracy    :  0.6251966665071224\n"
     ]
    }
   ],
   "source": [
    "# Now perform repeated random sampling and fit the\n",
    "# logistic regression using the parameter found\n",
    "# from the grid search. At each iteration the model\n",
    "# is fit on 80% of the data and then tested on the \n",
    "# remaining 20%. The average training and test\n",
    "# accuracies are reported.\n",
    "avg_CV = 0.0\n",
    "avg_train = 0.0\n",
    "n_iter = 500\n",
    "for i in range(n_iter):\n",
    "    X_train, X_test, Y_train, Y_test = sklearn.model_selection.train_test_split(full_binary_matrix, full_class, test_size = 0.2)\n",
    "\n",
    "    clf = sklearn.linear_model.LogisticRegression(penalty='l1', C=l_fr, class_weight='balanced',\n",
    "                                                  solver='liblinear').fit(X_train, Y_train)\n",
    "\n",
    "    predicted = clf.predict_log_proba(X_test)\n",
    "    \n",
    "    # Get the class balanced test and training accuracies\n",
    "    avg_CV += sklearn.metrics.balanced_accuracy_score(Y_test, clf.predict(X_test))/n_iter\n",
    "    avg_train += sklearn.metrics.balanced_accuracy_score(Y_train, clf.predict(X_train))/n_iter\n",
    "    \n",
    "print(\"Mean CV training accuracy: \", avg_train)\n",
    "print(\"Mean CV test accuracy    : \", avg_CV)"
   ]
  },
  {
   "cell_type": "code",
   "execution_count": 15,
   "metadata": {},
   "outputs": [
    {
     "name": "stdout",
     "output_type": "stream",
     "text": [
      "Full training accuracy:  0.6759625\n"
     ]
    }
   ],
   "source": [
    "# Fit the model on the entire data set. This is used\n",
    "# To identify the motifs with greatest regression\n",
    "# coefficients.\n",
    "clf = sklearn.linear_model.LogisticRegression(penalty='l1', C=l_fr, \n",
    "                                              class_weight='balanced',\n",
    "                                              solver='liblinear').fit(full_binary_matrix,\n",
    "                                                                      full_class)\n",
    "print(\"Full training accuracy: \",\n",
    "      sklearn.metrics.balanced_accuracy_score(full_class, clf.predict(full_binary_matrix)))"
   ]
  },
  {
   "cell_type": "code",
   "execution_count": 16,
   "metadata": {},
   "outputs": [
    {
     "name": "stdout",
     "output_type": "stream",
     "text": [
      "Predict lower in leiomyoma\n",
      "NR3C1\t0.38\n",
      "IRF1\t0.33\n",
      "ETV4\t0.32\n",
      "ELF3\t0.32\n",
      "NR2F2\t0.28\n",
      "STAT1\t0.27\n",
      "PGR\t0.23\n",
      "NR1D1\t0.23\n",
      "GATA4\t0.22\n",
      "DBP\t0.19\n"
     ]
    }
   ],
   "source": [
    "# Transcription factors with the 10 most positive\n",
    "# regression coefficients (predicting lower histone\n",
    "# modifications in leiomyoma)\n",
    "print(\"Predict lower in leiomyoma\")\n",
    "for i in range(10):\n",
    "    print(\"{0}\\t{1:.2f}\".format(TF_names[np.argsort(clf.coef_[0])[-i-1]],\n",
    "                                np.sort(clf.coef_[0])[-i-1]))"
   ]
  },
  {
   "cell_type": "code",
   "execution_count": 17,
   "metadata": {},
   "outputs": [
    {
     "name": "stdout",
     "output_type": "stream",
     "text": [
      "Predict higher in leiomyoma\n",
      "SRF\t-1.52\n",
      "HOXA9\t-0.60\n",
      "TBP\t-0.42\n",
      "ARNTL\t-0.31\n",
      "HOXC9\t-0.31\n",
      "HOXA10\t-0.27\n",
      "CDX1\t-0.24\n",
      "ZNF335\t-0.22\n",
      "NFYC\t-0.19\n",
      "NKX3-2\t-0.18\n"
     ]
    }
   ],
   "source": [
    "# Transcription factors with the 10 most negative\n",
    "# regression coefficients (predicting higher histone\n",
    "# modifications in leiomyoma)\n",
    "print(\"Predict higher in leiomyoma\")\n",
    "for i in range(10):\n",
    "    print(\"{0}\\t{1:.2f}\".format(TF_names[np.argsort(clf.coef_[0])[i]],\n",
    "                                np.sort(clf.coef_[0])[i]))"
   ]
  },
  {
   "cell_type": "code",
   "execution_count": 18,
   "metadata": {},
   "outputs": [
    {
     "data": {
      "image/png": "[encoded data removed]",
      "text/plain": [
       "<Figure size 432x288 with 1 Axes>"
      ]
     },
     "metadata": {
      "needs_background": "light"
     },
     "output_type": "display_data"
    }
   ],
   "source": [
    "# Plot the regression coefficients\n",
    "fig1 = plt.figure(1)\n",
    "ax1 = fig1.add_subplot(111)    \n",
    "\n",
    "l1, = ax1.plot(np.sort(clf.coef_[0]),'.')\n",
    "\n",
    "ax1.set_xlabel('Sorted index',fontsize=16)\n",
    "ax1.set_ylabel('Regression coefficients',fontsize=16)\n",
    "plt.title('Sorted regression coefficients',fontsize=16)\n",
    "plt.tight_layout()"
   ]
  },
  {
   "cell_type": "code",
   "execution_count": null,
   "metadata": {},
   "outputs": [],
   "source": []
  }
 ],
 "metadata": {
  "kernelspec": {
   "display_name": "Python 3",
   "language": "python",
   "name": "python3"
  },
  "language_info": {
   "codemirror_mode": {
    "name": "ipython",
    "version": 3
   },
   "file_extension": ".py",
   "mimetype": "text/x-python",
   "name": "python",
   "nbconvert_exporter": "python",
   "pygments_lexer": "ipython3",
   "version": "3.7.3"
  }
 },
 "nbformat": 4,
 "nbformat_minor": 2
}
