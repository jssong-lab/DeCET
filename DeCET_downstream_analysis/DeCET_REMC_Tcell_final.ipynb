{
 "cells": [
  {
   "cell_type": "markdown",
   "metadata": {},
   "source": [
    "# DeCET application to REMC T cell samples"
   ]
  },
  {
   "cell_type": "code",
   "execution_count": 1,
   "metadata": {},
   "outputs": [],
   "source": [
    "import numpy as np\n",
    "import torch\n",
    "import scipy\n",
    "import matplotlib.pyplot as plt\n",
    "import sklearn.decomposition\n",
    "from sklearn import svm\n",
    "import scipy.spatial as sp, scipy.cluster.hierarchy as hc\n",
    "from collections import defaultdict\n",
    "from collections import Counter\n",
    "from matplotlib import rcParams\n",
    "import matplotlib.patches as mpatches\n",
    "import seaborn\n",
    "import os\n",
    "import pandas as pd\n",
    "\n",
    "seaborn.set(font='Arial')\n",
    "plt.style.use('default')\n",
    "rcParams['font.family'] = 'Arial'\n",
    "rcParams['font.size'] = 11\n",
    "rcParams['pdf.fonttype'] = 42\n",
    "plt.rcParams.update({\"text.color\": 'k'})\n",
    "\n",
    "import sys\n",
    "sys.path.append('./')\n",
    "import auxiliary_bed_functions as abf\n",
    "\n",
    "date = '7_21_20' # Change this to today's date for output names.\n",
    "\n",
    "input_dir = '../DeCET_REMC/'  # directory where the HOSVD files can be found\n",
    "file_prefix = 'DeCET_REMC_Tcell_final' # prefix used for input files\n",
    "output_dir = '../' # directory to write output"
   ]
  },
  {
   "cell_type": "code",
   "execution_count": 2,
   "metadata": {},
   "outputs": [
    {
     "name": "stdout",
     "output_type": "stream",
     "text": [
      "48 48\n"
     ]
    }
   ],
   "source": [
    "# Read in the projections from the tensor decomposition.\n",
    "fp = open( input_dir + file_prefix + '_projections.txt', 'r')\n",
    "\n",
    "index = []\n",
    "projections = []\n",
    "for line in fp:\n",
    "    l = line.strip().split(':')\n",
    "    index.append([int(l[0].split(',')[0]), int(l[0].split(',')[1])])\n",
    "    projections.append(l[1].strip().split(','))\n",
    "\n",
    "print(len(index), len(projections[0]))\n",
    "n_pt = 8\n",
    "n_as = 6\n",
    "fp.close()\n",
    "\n",
    "sample_proj = np.zeros((n_pt, n_as, len(projections[0])))\n",
    "\n",
    "for k in range(0,len(projections)):\n",
    "    sample_proj[index[k][0], index[k][1]] = projections[k]"
   ]
  },
  {
   "cell_type": "code",
   "execution_count": 3,
   "metadata": {},
   "outputs": [],
   "source": [
    "# Full and reduced labels for the REMC data files used in this study.\n",
    "# Colors for the different T cell types and assays.\n",
    "\n",
    "row_colors = [(1.0,0.0,0.0,1.0), (1.0,0.0,0.0,1.0), (1.0,0.0,0.0,1.0), \n",
    "              (0.0,0.0,1.0,1.0), (0.0,0.0,1.0,1.0), (0.0,0.0,1.0,1.0),\n",
    "              (0.0,1.0,0.0,1.0), (0.0,1.0,0.0,1.0)]\n",
    "\n",
    "sample_labels = ['E038 Primary T helper naive cells from peripheral blood',\n",
    "                 'E039 Primary T helper naive cells from peripheral blood',\n",
    "                 'E047 Primary T CD8+ naive cells from peripheral blood',\n",
    "                 'E037 Primary T helper memory cells from peripheral blood',\n",
    "                 'E040 Primary T helper memory cells from peripheral blood',\n",
    "                 'E048 Primary T CD8+ memory cells from peripheral blood',\n",
    "                 'E041 Primary T helper cells PMA-I stimulated',\n",
    "                 'E042 Primary T helper 17 cells PMA-I stimulated']\n",
    "\n",
    "sample_labels_short = ['E038', 'E039', 'E047', 'E037',\n",
    "                       'E040', 'E048', 'E041', 'E042']\n",
    "\n",
    "\n",
    "assay_colors = [(51/255,70/255,0,1.0), (204/255,20/255,204/255,1.0), (60/255,168/255,80/255,1.0),\n",
    "                (104/255,20/255,104/255,1.0), (204/255,102/255,0,1.0), (162/255,148/255,80/255,1.0)]"
   ]
  },
  {
   "cell_type": "code",
   "execution_count": 4,
   "metadata": {
    "scrolled": false
   },
   "outputs": [
    {
     "data": {
      "image/png": "[encoded data removed]",
      "text/plain": [
       "<Figure size 306x432 with 6 Axes>"
      ]
     },
     "metadata": {
      "needs_background": "light"
     },
     "output_type": "display_data"
    }
   ],
   "source": [
    "# Stacked projections\n",
    "fig = plt.figure(figsize=(4.25,6.0))\n",
    "\n",
    "n_proj = 9\n",
    "assay_name = ['H3K27ac', 'H3K27me3', 'H3K36me3',\n",
    "              'H3K9me3', 'H3K4me3', 'H3K4me1']\n",
    "ax = []\n",
    "for k in range(n_as):\n",
    "    assay = k\n",
    "    ax.append(fig.add_subplot(611+k))\n",
    "    for i in range(n_pt):\n",
    "        ax[k].plot(sample_proj[i, assay][0:n_proj],'.', markersize=2, c=row_colors[i])\n",
    "        \n",
    "    if(k == 0):\n",
    "        plt.title('Projection onto location vectors',fontsize=11,y=1.1)\n",
    "        \n",
    "    ax[k].set_ylabel(assay_name[k],fontsize=11)\n",
    "    \n",
    "    ax[k].ticklabel_format(axis='y', style='sci', scilimits=(0.0,0.0))\n",
    "    if(k < n_as-1): \n",
    "        plt.setp(ax[k].get_xticklabels(), visible=False)\n",
    "    if(k != 0):\n",
    "        ax[k].yaxis.get_offset_text().set_visible(False)\n",
    "    \n",
    "    if(k == n_as-1):\n",
    "        ax[k].set_xlabel('Location singular vector order',fontsize=11)\n",
    "        plt.setp(ax[k].get_xticklabels(), visible=True)\n",
    "        plt.xticks([2*i+1 for i in range(int(n_proj/2))], [2*(i+1) for i in range(int(n_proj/2))])\n",
    "    plt.setp(ax[k].get_xticklabels(), visible=True)\n",
    "    plt.xticks([2*i+1 for i in range(int(n_proj/2))], [2*(i+1) for i in range(int(n_proj/2))])"
   ]
  },
  {
   "cell_type": "code",
   "execution_count": 5,
   "metadata": {},
   "outputs": [
    {
     "name": "stdout",
     "output_type": "stream",
     "text": [
      "(8, 6, 9)\n"
     ]
    }
   ],
   "source": [
    "def matrix_cosine(X, Y):\n",
    "    \"\"\"Calculates the matrix cosine distance.\n",
    "    \n",
    "    The cosine distance is computed for matching\n",
    "    rows of the X and Y matrices and these values\n",
    "    are summed over the rows.\n",
    "    \"\"\"\n",
    "    K, N = X.shape\n",
    "    dist = 0.0\n",
    "    for k in range(K):\n",
    "        dist += scipy.spatial.distance.cosine(X[k,:], Y[k,:])\n",
    "    return dist\n",
    "\n",
    "# Calculate the adjusted matrix cosine distance between \n",
    "# each pair of tissue samples.\n",
    "# Select the number of location vectors to use for clustering.\n",
    "use = [i for i in range(9)]\n",
    "tissue_sample = np.copy(sample_proj[:,:,use])\n",
    "print(tissue_sample.shape)\n",
    "\n",
    "# Mean center the data across tissue samples for each assay.\n",
    "for k in range(n_as):\n",
    "    tissue_sample[:,k,:] = tissue_sample[:,k,:] - np.mean(tissue_sample[:,k,:], axis=0)\n",
    "\n",
    "D = np.zeros((n_pt, n_pt))\n",
    "for i in range(n_pt):\n",
    "    for j in range(n_pt):\n",
    "        D[i,j] = matrix_cosine(tissue_sample[i], tissue_sample[j])"
   ]
  },
  {
   "cell_type": "code",
   "execution_count": 6,
   "metadata": {},
   "outputs": [],
   "source": [
    "# Reorder the assays to group marks associated with active and repressive\n",
    "# gene transcription. This makes it easier to see trends in the projections.\n",
    "reorder_assays=[0,4,5,2,1,3]\n",
    "\n",
    "index_order = []\n",
    "col_loc_color = []\n",
    "single_col_color = []\n",
    "col_assay = []\n",
    "for l in range(len(use)):\n",
    "    if(l % 2 == 0):\n",
    "        single_col_color.append('k')\n",
    "    else:\n",
    "        single_col_color.append((0.5,0.5,0.5,1))\n",
    "    for k in range(n_as):\n",
    "        index_order.append(len(use)*k + l)\n",
    "        col_assay.append(assay_colors[reorder_assays[k]])\n",
    "    if(l % 2 == 0):\n",
    "        for k in range(n_as):\n",
    "            col_loc_color.append('k')\n",
    "    else:\n",
    "        for k in range(n_as):\n",
    "            col_loc_color.append((0.5,0.5,0.5,1))"
   ]
  },
  {
   "cell_type": "code",
   "execution_count": 7,
   "metadata": {},
   "outputs": [
    {
     "data": {
      "image/png": "[encoded data removed]",
      "text/plain": [
       "<Figure size 288x432 with 6 Axes>"
      ]
     },
     "metadata": {
      "needs_background": "light"
     },
     "output_type": "display_data"
    }
   ],
   "source": [
    "# Figure 6C (unsupervised hierarchical clustering of tissue samples)\n",
    "legend_TT = [mpatches.Patch(color=c, label=l) for c,l in zip([(1.0,0.0,0.0,1.0), (0.0,0.0,1.0,1.0), (0.0,1.0,0.0,1.0)], [\"Naive\", \"Memory\", \"PMA-I stimulated\"])]\n",
    "legend_assay = [mpatches.Patch(color=c, label=l) for c,l in zip([assay_colors[i] for i in reorder_assays], [assay_name[i] for i in reorder_assays])]\n",
    "\n",
    "# Flatten the assay-location data into a vector that\n",
    "# can be used for visualization.\n",
    "full_sample_proj = np.concatenate((sample_proj[:,reorder_assays[0],np.sort(use)],\n",
    "                                   sample_proj[:,reorder_assays[1],np.sort(use)],\n",
    "                                   sample_proj[:,reorder_assays[2],np.sort(use)],\n",
    "                                   sample_proj[:,reorder_assays[3],np.sort(use)],\n",
    "                                   sample_proj[:,reorder_assays[4],np.sort(use)],\n",
    "                                   sample_proj[:,reorder_assays[5],np.sort(use)]), axis=1)\n",
    "\n",
    "# For each assay-location vector mean center and\n",
    "# and scale to unit variance across samples.\n",
    "full_scaled_proj = np.divide(full_sample_proj - np.mean(full_sample_proj, axis=0), np.std(full_sample_proj,axis=0))\n",
    "\n",
    "# Obtain a hierarchical clustering using the adjusted\n",
    "# matrix cosine distance and an average linkage.\n",
    "linkage = hc.linkage(sp.distance.squareform(D), method='average')\n",
    "\n",
    "# Make the cluster map. \n",
    "g = seaborn.clustermap(full_scaled_proj[:,index_order], row_linkage=linkage, cmap=\"YlGnBu\",\n",
    "                       row_cluster=True, col_cluster=False, robust=False, row_colors=row_colors,\n",
    "                       col_colors=[col_assay, col_loc_color], xticklabels = [], figsize=(4,6),\n",
    "                       vmin = np.percentile(full_scaled_proj.flatten(), 10, interpolation='nearest'),\n",
    "                       vmax = np.percentile(full_scaled_proj.flatten(), 90, interpolation='nearest'),\n",
    "                       yticklabels=sample_labels_short)\n",
    "\n",
    "g.ax_heatmap.set_yticklabels(g.ax_heatmap.get_yticklabels(), rotation=0)\n",
    "g.ax_col_dendrogram.set_visible(False)\n",
    "g.cax.set_position([1.02,0.125,0.05,0.57])\n",
    "plt.setp(g.cax.get_yticklabels(), fontsize=8)\n",
    "g.cax.set_ylabel('Standardized HOSVD projection', rotation=270, fontsize=11, labelpad=17)\n",
    "        \n",
    "l2=g.ax_heatmap.legend(loc='lower left', bbox_to_anchor=(-0.29,1.077), handles=legend_TT,\n",
    "                       frameon=True, fontsize=10)\n",
    "g.cax.legend(loc='lower left', bbox_to_anchor=(-9.5,1.08), handles=legend_assay,\n",
    "                       frameon=True, fontsize=10, ncol=2)\n",
    "\n",
    "g.ax_heatmap.set_xlabel('HOSVD assay, location index', fontsize=11)\n",
    "g.ax_heatmap.set_ylabel('Tissue sample', fontsize=11)\n",
    "g.ax_heatmap.yaxis.set_label_coords(-0.36,0.5)\n",
    "g.savefig(output_dir + 'figures/figure6_panels/' + file_prefix + '_panelC_clustering_' +\n",
    "          date + '.pdf', format='pdf')"
   ]
  },
  {
   "cell_type": "code",
   "execution_count": 8,
   "metadata": {},
   "outputs": [
    {
     "data": {
      "text/plain": [
       "array([1, 2, 3, 4, 5, 6, 7, 8, 9])"
      ]
     },
     "execution_count": 8,
     "metadata": {},
     "output_type": "execute_result"
    }
   ],
   "source": [
    "np.sort(use) + 1"
   ]
  },
  {
   "cell_type": "code",
   "execution_count": 9,
   "metadata": {},
   "outputs": [
    {
     "data": {
      "image/png": "[encoded data removed]",
      "text/plain": [
       "<Figure size 504x648 with 6 Axes>"
      ]
     },
     "metadata": {
      "needs_background": "light"
     },
     "output_type": "display_data"
    }
   ],
   "source": [
    "legend_TT = [mpatches.Patch(color=c, label=l) for c,l in zip([(1.0,0.0,0.0,1.0), (0.0,0.0,1.0,1.0), (0.0,1.0,0.0,1.0)], [\"Naive\", \"Memory\", \"PMA-I stimulated\"])]\n",
    "legend_assay = [mpatches.Patch(color=c, label=l) for c,l in zip([assay_colors[i] for i in reorder_assays], [assay_name[i] for i in reorder_assays])]\n",
    "\n",
    "# Flatten the assay-location data into a vector that\n",
    "# can be used for visualization.\n",
    "full_sample_proj = np.concatenate((sample_proj[:,reorder_assays[0],np.sort(use)],\n",
    "                                   sample_proj[:,reorder_assays[1],np.sort(use)],\n",
    "                                   sample_proj[:,reorder_assays[2],np.sort(use)],\n",
    "                                   sample_proj[:,reorder_assays[3],np.sort(use)],\n",
    "                                   sample_proj[:,reorder_assays[4],np.sort(use)],\n",
    "                                   sample_proj[:,reorder_assays[5],np.sort(use)]), axis=1)\n",
    "\n",
    "# For each assay-location vector mean center and\n",
    "# and scale to unit variance across samples.\n",
    "full_scaled_proj = np.divide(full_sample_proj - np.mean(full_sample_proj, axis=0),\n",
    "                             np.std(full_sample_proj,axis=0))\n",
    "\n",
    "# Obtain a hierarchical clustering using the adjusted\n",
    "# matrix cosine distance and an average linkage.\n",
    "linkage = hc.linkage(sp.distance.squareform(D), method='average')\n",
    "\n",
    "# Make the cluster map. \n",
    "g = seaborn.clustermap(full_scaled_proj[:,index_order], row_linkage=linkage, cmap=\"YlGnBu\",\n",
    "                       row_cluster=True, col_cluster=False, robust=False, row_colors=row_colors,\n",
    "                       col_colors=[col_assay, col_loc_color], xticklabels = [], figsize=(7,9),\n",
    "                       vmin = np.percentile(full_scaled_proj.flatten(), 10, interpolation='nearest'),\n",
    "                       vmax = np.percentile(full_scaled_proj.flatten(), 90, interpolation='nearest'),\n",
    "                       yticklabels=sample_labels)\n",
    "\n",
    "g.ax_heatmap.set_yticklabels(g.ax_heatmap.get_yticklabels(), rotation=0)\n",
    "g.ax_col_dendrogram.set_visible(False)\n",
    "g.cax.set_position([1.47,0.125,0.05,0.57])\n",
    "plt.setp(g.cax.get_yticklabels(), fontsize=8)\n",
    "g.cax.set_ylabel('Standardized HOSVD projection', rotation=270, fontsize=11, labelpad=17)\n",
    "        \n",
    "l2=g.ax_heatmap.legend(loc='lower left', bbox_to_anchor=(-0.5,1.0), handles=legend_TT,\n",
    "                       frameon=True, fontsize=9)\n",
    "g.cax.legend(loc='lower left', bbox_to_anchor=(-23.6,1.08), handles=legend_assay,\n",
    "                       frameon=True, fontsize=11, ncol=3)\n",
    "\n",
    "g.ax_heatmap.set_xlabel('HOSVD assay, location index', fontsize=11)\n",
    "g.ax_heatmap.set_ylabel('Tissue sample', fontsize=11)\n",
    "g.ax_heatmap.yaxis.set_label_coords(-0.36,0.5)"
   ]
  },
  {
   "cell_type": "code",
   "execution_count": 10,
   "metadata": {},
   "outputs": [
    {
     "name": "stdout",
     "output_type": "stream",
     "text": [
      "(1440549, 48)\n"
     ]
    }
   ],
   "source": [
    "# Load in the decomposition of the genomic location space.\n",
    "U_l = torch.load(input_dir + file_prefix + '_factor_matrix_2.pt', map_location='cpu').numpy()\n",
    "\n",
    "L_genome = U_l.shape[0]\n",
    "print(U_l.shape)"
   ]
  },
  {
   "cell_type": "code",
   "execution_count": 11,
   "metadata": {},
   "outputs": [
    {
     "name": "stdout",
     "output_type": "stream",
     "text": [
      "['chr1', 145074000, 145076000]\n",
      "1547874\n"
     ]
    }
   ],
   "source": [
    "# The genomic bins used for the hg19 genome. chrY is \n",
    "# removed from the data before the HOSVD. Since chrY is\n",
    "# at the end of the chromosome list used, this is\n",
    "# not a problem.\n",
    "chr_list = abf.getChrList()\n",
    "chr_length = {'chrY': 59373566, 'chrX': 155270560, 'chr13': 115169878,\n",
    "              'chr12': 133851895, 'chr11': 135006516, 'chr10': 135534747,\n",
    "              'chr17': 81195210, 'chr16': 90354753, 'chr15': 102531392,\n",
    "              'chr14': 107349540, 'chr19': 59128983, 'chr18': 78077248,\n",
    "              'chrM': 16571, 'chr22': 51304566, 'chr20': 63025520,\n",
    "              'chr21': 48129895, 'chr7': 159138663, 'chr6': 171115067,\n",
    "              'chr5': 180915260, 'chr4': 191154276, 'chr3': 198022430,\n",
    "              'chr2': 243199373, 'chr1': 249250621, 'chr9': 141213431,\n",
    "              'chr8': 146364022}\n",
    "bin_size = 2000\n",
    "\n",
    "genomic_bin = [[] for l in range(0,1547874)]\n",
    "counter = 0\n",
    "for chrom in chr_list:\n",
    "    for l in range(0, int(np.ceil(chr_length[chrom]/bin_size))+1):\n",
    "        genomic_bin[counter] = [chrom, l*bin_size, (l+1)*bin_size]\n",
    "        counter += 1\n",
    "print(genomic_bin[72537])\n",
    "print(counter)"
   ]
  },
  {
   "cell_type": "code",
   "execution_count": 12,
   "metadata": {},
   "outputs": [
    {
     "name": "stdout",
     "output_type": "stream",
     "text": [
      "1254 positive\n",
      "2324 negative\n"
     ]
    }
   ],
   "source": [
    "# Get the bins (location vector components representing genomic regions)\n",
    "# that are significantly non-zero for the location vector that separates\n",
    "# the conditions.\n",
    "\n",
    "# Select the location vector of interest (zero indexed).\n",
    "loc_vec = 6\n",
    "\n",
    "# Set the threshold for a vector component to be considered significant.\n",
    "# The empirical distribution of component values from all vectors is used\n",
    "# to set the threshold.\n",
    "\n",
    "cut = np.percentile(np.absolute(U_l), 99.9, interpolation='nearest')\n",
    "\n",
    "significant_pos = []\n",
    "significant_neg = []\n",
    "for i in range(L_genome):\n",
    "    if(U_l[i,loc_vec] > cut):\n",
    "        significant_pos.append(i)\n",
    "    elif(U_l[i,loc_vec] < -cut):\n",
    "        significant_neg.append(i)\n",
    "        \n",
    "print(len(significant_pos), 'positive')\n",
    "print(len(significant_neg), 'negative')\n",
    "\n",
    "# Save the regions exhibiting epigenetic alterations \n",
    "# between leiomyoma and myometrium. 1-based indexing\n",
    "# is used for the file names.\n",
    "\n",
    "output_pos = open(output_dir + 'region_files/' + file_prefix + '_pos_loc' + str(loc_vec+1) + '.txt','w+')\n",
    "\n",
    "for l in range(0,len(significant_pos)):\n",
    "            output_pos.write('{}\\t{}\\t{}\\n'.format(genomic_bin[significant_pos[l]][0], genomic_bin[significant_pos[l]][1], genomic_bin[significant_pos[l]][2]))     \n",
    "output_pos.close()\n",
    "\n",
    "output_neg = open(output_dir + 'region_files/' + file_prefix + '_neg_loc' + str(loc_vec+1) + '.txt','w+')\n",
    "\n",
    "for l in range(0,len(significant_neg)):\n",
    "            output_neg.write('{}\\t{}\\t{}\\n'.format(genomic_bin[significant_neg[l]][0], genomic_bin[significant_neg[l]][1], genomic_bin[significant_neg[l]][2]))\n",
    "output_neg.close()"
   ]
  },
  {
   "cell_type": "code",
   "execution_count": null,
   "metadata": {},
   "outputs": [],
   "source": []
  },
  {
   "cell_type": "markdown",
   "metadata": {},
   "source": [
    "## Jaccard index clustering for this dataset"
   ]
  },
  {
   "cell_type": "markdown",
   "metadata": {},
   "source": [
    "broadPeak files were obtained for each sample for each of the 6 histone modifications from https://egg2.wustl.edu/roadmap/data/byFileType/peaks/consolidated/broadPeak/\n",
    "\n",
    "For each histone modifcation, the pairwise Jaccard index for samples i and j was obtained using\n",
    "\n",
    "bedtools jaccard -a i -b j\n",
    "\n",
    "The pairwise similarity matrix for each histone modification was saved as a tab separated text file with the Jaccard index for sample i and j saved as the ith line and jth column entry in the file. The samples are ordered according to the sample labels provided above."
   ]
  },
  {
   "cell_type": "code",
   "execution_count": 13,
   "metadata": {},
   "outputs": [],
   "source": [
    "# Read the Jaccard similarity matrix for a single histone.\n",
    "# The samples are ordered according to the labels above.\n",
    "similarity_matrix = pd.read_csv(input_dir + 'DeCET_REMC_Tcell_H3K4me1_broadPeak_Jaccard.txt',\n",
    "                                delimiter='\\t', header=None, index_col=None)"
   ]
  },
  {
   "cell_type": "code",
   "execution_count": 14,
   "metadata": {},
   "outputs": [
    {
     "data": {
      "text/html": [
       "<div>\n",
       "<style scoped>\n",
       "    .dataframe tbody tr th:only-of-type {\n",
       "        vertical-align: middle;\n",
       "    }\n",
       "\n",
       "    .dataframe tbody tr th {\n",
       "        vertical-align: top;\n",
       "    }\n",
       "\n",
       "    .dataframe thead th {\n",
       "        text-align: right;\n",
       "    }\n",
       "</style>\n",
       "<table border=\"1\" class=\"dataframe\">\n",
       "  <thead>\n",
       "    <tr style=\"text-align: right;\">\n",
       "      <th></th>\n",
       "      <th>0</th>\n",
       "      <th>1</th>\n",
       "      <th>2</th>\n",
       "      <th>3</th>\n",
       "      <th>4</th>\n",
       "      <th>5</th>\n",
       "      <th>6</th>\n",
       "      <th>7</th>\n",
       "    </tr>\n",
       "  </thead>\n",
       "  <tbody>\n",
       "    <tr>\n",
       "      <th>0</th>\n",
       "      <td>1.000000</td>\n",
       "      <td>0.488386</td>\n",
       "      <td>0.525208</td>\n",
       "      <td>0.513285</td>\n",
       "      <td>0.507178</td>\n",
       "      <td>0.436133</td>\n",
       "      <td>0.547323</td>\n",
       "      <td>0.441129</td>\n",
       "    </tr>\n",
       "    <tr>\n",
       "      <th>1</th>\n",
       "      <td>0.488386</td>\n",
       "      <td>1.000000</td>\n",
       "      <td>0.521134</td>\n",
       "      <td>0.495235</td>\n",
       "      <td>0.490658</td>\n",
       "      <td>0.433074</td>\n",
       "      <td>0.558467</td>\n",
       "      <td>0.437126</td>\n",
       "    </tr>\n",
       "    <tr>\n",
       "      <th>2</th>\n",
       "      <td>0.525208</td>\n",
       "      <td>0.521134</td>\n",
       "      <td>1.000000</td>\n",
       "      <td>0.529493</td>\n",
       "      <td>0.528111</td>\n",
       "      <td>0.451936</td>\n",
       "      <td>0.582592</td>\n",
       "      <td>0.460037</td>\n",
       "    </tr>\n",
       "    <tr>\n",
       "      <th>3</th>\n",
       "      <td>0.513285</td>\n",
       "      <td>0.495235</td>\n",
       "      <td>0.529493</td>\n",
       "      <td>1.000000</td>\n",
       "      <td>0.556100</td>\n",
       "      <td>0.456045</td>\n",
       "      <td>0.577762</td>\n",
       "      <td>0.485777</td>\n",
       "    </tr>\n",
       "    <tr>\n",
       "      <th>4</th>\n",
       "      <td>0.507178</td>\n",
       "      <td>0.490658</td>\n",
       "      <td>0.528111</td>\n",
       "      <td>0.556100</td>\n",
       "      <td>1.000000</td>\n",
       "      <td>0.433164</td>\n",
       "      <td>0.571265</td>\n",
       "      <td>0.484712</td>\n",
       "    </tr>\n",
       "    <tr>\n",
       "      <th>5</th>\n",
       "      <td>0.436133</td>\n",
       "      <td>0.433074</td>\n",
       "      <td>0.451936</td>\n",
       "      <td>0.456045</td>\n",
       "      <td>0.433164</td>\n",
       "      <td>1.000000</td>\n",
       "      <td>0.474478</td>\n",
       "      <td>0.397084</td>\n",
       "    </tr>\n",
       "    <tr>\n",
       "      <th>6</th>\n",
       "      <td>0.547323</td>\n",
       "      <td>0.558467</td>\n",
       "      <td>0.582592</td>\n",
       "      <td>0.577762</td>\n",
       "      <td>0.571265</td>\n",
       "      <td>0.474478</td>\n",
       "      <td>1.000000</td>\n",
       "      <td>0.503930</td>\n",
       "    </tr>\n",
       "    <tr>\n",
       "      <th>7</th>\n",
       "      <td>0.441129</td>\n",
       "      <td>0.437124</td>\n",
       "      <td>0.460037</td>\n",
       "      <td>0.485777</td>\n",
       "      <td>0.484709</td>\n",
       "      <td>0.397084</td>\n",
       "      <td>0.503930</td>\n",
       "      <td>1.000000</td>\n",
       "    </tr>\n",
       "  </tbody>\n",
       "</table>\n",
       "</div>"
      ],
      "text/plain": [
       "          0         1         2         3         4         5         6  \\\n",
       "0  1.000000  0.488386  0.525208  0.513285  0.507178  0.436133  0.547323   \n",
       "1  0.488386  1.000000  0.521134  0.495235  0.490658  0.433074  0.558467   \n",
       "2  0.525208  0.521134  1.000000  0.529493  0.528111  0.451936  0.582592   \n",
       "3  0.513285  0.495235  0.529493  1.000000  0.556100  0.456045  0.577762   \n",
       "4  0.507178  0.490658  0.528111  0.556100  1.000000  0.433164  0.571265   \n",
       "5  0.436133  0.433074  0.451936  0.456045  0.433164  1.000000  0.474478   \n",
       "6  0.547323  0.558467  0.582592  0.577762  0.571265  0.474478  1.000000   \n",
       "7  0.441129  0.437124  0.460037  0.485777  0.484709  0.397084  0.503930   \n",
       "\n",
       "          7  \n",
       "0  0.441129  \n",
       "1  0.437126  \n",
       "2  0.460037  \n",
       "3  0.485777  \n",
       "4  0.484712  \n",
       "5  0.397084  \n",
       "6  0.503930  \n",
       "7  1.000000  "
      ]
     },
     "execution_count": 14,
     "metadata": {},
     "output_type": "execute_result"
    }
   ],
   "source": [
    "similarity_matrix.iloc[:,:-1]"
   ]
  },
  {
   "cell_type": "code",
   "execution_count": 15,
   "metadata": {},
   "outputs": [],
   "source": [
    "# The Jaccard similarity matrix must be symmetric for clustering. \n",
    "# There are small differences in the Jaccard index calculated by \n",
    "# switching the file order. This is corrected here by setting the\n",
    "# entries above the diagonal to the corresponding entries of the\n",
    "# transposed similarity matrix.\n",
    "similarity_matrix_corrected = np.copy(similarity_matrix.values[:,:-1])\n",
    "for i in range(similarity_matrix_corrected.shape[0]):\n",
    "    for j in range(similarity_matrix_corrected.shape[1]):\n",
    "        similarity_matrix_corrected[i,j] = similarity_matrix_corrected[j,i]\n",
    "del similarity_matrix"
   ]
  },
  {
   "cell_type": "code",
   "execution_count": 16,
   "metadata": {},
   "outputs": [
    {
     "data": {
      "text/html": [
       "<div>\n",
       "<style scoped>\n",
       "    .dataframe tbody tr th:only-of-type {\n",
       "        vertical-align: middle;\n",
       "    }\n",
       "\n",
       "    .dataframe tbody tr th {\n",
       "        vertical-align: top;\n",
       "    }\n",
       "\n",
       "    .dataframe thead th {\n",
       "        text-align: right;\n",
       "    }\n",
       "</style>\n",
       "<table border=\"1\" class=\"dataframe\">\n",
       "  <thead>\n",
       "    <tr style=\"text-align: right;\">\n",
       "      <th></th>\n",
       "      <th>0</th>\n",
       "      <th>1</th>\n",
       "      <th>2</th>\n",
       "      <th>3</th>\n",
       "      <th>4</th>\n",
       "      <th>5</th>\n",
       "      <th>6</th>\n",
       "      <th>7</th>\n",
       "    </tr>\n",
       "  </thead>\n",
       "  <tbody>\n",
       "    <tr>\n",
       "      <th>0</th>\n",
       "      <td>1.000000</td>\n",
       "      <td>0.488386</td>\n",
       "      <td>0.525208</td>\n",
       "      <td>0.513285</td>\n",
       "      <td>0.507178</td>\n",
       "      <td>0.436133</td>\n",
       "      <td>0.547323</td>\n",
       "      <td>0.441129</td>\n",
       "    </tr>\n",
       "    <tr>\n",
       "      <th>1</th>\n",
       "      <td>0.488386</td>\n",
       "      <td>1.000000</td>\n",
       "      <td>0.521134</td>\n",
       "      <td>0.495235</td>\n",
       "      <td>0.490658</td>\n",
       "      <td>0.433074</td>\n",
       "      <td>0.558467</td>\n",
       "      <td>0.437124</td>\n",
       "    </tr>\n",
       "    <tr>\n",
       "      <th>2</th>\n",
       "      <td>0.525208</td>\n",
       "      <td>0.521134</td>\n",
       "      <td>1.000000</td>\n",
       "      <td>0.529493</td>\n",
       "      <td>0.528111</td>\n",
       "      <td>0.451936</td>\n",
       "      <td>0.582592</td>\n",
       "      <td>0.460037</td>\n",
       "    </tr>\n",
       "    <tr>\n",
       "      <th>3</th>\n",
       "      <td>0.513285</td>\n",
       "      <td>0.495235</td>\n",
       "      <td>0.529493</td>\n",
       "      <td>1.000000</td>\n",
       "      <td>0.556100</td>\n",
       "      <td>0.456045</td>\n",
       "      <td>0.577762</td>\n",
       "      <td>0.485777</td>\n",
       "    </tr>\n",
       "    <tr>\n",
       "      <th>4</th>\n",
       "      <td>0.507178</td>\n",
       "      <td>0.490658</td>\n",
       "      <td>0.528111</td>\n",
       "      <td>0.556100</td>\n",
       "      <td>1.000000</td>\n",
       "      <td>0.433164</td>\n",
       "      <td>0.571265</td>\n",
       "      <td>0.484709</td>\n",
       "    </tr>\n",
       "    <tr>\n",
       "      <th>5</th>\n",
       "      <td>0.436133</td>\n",
       "      <td>0.433074</td>\n",
       "      <td>0.451936</td>\n",
       "      <td>0.456045</td>\n",
       "      <td>0.433164</td>\n",
       "      <td>1.000000</td>\n",
       "      <td>0.474478</td>\n",
       "      <td>0.397084</td>\n",
       "    </tr>\n",
       "    <tr>\n",
       "      <th>6</th>\n",
       "      <td>0.547323</td>\n",
       "      <td>0.558467</td>\n",
       "      <td>0.582592</td>\n",
       "      <td>0.577762</td>\n",
       "      <td>0.571265</td>\n",
       "      <td>0.474478</td>\n",
       "      <td>1.000000</td>\n",
       "      <td>0.503930</td>\n",
       "    </tr>\n",
       "    <tr>\n",
       "      <th>7</th>\n",
       "      <td>0.441129</td>\n",
       "      <td>0.437124</td>\n",
       "      <td>0.460037</td>\n",
       "      <td>0.485777</td>\n",
       "      <td>0.484709</td>\n",
       "      <td>0.397084</td>\n",
       "      <td>0.503930</td>\n",
       "      <td>1.000000</td>\n",
       "    </tr>\n",
       "  </tbody>\n",
       "</table>\n",
       "</div>"
      ],
      "text/plain": [
       "          0         1         2         3         4         5         6  \\\n",
       "0  1.000000  0.488386  0.525208  0.513285  0.507178  0.436133  0.547323   \n",
       "1  0.488386  1.000000  0.521134  0.495235  0.490658  0.433074  0.558467   \n",
       "2  0.525208  0.521134  1.000000  0.529493  0.528111  0.451936  0.582592   \n",
       "3  0.513285  0.495235  0.529493  1.000000  0.556100  0.456045  0.577762   \n",
       "4  0.507178  0.490658  0.528111  0.556100  1.000000  0.433164  0.571265   \n",
       "5  0.436133  0.433074  0.451936  0.456045  0.433164  1.000000  0.474478   \n",
       "6  0.547323  0.558467  0.582592  0.577762  0.571265  0.474478  1.000000   \n",
       "7  0.441129  0.437124  0.460037  0.485777  0.484709  0.397084  0.503930   \n",
       "\n",
       "          7  \n",
       "0  0.441129  \n",
       "1  0.437124  \n",
       "2  0.460037  \n",
       "3  0.485777  \n",
       "4  0.484709  \n",
       "5  0.397084  \n",
       "6  0.503930  \n",
       "7  1.000000  "
      ]
     },
     "execution_count": 16,
     "metadata": {},
     "output_type": "execute_result"
    }
   ],
   "source": [
    "pd.DataFrame(similarity_matrix_corrected)"
   ]
  },
  {
   "cell_type": "code",
   "execution_count": 17,
   "metadata": {},
   "outputs": [
    {
     "data": {
      "image/png": "[encoded data removed]",
      "text/plain": [
       "<Figure size 432x504 with 6 Axes>"
      ]
     },
     "metadata": {
      "needs_background": "light"
     },
     "output_type": "display_data"
    }
   ],
   "source": [
    "# Cluster the tissue samples based on the Jaccard similarity matrix for \n",
    "# a given histone modification. \n",
    "legend_TT = [mpatches.Patch(color=c, label=l) for c,l in zip([(1.0,0.0,0.0,1.0), (0.0,0.0,1.0,1.0), (0.0,1.0,0.0,1.0)], [\"Naive\", \"Memory\", \"PMA-I stimulated\"])]\n",
    "linkage = hc.linkage(sp.distance.squareform(1 - similarity_matrix_corrected), method='complete')\n",
    "\n",
    "g = seaborn.clustermap(1 - similarity_matrix_corrected, row_linkage=linkage, col_linkage=linkage, cmap=\"YlGnBu\", \n",
    "                       row_cluster=True, col_cluster=True, robust=False, row_colors=row_colors, col_colors=row_colors,\n",
    "                       xticklabels=sample_labels_short, yticklabels=sample_labels_short, figsize=(6,7))\n",
    "\n",
    "g.ax_heatmap.set_xticklabels(g.ax_heatmap.get_xticklabels(), fontsize=10, rotation=90)\n",
    "g.ax_heatmap.set_yticklabels(g.ax_heatmap.get_yticklabels(), fontsize=10, rotation=0)\n",
    "g.cax.set_position([1.0,0.125,0.05,0.57])\n",
    "plt.setp(g.cax.get_yticklabels(), fontsize=8)\n",
    "g.cax.set_ylabel('H3K4me1 Jaccard distance', rotation=270, fontsize=12, labelpad=17)\n",
    "\n",
    "l2=g.ax_heatmap.legend(loc='lower left', bbox_to_anchor=(-0.42,1.05), handles=legend_TT,\n",
    "                       frameon=True, fontsize=11)\n",
    "\n",
    "g.ax_heatmap.set_xlabel('Tissue sample', fontsize=11)\n",
    "g.ax_heatmap.set_ylabel('Tissue sample', fontsize=11)\n",
    "g.ax_heatmap.xaxis.set_label_coords(0.5,1.38)\n",
    "g.ax_heatmap.yaxis.set_label_coords(-0.38,0.5)"
   ]
  },
  {
   "cell_type": "code",
   "execution_count": 18,
   "metadata": {},
   "outputs": [],
   "source": [
    "def quantile_normalize(*args):\n",
    "    \"\"\"Quantile normalize a set of equal length lists.\n",
    "    \n",
    "    The lists are assumed to be of the same length.\n",
    "    Quantile normalization is performed by sorting\n",
    "    each of the lists and taking the mean of the\n",
    "    sorted lists. The entry with the greatest value \n",
    "    for each list is then set to the mean of the \n",
    "    greatest values from all the lists. This is repeated\n",
    "    for the 2nd greatest entry, and so on.\n",
    "    \"\"\"\n",
    "    K = len(args)\n",
    "    X_argsort = np.zeros((K, len(args[0])), dtype=np.int)\n",
    "    q_norm = np.zeros(len(args[0]))\n",
    "    X_qnorm = np.zeros((K, len(args[0])))\n",
    "    \n",
    "    for i in range(K):\n",
    "        q_norm += np.sort(args[i])\n",
    "    q_norm /= K\n",
    "    \n",
    "    for i in range(K):\n",
    "        X_argsort[i] = np.argsort(args[i])\n",
    "        for j in range(len(args[i])):\n",
    "            X_qnorm[i, X_argsort[i,j]] = q_norm[j]\n",
    "    \n",
    "    return [X_qnorm[i,:] for i in range(K)]"
   ]
  },
  {
   "cell_type": "code",
   "execution_count": 19,
   "metadata": {},
   "outputs": [],
   "source": [
    "# Cluster using a combined Jaccard similarity.\n",
    "# Read the Jaccard index similarity matrix for each histone modification.\n",
    "jaccard_similarity_H3K27ac = pd.read_csv(input_dir + 'DeCET_REMC_Tcell_H3K27ac_broadPeak_Jaccard.txt', sep = '\\t',\n",
    "                                header = None, index_col = None)\n",
    "jaccard_similarity_H3K27ac = pd.DataFrame(jaccard_similarity_H3K27ac.values[:,:-1])\n",
    "\n",
    "jaccard_similarity_H3K4me3 = pd.read_csv(input_dir + 'DeCET_REMC_Tcell_H3K4me3_broadPeak_Jaccard.txt', sep = '\\t',\n",
    "                                header = None, index_col = None)\n",
    "jaccard_similarity_H3K4me3 = pd.DataFrame(jaccard_similarity_H3K4me3.values[:,:-1])\n",
    "\n",
    "jaccard_similarity_H3K4me1 = pd.read_csv(input_dir + 'DeCET_REMC_Tcell_H3K4me1_broadPeak_Jaccard.txt', sep = '\\t',\n",
    "                                header = None, index_col = None)\n",
    "jaccard_similarity_H3K4me1 = pd.DataFrame(jaccard_similarity_H3K4me1.values[:,:-1])\n",
    "\n",
    "jaccard_similarity_H3K27me3 = pd.read_csv(input_dir + 'DeCET_REMC_Tcell_H3K27me3_broadPeak_Jaccard.txt', sep = '\\t',\n",
    "                                header = None, index_col = None)\n",
    "jaccard_similarity_H3K27me3 = pd.DataFrame(jaccard_similarity_H3K27me3.values[:,:-1])\n",
    "\n",
    "jaccard_similarity_H3K9me3 = pd.read_csv(input_dir + 'DeCET_REMC_Tcell_H3K9me3_broadPeak_Jaccard.txt', sep = '\\t',\n",
    "                                header = None, index_col = None)\n",
    "jaccard_similarity_H3K9me3 = pd.DataFrame(jaccard_similarity_H3K9me3.values[:,:-1])\n",
    "\n",
    "jaccard_similarity_H3K36me3 = pd.read_csv(input_dir + 'DeCET_REMC_Tcell_H3K36me3_broadPeak_Jaccard.txt', sep = '\\t',\n",
    "                                header = None, index_col = None)\n",
    "jaccard_similarity_H3K36me3 = pd.DataFrame(jaccard_similarity_H3K36me3.values[:,:-1])"
   ]
  },
  {
   "cell_type": "code",
   "execution_count": 20,
   "metadata": {},
   "outputs": [],
   "source": [
    "# Obtain a combined similarity by summing the Jaccard\n",
    "# similarities for each histone modification.\n",
    "similarity_matrix_combined = jaccard_similarity_H3K27ac.values + \\\n",
    "                             jaccard_similarity_H3K4me3.values + \\\n",
    "                             jaccard_similarity_H3K4me1.values + \\\n",
    "                             jaccard_similarity_H3K27me3.values + \\\n",
    "                             jaccard_similarity_H3K9me3.values + \\\n",
    "                             jaccard_similarity_H3K36me3.values"
   ]
  },
  {
   "cell_type": "code",
   "execution_count": 21,
   "metadata": {},
   "outputs": [
    {
     "data": {
      "text/html": [
       "<div>\n",
       "<style scoped>\n",
       "    .dataframe tbody tr th:only-of-type {\n",
       "        vertical-align: middle;\n",
       "    }\n",
       "\n",
       "    .dataframe tbody tr th {\n",
       "        vertical-align: top;\n",
       "    }\n",
       "\n",
       "    .dataframe thead th {\n",
       "        text-align: right;\n",
       "    }\n",
       "</style>\n",
       "<table border=\"1\" class=\"dataframe\">\n",
       "  <thead>\n",
       "    <tr style=\"text-align: right;\">\n",
       "      <th></th>\n",
       "      <th>0</th>\n",
       "      <th>1</th>\n",
       "      <th>2</th>\n",
       "      <th>3</th>\n",
       "      <th>4</th>\n",
       "      <th>5</th>\n",
       "      <th>6</th>\n",
       "      <th>7</th>\n",
       "    </tr>\n",
       "  </thead>\n",
       "  <tbody>\n",
       "    <tr>\n",
       "      <th>0</th>\n",
       "      <td>6.000000</td>\n",
       "      <td>2.068946</td>\n",
       "      <td>1.948239</td>\n",
       "      <td>1.909435</td>\n",
       "      <td>1.963061</td>\n",
       "      <td>1.807834</td>\n",
       "      <td>2.224192</td>\n",
       "      <td>1.954485</td>\n",
       "    </tr>\n",
       "    <tr>\n",
       "      <th>1</th>\n",
       "      <td>2.068950</td>\n",
       "      <td>6.000000</td>\n",
       "      <td>2.125659</td>\n",
       "      <td>2.067234</td>\n",
       "      <td>2.049911</td>\n",
       "      <td>1.921228</td>\n",
       "      <td>2.780007</td>\n",
       "      <td>2.319098</td>\n",
       "    </tr>\n",
       "    <tr>\n",
       "      <th>2</th>\n",
       "      <td>1.948239</td>\n",
       "      <td>2.125656</td>\n",
       "      <td>6.000000</td>\n",
       "      <td>1.912967</td>\n",
       "      <td>2.004097</td>\n",
       "      <td>1.820354</td>\n",
       "      <td>2.306042</td>\n",
       "      <td>2.009166</td>\n",
       "    </tr>\n",
       "    <tr>\n",
       "      <th>3</th>\n",
       "      <td>1.909437</td>\n",
       "      <td>2.067234</td>\n",
       "      <td>1.912969</td>\n",
       "      <td>6.000000</td>\n",
       "      <td>2.075308</td>\n",
       "      <td>1.923010</td>\n",
       "      <td>2.297569</td>\n",
       "      <td>2.059189</td>\n",
       "    </tr>\n",
       "    <tr>\n",
       "      <th>4</th>\n",
       "      <td>1.963064</td>\n",
       "      <td>2.049910</td>\n",
       "      <td>2.004099</td>\n",
       "      <td>2.075308</td>\n",
       "      <td>6.000000</td>\n",
       "      <td>1.889760</td>\n",
       "      <td>2.333827</td>\n",
       "      <td>2.067805</td>\n",
       "    </tr>\n",
       "    <tr>\n",
       "      <th>5</th>\n",
       "      <td>1.807835</td>\n",
       "      <td>1.921226</td>\n",
       "      <td>1.820354</td>\n",
       "      <td>1.923009</td>\n",
       "      <td>1.889760</td>\n",
       "      <td>6.000000</td>\n",
       "      <td>2.080108</td>\n",
       "      <td>1.872099</td>\n",
       "    </tr>\n",
       "    <tr>\n",
       "      <th>6</th>\n",
       "      <td>2.224197</td>\n",
       "      <td>2.780012</td>\n",
       "      <td>2.306049</td>\n",
       "      <td>2.297574</td>\n",
       "      <td>2.333832</td>\n",
       "      <td>2.080114</td>\n",
       "      <td>6.000000</td>\n",
       "      <td>2.579020</td>\n",
       "    </tr>\n",
       "    <tr>\n",
       "      <th>7</th>\n",
       "      <td>1.954487</td>\n",
       "      <td>2.319094</td>\n",
       "      <td>2.009168</td>\n",
       "      <td>2.059189</td>\n",
       "      <td>2.067801</td>\n",
       "      <td>1.872099</td>\n",
       "      <td>2.579012</td>\n",
       "      <td>6.000000</td>\n",
       "    </tr>\n",
       "  </tbody>\n",
       "</table>\n",
       "</div>"
      ],
      "text/plain": [
       "          0         1         2         3         4         5         6  \\\n",
       "0  6.000000  2.068946  1.948239  1.909435  1.963061  1.807834  2.224192   \n",
       "1  2.068950  6.000000  2.125659  2.067234  2.049911  1.921228  2.780007   \n",
       "2  1.948239  2.125656  6.000000  1.912967  2.004097  1.820354  2.306042   \n",
       "3  1.909437  2.067234  1.912969  6.000000  2.075308  1.923010  2.297569   \n",
       "4  1.963064  2.049910  2.004099  2.075308  6.000000  1.889760  2.333827   \n",
       "5  1.807835  1.921226  1.820354  1.923009  1.889760  6.000000  2.080108   \n",
       "6  2.224197  2.780012  2.306049  2.297574  2.333832  2.080114  6.000000   \n",
       "7  1.954487  2.319094  2.009168  2.059189  2.067801  1.872099  2.579012   \n",
       "\n",
       "          7  \n",
       "0  1.954485  \n",
       "1  2.319098  \n",
       "2  2.009166  \n",
       "3  2.059189  \n",
       "4  2.067805  \n",
       "5  1.872099  \n",
       "6  2.579020  \n",
       "7  6.000000  "
      ]
     },
     "execution_count": 21,
     "metadata": {},
     "output_type": "execute_result"
    }
   ],
   "source": [
    "pd.DataFrame(similarity_matrix_combined)"
   ]
  },
  {
   "cell_type": "code",
   "execution_count": 22,
   "metadata": {},
   "outputs": [],
   "source": [
    "# Correct entries that are not symmetric using the same approach\n",
    "# as above and take the average similarity across histones.\n",
    "for i in range(similarity_matrix_combined.shape[0]):\n",
    "    for j in range(similarity_matrix_combined.shape[1]):\n",
    "        similarity_matrix_combined[i,j] = similarity_matrix_combined[j,i]\n",
    "similarity_matrix_combined /= 6.0"
   ]
  },
  {
   "cell_type": "code",
   "execution_count": 23,
   "metadata": {},
   "outputs": [
    {
     "data": {
      "image/png": "[encoded data removed]",
      "text/plain": [
       "<Figure size 432x504 with 6 Axes>"
      ]
     },
     "metadata": {
      "needs_background": "light"
     },
     "output_type": "display_data"
    }
   ],
   "source": [
    "# Cluster based on the Jaccard similarity summed across histones.\n",
    "legend_TT = [mpatches.Patch(color=c, label=l) for c,l in zip([(1.0,0.0,0.0,1.0), (0.0,0.0,1.0,1.0), (0.0,1.0,0.0,1.0)], [\"Naive\", \"Memory\", \"PMA-I stimulated\"])]\n",
    "linkage = hc.linkage(sp.distance.squareform(1 - similarity_matrix_combined), method='complete')\n",
    "\n",
    "g = seaborn.clustermap(1 - similarity_matrix_combined, row_linkage=linkage, col_linkage=linkage, cmap=\"YlGnBu\", \n",
    "                       row_cluster=True, col_cluster=True, robust=False, row_colors=row_colors, col_colors=row_colors,\n",
    "                       xticklabels=sample_labels_short, yticklabels=sample_labels_short, figsize=(6,7))\n",
    "\n",
    "g.ax_heatmap.set_xticklabels(g.ax_heatmap.get_xticklabels(), fontsize=10, rotation=90)\n",
    "g.ax_heatmap.set_yticklabels(g.ax_heatmap.get_yticklabels(), fontsize=10, rotation=0)\n",
    "g.cax.set_position([1.0,0.125,0.05,0.57])\n",
    "plt.setp(g.cax.get_yticklabels(), fontsize=8)\n",
    "g.cax.set_ylabel('Summed Jaccard distance', rotation=270, fontsize=12, labelpad=17)\n",
    "\n",
    "l2=g.ax_heatmap.legend(loc='lower left', bbox_to_anchor=(-0.42,1.05), handles=legend_TT,\n",
    "                       frameon=True, fontsize=11)\n",
    "\n",
    "g.ax_heatmap.set_xlabel('Tissue sample', fontsize=11)\n",
    "g.ax_heatmap.set_ylabel('Tissue sample', fontsize=11)\n",
    "g.ax_heatmap.xaxis.set_label_coords(0.5,1.38)\n",
    "g.ax_heatmap.yaxis.set_label_coords(-0.38,0.5)"
   ]
  },
  {
   "cell_type": "code",
   "execution_count": 24,
   "metadata": {},
   "outputs": [],
   "source": [
    "# Apply the quantile normalization to the Jaccard\n",
    "# similarities for each histone.\n",
    "jaccard_similarity_qnorm = quantile_normalize(jaccard_similarity_H3K27ac.values.flatten(),\n",
    "                                              jaccard_similarity_H3K4me3.values.flatten(),\n",
    "                                              jaccard_similarity_H3K4me1.values.flatten(),\n",
    "                                              jaccard_similarity_H3K27me3.values.flatten(),\n",
    "                                              jaccard_similarity_H3K9me3.values.flatten(),\n",
    "                                              jaccard_similarity_H3K36me3.values.flatten())\n",
    "\n",
    "for k in range(n_as):\n",
    "    jaccard_similarity_qnorm[k] = np.reshape(jaccard_similarity_qnorm[k], jaccard_similarity_H3K27ac.shape)"
   ]
  },
  {
   "cell_type": "code",
   "execution_count": 25,
   "metadata": {},
   "outputs": [],
   "source": [
    "# Obtain a combined similarity by summing the\n",
    "# quantile normalized similarities across histones.\n",
    "similarity_matrix_combined_qnorm = sum(jaccard_similarity_qnorm)"
   ]
  },
  {
   "cell_type": "code",
   "execution_count": 26,
   "metadata": {},
   "outputs": [],
   "source": [
    "# Correct entries that are not symmetric using the same approach\n",
    "# as above and take the average similarity across histones.\n",
    "for i in range(similarity_matrix_combined_qnorm.shape[0]):\n",
    "    for j in range(similarity_matrix_combined_qnorm.shape[1]):\n",
    "        similarity_matrix_combined_qnorm[i,j] = similarity_matrix_combined_qnorm[j,i]\n",
    "similarity_matrix_combined_qnorm /= 6.0"
   ]
  },
  {
   "cell_type": "code",
   "execution_count": 27,
   "metadata": {},
   "outputs": [
    {
     "data": {
      "image/png": "[encoded data removed]",
      "text/plain": [
       "<Figure size 432x504 with 6 Axes>"
      ]
     },
     "metadata": {
      "needs_background": "light"
     },
     "output_type": "display_data"
    }
   ],
   "source": [
    "# Cluster based on the quantile normalized Jaccard \n",
    "# similarity summed across histones. \n",
    "legend_TT = [mpatches.Patch(color=c, label=l) for c,l in zip([(1.0,0.0,0.0,1.0), (0.0,0.0,1.0,1.0), (0.0,1.0,0.0,1.0)], [\"Naive\", \"Memory\", \"PMA-I stimulated\"])]\n",
    "linkage = hc.linkage(sp.distance.squareform(1 - similarity_matrix_combined_qnorm), method='complete')\n",
    "\n",
    "g = seaborn.clustermap(1 - similarity_matrix_combined_qnorm, row_linkage=linkage, col_linkage=linkage, cmap=\"YlGnBu\", \n",
    "                       row_cluster=True, col_cluster=True, robust=False, row_colors=row_colors, col_colors=row_colors,\n",
    "                       xticklabels=sample_labels_short, yticklabels=sample_labels_short, figsize=(6,7))\n",
    "\n",
    "g.ax_heatmap.set_xticklabels(g.ax_heatmap.get_xticklabels(), fontsize=10, rotation=90)\n",
    "g.ax_heatmap.set_yticklabels(g.ax_heatmap.get_yticklabels(), fontsize=10, rotation=0)\n",
    "g.cax.set_position([1.0,0.125,0.05,0.57])\n",
    "plt.setp(g.cax.get_yticklabels(), fontsize=8)\n",
    "g.cax.set_ylabel('Summed quantile normalized Jaccard distance', rotation=270, fontsize=12, labelpad=17)\n",
    "\n",
    "l2=g.ax_heatmap.legend(loc='lower left', bbox_to_anchor=(-0.42,1.05), handles=legend_TT,\n",
    "                       frameon=True, fontsize=11)\n",
    "\n",
    "g.ax_heatmap.set_xlabel('Tissue sample', fontsize=11)\n",
    "g.ax_heatmap.set_ylabel('Tissue sample', fontsize=11)\n",
    "g.ax_heatmap.xaxis.set_label_coords(0.5,1.38)\n",
    "g.ax_heatmap.yaxis.set_label_coords(-0.38,0.5)"
   ]
  },
  {
   "cell_type": "code",
   "execution_count": 28,
   "metadata": {},
   "outputs": [
    {
     "data": {
      "image/png": "[encoded data removed]",
      "text/plain": [
       "<Figure size 129.6x396 with 2 Axes>"
      ]
     },
     "metadata": {
      "needs_background": "light"
     },
     "output_type": "display_data"
    }
   ],
   "source": [
    "# Figure 8C (Jaccard index clustering of REMC T cell sampels)\n",
    "# Plot the dendrogram for the combined quantile normalized clustering.\n",
    "fig = plt.figure(figsize=(1.8,5.5))\n",
    "ax_den = fig.add_axes([0.0,0.05,1.2,0.2])\n",
    "\n",
    "linkage = hc.linkage(sp.distance.squareform(1 - similarity_matrix_combined_qnorm), method='complete')\n",
    "\n",
    "d = scipy.cluster.hierarchy.dendrogram(linkage, labels=None, leaf_rotation=0, no_labels=True,\n",
    "                                       orientation=\"top\", color_threshold=0, above_threshold_color='k')\n",
    "\n",
    "ax_den.set(frame_on=False)\n",
    "ax_den.xaxis.set_ticks([])\n",
    "ax_den.yaxis.set_ticks([])\n",
    "ax_den.set_xlabel('Tissue sample', fontsize=12)\n",
    "ax_den.xaxis.set_label_position('top') \n",
    "\n",
    "ax_col=fig.add_axes([0.0,0.0,1.2,0.05])\n",
    "\n",
    "for i, leaf in enumerate(scipy.cluster.hierarchy.leaves_list(linkage)):\n",
    "    ax_col.add_patch(mpatches.Rectangle((i/n_pt,0.0), 1.0/n_pt, 1.0,  ec=None, fc=row_colors[leaf]))\n",
    "\n",
    "ax_col.yaxis.set_ticks([])\n",
    "ax_col.xaxis.set_ticks_position('bottom')\n",
    "ax_col.xaxis.set_ticks([i/n_pt + 0.5/n_pt for i in range(n_pt)])\n",
    "ax_col.xaxis.set_ticklabels([sample_labels_short[i] for i in scipy.cluster.hierarchy.leaves_list(linkage)], fontsize=10, rotation=270, ha='center')\n",
    "ax_col.set(frame_on=False)\n",
    "\n",
    "legend_TT = [mpatches.Patch(color=c, label=l) for c,l in zip([(1.0,0.0,0.0,1.0), (0.0,0.0,1.0,1.0), (0.0,1.0,0.0,1.0)], [\"Naive\", \"Memory\", \"PMA-I stimulated\"])]\n",
    "ax_col.legend(loc='lower left', bbox_to_anchor=(1.0,1.0), handles=legend_TT,\n",
    "              frameon=True, fontsize=11)\n",
    "\n",
    "ax_col.set_xlim(ax_col.get_xlim()[::-1])\n",
    "ax_den.set_xlim(ax_den.get_xlim()[::-1])\n",
    "\n",
    "g.savefig(output_dir + 'figures/figure8_panels/' + file_prefix + '_panelC_Jaccard_clustering_' +\n",
    "          date + '.pdf', format='pdf', bbox_inches='tight')"
   ]
  },
  {
   "cell_type": "code",
   "execution_count": null,
   "metadata": {},
   "outputs": [],
   "source": []
  }
 ],
 "metadata": {
  "kernelspec": {
   "display_name": "Python 3",
   "language": "python",
   "name": "python3"
  },
  "language_info": {
   "codemirror_mode": {
    "name": "ipython",
    "version": 3
   },
   "file_extension": ".py",
   "mimetype": "text/x-python",
   "name": "python",
   "nbconvert_exporter": "python",
   "pygments_lexer": "ipython3",
   "version": "3.7.3"
  }
 },
 "nbformat": 4,
 "nbformat_minor": 2
}
