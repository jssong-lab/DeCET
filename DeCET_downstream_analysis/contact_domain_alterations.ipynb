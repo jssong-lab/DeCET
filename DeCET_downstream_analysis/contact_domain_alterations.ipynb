{
 "cells": [
  {
   "cell_type": "code",
   "execution_count": 1,
   "metadata": {},
   "outputs": [],
   "source": [
    "import numpy as np\n",
    "import torch\n",
    "import scipy.stats\n",
    "import math\n",
    "\n",
    "import matplotlib.pyplot as plt\n",
    "from matplotlib import rcParams\n",
    "import matplotlib.patches as mpatches\n",
    "import seaborn\n",
    "seaborn.set(font='Arial')\n",
    "plt.style.use('default')\n",
    "rcParams['font.family'] = 'Arial'\n",
    "rcParams['font.size'] = 11\n",
    "rcParams['pdf.fonttype'] = 42\n",
    "plt.rcParams.update({\"text.color\": 'k'})\n",
    "\n",
    "def mergeOverlappingRegions(bed):\n",
    "    # Merge regions in a bed array that have non-zero\n",
    "    # overlap. For examples two regions chr1 1000 2000\n",
    "    # and chr1 1900 2200 would be merged into one region\n",
    "    # chr1 1000 2200. Adjacent regions chr1 1000 2000\n",
    "    # and chr1 2000 2200 would not be merged, however.\n",
    "    chr_list = abf.getChrList()\n",
    "    sort_bed = abf.sortBedFirstCoord(bed)\n",
    "    merged = [[] for c in range(len(chr_list))]\n",
    "    for c in range(len(chr_list)):\n",
    "        if(len(sort_bed[c]) == 0):\n",
    "            continue\n",
    "        merged[c] = [[sort_bed[c][0][0], sort_bed[c][0][1], sort_bed[c][0][2]]]\n",
    "        for i in range(len(sort_bed[c])):\n",
    "            if(sort_bed[c][i][1] < merged[c][-1][2]):\n",
    "                merged[c][-1][2] = max(merged[c][-1][2], sort_bed[c][i][2])\n",
    "            else:\n",
    "                merged[c].append([sort_bed[c][i][0],sort_bed[c][i][1],sort_bed[c][i][2]])\n",
    "    return merged\n",
    "\n",
    "import sys\n",
    "sys.path.append('./')\n",
    "import auxiliary_bed_functions as abf\n",
    "chr_list = abf.getChrList()\n",
    "\n",
    "date = '7_21_20' # Change this to today's date for output names.\n",
    "\n",
    "input_dir = '../final_tensor_check/' # input directory containing HOSVD results\n",
    "file_prefix = 'leiomyoma_HOSVD_final' # prefix used for input files\n",
    "output_dir = '../' # directory to write output"
   ]
  },
  {
   "cell_type": "code",
   "execution_count": 2,
   "metadata": {},
   "outputs": [],
   "source": [
    "U_l = torch.load(input_dir + file_prefix + '_factor_matrix_location.pt', map_location='cpu').numpy()\n",
    "\n",
    "L_genome = U_l.shape[0]"
   ]
  },
  {
   "cell_type": "code",
   "execution_count": 3,
   "metadata": {},
   "outputs": [],
   "source": [
    "# Extract the location vectors describing epigenetic \n",
    "# alterations between leiomyoma and myometrium\n",
    "# and between leiomyomas with and without MED12 mutations\n",
    "N = np.size(U_l)\n",
    "cut = np.percentile(np.absolute(U_l), 99.9, interpolation='nearest')\n",
    "U_diff = np.array(U_l[:,3])\n",
    "U_MED12_diff = np.array(U_l[:,6])\n",
    "del U_l"
   ]
  },
  {
   "cell_type": "code",
   "execution_count": 4,
   "metadata": {
    "scrolled": true
   },
   "outputs": [
    {
     "name": "stdout",
     "output_type": "stream",
     "text": [
      "['chr1', 145074000, 145076000]\n",
      "1547874\n"
     ]
    }
   ],
   "source": [
    "# The genomic bins used for the hg19 genome. chr Y is\n",
    "# the last chromosome in the list, so the ordering of \n",
    "# the bins through chrX is the same as that when \n",
    "# chr Y is removed.\n",
    "chr_list = abf.getChrList()\n",
    "chr_length = {'chrY': 59373566, 'chrX': 155270560, 'chr13': 115169878,\n",
    "              'chr12': 133851895, 'chr11': 135006516, 'chr10': 135534747,\n",
    "              'chr17': 81195210, 'chr16': 90354753, 'chr15': 102531392,\n",
    "              'chr14': 107349540, 'chr19': 59128983, 'chr18': 78077248,\n",
    "              'chrM': 16571, 'chr22': 51304566, 'chr20': 63025520,\n",
    "              'chr21': 48129895, 'chr7': 159138663, 'chr6': 171115067,\n",
    "              'chr5': 180915260, 'chr4': 191154276, 'chr3': 198022430,\n",
    "              'chr2': 243199373, 'chr1': 249250621, 'chr9': 141213431,\n",
    "              'chr8': 146364022}\n",
    "bin_size = 2000\n",
    "\n",
    "genomic_bin = [[] for l in range(0,1547874)]\n",
    "counter = 0\n",
    "for chrom in chr_list:\n",
    "    for l in range(0, int(np.ceil(chr_length[chrom]/bin_size))+1):\n",
    "        genomic_bin[counter] = [chrom, l*bin_size, (l+1)*bin_size]\n",
    "        counter += 1\n",
    "print(genomic_bin[72537])\n",
    "print(counter)"
   ]
  },
  {
   "cell_type": "code",
   "execution_count": 5,
   "metadata": {},
   "outputs": [],
   "source": [
    "# Read in a bed file specifying contact domains identified \n",
    "# in HeLa cells. The data can be downloaded from GSE63525.\n",
    "# The domain regions are extracted from GSE63525_HeLa_Arrowhead_domainlist.txt\n",
    "# and formated as a bed file.\n",
    "cd_bed = abf.sortBedFirstCoord(abf.readBed('./GSE63525_HeLa_Arrowhead_domainlist.bed'))\n",
    "cd_bed = mergeOverlappingRegions(cd_bed)"
   ]
  },
  {
   "cell_type": "code",
   "execution_count": 6,
   "metadata": {},
   "outputs": [],
   "source": [
    "## Correlation of the differential vector signal within and \n",
    "## around contact domains"
   ]
  },
  {
   "cell_type": "code",
   "execution_count": 7,
   "metadata": {},
   "outputs": [],
   "source": [
    "def bin_contact_domains(U, contact_domains):\n",
    "    # Given a vector U, bin the signal within and around\n",
    "    # the contact domains. Return the matrix with each \n",
    "    # column representing a bin and each row a contact domain.\n",
    "    # This function bins each domain into 5 equal sized bins.\n",
    "    chr_shift = 0\n",
    "    domain_boundary_corr = []\n",
    "    for c, chrom in enumerate(chr_list):\n",
    "        for cd in contact_domains[c]:\n",
    "            domain_boundary_corr.append([])\n",
    "            start = math.ceil(cd[1]/2000)\n",
    "            end = math.floor(cd[2]/2000)\n",
    "            window = int((end-start)/5)\n",
    "            #print(window, (end-start)/5)\n",
    "            for k in range(5):\n",
    "                domain_boundary_corr[-1].append(np.mean(U[chr_shift + start + (k-5)*window: chr_shift + start + (k+1-5)*window]))\n",
    "                \n",
    "            for k in range(5):\n",
    "                domain_boundary_corr[-1].append(np.mean(U[chr_shift + start + k*window: chr_shift + start + (k+1)*window]))\n",
    "                \n",
    "            for k in range(5):\n",
    "                domain_boundary_corr[-1].append(np.mean(U[chr_shift + end + k*window: chr_shift + end + (k+1)*window]))\n",
    "                \n",
    "        chr_shift += math.ceil(chr_length[chrom]/2000) + 1   \n",
    "    return np.array(domain_boundary_corr)"
   ]
  },
  {
   "cell_type": "code",
   "execution_count": 8,
   "metadata": {},
   "outputs": [
    {
     "data": {
      "image/png": "[encoded data removed]",
      "text/plain": [
       "<Figure size 288x288 with 6 Axes>"
      ]
     },
     "metadata": {
      "needs_background": "light"
     },
     "output_type": "display_data"
    }
   ],
   "source": [
    "# Figuer 4C: Bin the differential vector signal across contact domains\n",
    "# and calculate the correlation between the bins\n",
    "domain_boundary_corr = bin_contact_domains(U_diff, cd_bed)\n",
    "corr_matrix = np.zeros((15,15))\n",
    "for i in range(15):\n",
    "    for j in range(i,15):\n",
    "        corr_matrix[i,j] = scipy.stats.pearsonr(np.array(domain_boundary_corr)[:,i],\n",
    "                                                np.array(domain_boundary_corr)[:,j])[0]\n",
    "        corr_matrix[j,i] = corr_matrix[i,j]\n",
    "\n",
    "## Colors to use for indicating where the domain is\n",
    "row_colors = ['w' for i in range(5)]\n",
    "row_colors += [(0.6, 0.6, 0.6) for i in range(5)]\n",
    "row_colors += ['w' for i in range(5)]\n",
    "\n",
    "## Plot the heatmap of the correlation\n",
    "g = seaborn.clustermap(corr_matrix, row_cluster=False, col_cluster=False,\n",
    "                       robust=False, row_colors=row_colors, col_colors=row_colors,\n",
    "                       figsize=(4,4), vmin=-1.0, vmax=1.0, cmap='BrBG')\n",
    "\n",
    "g.cax.set_position([0.91,0.125,0.05,0.57])\n",
    "g.cax.set_ylabel('Pearson r', rotation=270, fontsize=11, labelpad=10)\n",
    "g.ax_heatmap.set_title('Differential HOSVD vector correlation', fontsize=11, pad=17)\n",
    "g.ax_heatmap.set_xlabel('Binned domain position index', fontsize=11)\n",
    "\n",
    "plt.annotate('Domain', (0.0, 1.0), xytext=(-15.5, 1.038),\n",
    "                       color='k', fontsize=10)\n",
    "\n",
    "plt.annotate('Domain', (0.0, 1.0), xytext=(-26.3, -0.169),\n",
    "                       color='k', fontsize=10, rotation=90)\n",
    "\n",
    "\n",
    "g.ax_heatmap.yaxis.tick_left()\n",
    "g.ax_heatmap.tick_params(axis='both', which='both', bottom=False,\n",
    "                         top=False, left=False, labelbottom=True)\n",
    "labels = [item.get_text() for item in g.ax_heatmap.get_yticklabels()]\n",
    "labels[0] = '-L'\n",
    "labels[-1] = '+L' # L indicates the width of the domain\n",
    "for i in range(len(labels)-2):\n",
    "    labels[i+1] = ''\n",
    "g.ax_heatmap.set_yticklabels(labels, fontsize=11)\n",
    "g.ax_heatmap.set_xticklabels(labels, fontsize=11)\n",
    "plt.show()\n",
    "\n",
    "g.savefig(output_dir + 'figures/figure4_panels/' + file_prefix +\n",
    "          '_panelC_differential_domain_correlation_' + date + '.pdf',\n",
    "          bbox_inches='tight', transparent=True, format='pdf')"
   ]
  },
  {
   "cell_type": "code",
   "execution_count": 9,
   "metadata": {},
   "outputs": [],
   "source": [
    "# Randomly shuffle the contact domain locations around \n",
    "# the corresponding chromosome. Some restrictions are\n",
    "# applied to the resulting location of the shuffled\n",
    "# domains to ensure there is still a domain width around\n",
    "# each of the domains\n",
    "\n",
    "cd_bed_permute = [[] for c in range(len(chr_list))]\n",
    "for c, chrom in enumerate(chr_list):\n",
    "    for cd in cd_bed[c]:\n",
    "        L = int((cd[2] - cd[1])/2000)\n",
    "        r_start = np.random.randint(L, math.floor(chr_length[chrom]/2000)-2*L, 1)[0]\n",
    "        cd_bed_permute[c].append([cd[0], r_start*2000, (r_start+L)*2000])"
   ]
  },
  {
   "cell_type": "code",
   "execution_count": 10,
   "metadata": {},
   "outputs": [
    {
     "data": {
      "image/png": "[encoded data removed]",
      "text/plain": [
       "<Figure size 288x288 with 6 Axes>"
      ]
     },
     "metadata": {
      "needs_background": "light"
     },
     "output_type": "display_data"
    }
   ],
   "source": [
    "# Figure 4D: HOSVD location vector correlation for the \n",
    "# randomly permuted domains\n",
    "\n",
    "domain_boundary_corr = bin_contact_domains(U_diff, cd_bed_permute)\n",
    "corr_matrix = np.zeros((15,15))\n",
    "for i in range(15):\n",
    "    for j in range(i,15):\n",
    "        corr_matrix[i,j] = scipy.stats.pearsonr(np.array(domain_boundary_corr)[:,i],\n",
    "                                                np.array(domain_boundary_corr)[:,j])[0]\n",
    "        corr_matrix[j,i] = corr_matrix[i,j]\n",
    "\n",
    "g = seaborn.clustermap(corr_matrix, row_cluster=False, col_cluster=False,\n",
    "                       robust=False, row_colors=row_colors, col_colors=row_colors,\n",
    "                       figsize=(4,4), vmin=-1.0, vmax=1.0, cmap='BrBG')\n",
    "\n",
    "g.cax.set_position([0.91,0.125,0.05,0.57])\n",
    "g.cax.set_ylabel('Pearson r', rotation=270, fontsize=11, labelpad=10)\n",
    "g.ax_heatmap.set_title('Differential HOSVD vector correlation\\n random domains',\n",
    "                       fontsize=11, pad=16)\n",
    "g.ax_heatmap.set_xlabel('Binned domain position index', fontsize=11)\n",
    "\n",
    "plt.annotate('Domain', (0.0, 1.0), xytext=(-15.5, 1.038),\n",
    "                       color='k', fontsize=10)\n",
    "\n",
    "plt.annotate('Domain', (0.0, 1.0), xytext=(-26.3, -0.169),\n",
    "                       color='k', fontsize=10, rotation=90)\n",
    "\n",
    "g.ax_heatmap.yaxis.tick_left()\n",
    "g.ax_heatmap.tick_params(axis='both', which='both', bottom=False,\n",
    "                         top=False, left=False, labelbottom=True)\n",
    "\n",
    "labels = [item.get_text() for item in g.ax_heatmap.get_yticklabels()]\n",
    "labels[0] = '-L'\n",
    "labels[-1] = '+L'\n",
    "for i in range(len(labels)-2):\n",
    "    labels[i+1] = ''\n",
    "g.ax_heatmap.set_yticklabels(labels, fontsize=11)\n",
    "g.ax_heatmap.set_xticklabels(labels, fontsize=11)\n",
    "plt.show()\n",
    "\n",
    "g.savefig(output_dir + 'figures/figure4_panels/' + file_prefix +\n",
    "          '_panelD_differential_shuffled_domain_correlation_' + date + '.pdf',\n",
    "          bbox_inches='tight', transparent=True, format='pdf')"
   ]
  },
  {
   "cell_type": "code",
   "execution_count": 11,
   "metadata": {},
   "outputs": [
    {
     "data": {
      "image/png": "[encoded data removed]",
      "text/plain": [
       "<Figure size 288x288 with 6 Axes>"
      ]
     },
     "metadata": {
      "needs_background": "light"
     },
     "output_type": "display_data"
    }
   ],
   "source": [
    "# Figure 4E: Shuffle the components of the differential signal\n",
    "# vector and compute the correlation between bins within and \n",
    "# extending one contact domain width around each domain. The\n",
    "# contact domains are held fixed at the true locations\n",
    "U_shuffle = np.copy(U_diff)\n",
    "np.random.shuffle(U_shuffle)\n",
    "domain_boundary_corr = bin_contact_domains(U_shuffle, cd_bed)\n",
    "corr_matrix = np.zeros((15,15))\n",
    "for i in range(15):\n",
    "    for j in range(i,15):\n",
    "        corr_matrix[i,j] = scipy.stats.pearsonr(np.array(domain_boundary_corr)[:,i],\n",
    "                                                np.array(domain_boundary_corr)[:,j])[0]\n",
    "        corr_matrix[j,i] = corr_matrix[i,j]\n",
    "del U_shuffle\n",
    "\n",
    "## Plot the heatmap of the correlation\n",
    "g = seaborn.clustermap(corr_matrix, row_cluster=False, col_cluster=False,\n",
    "                       robust=False, row_colors=row_colors, col_colors=row_colors,\n",
    "                       figsize=(4,4), vmin=-1.0, vmax=1.0, cmap='BrBG')\n",
    "\n",
    "g.cax.set_position([0.91,0.125,0.05,0.57])\n",
    "g.cax.set_ylabel('Pearson r', rotation=270, fontsize=11, labelpad=10)\n",
    "g.ax_heatmap.set_title('Shuffled differential HOSVD vector correlation', fontsize=11, pad=13)\n",
    "g.ax_heatmap.set_xlabel('Binned domain position index', fontsize=11)\n",
    "\n",
    "plt.annotate('Domain', (0.0, 1.0), xytext=(-15.5, 1.038),\n",
    "                       color='k', fontsize=10)\n",
    "\n",
    "plt.annotate('Domain', (0.0, 1.0), xytext=(-26.3, -0.169),\n",
    "                       color='k', fontsize=10, rotation=90)\n",
    "\n",
    "\n",
    "g.ax_heatmap.yaxis.tick_left()\n",
    "g.ax_heatmap.tick_params(axis='both', which='both', bottom=False,\n",
    "                         top=False, left=False, labelbottom=True)\n",
    "labels = [item.get_text() for item in g.ax_heatmap.get_yticklabels()]\n",
    "labels[0] = '-L'\n",
    "labels[-1] = '+L' # L indicates the width of the domain\n",
    "for i in range(len(labels)-2):\n",
    "    labels[i+1] = ''\n",
    "g.ax_heatmap.set_yticklabels(labels, fontsize=11)\n",
    "g.ax_heatmap.set_xticklabels(labels, fontsize=11)\n",
    "plt.show()\n",
    "\n",
    "g.savefig(output_dir + 'figures/figure4_panels/' + file_prefix +\n",
    "          '_panelE_differential_shuffled_vector_correlation_' + date + '.pdf',\n",
    "          bbox_inches='tight', transparent=True, format='pdf')"
   ]
  },
  {
   "cell_type": "code",
   "execution_count": 12,
   "metadata": {},
   "outputs": [],
   "source": [
    "# Repeat the contact domain correlation analysis for the HOSVD \n",
    "# location vector specifying the differences between MED12-mut\n",
    "# and MED12-wt leiomyomas"
   ]
  },
  {
   "cell_type": "code",
   "execution_count": 13,
   "metadata": {},
   "outputs": [
    {
     "data": {
      "image/png": "[encoded data removed]",
      "text/plain": [
       "<Figure size 201.6x201.6 with 6 Axes>"
      ]
     },
     "metadata": {
      "needs_background": "light"
     },
     "output_type": "display_data"
    }
   ],
   "source": [
    "# Figure S6E: Correlation of the vector specifying epigenetic alterations\n",
    "# between MED12-mut and MED12-wt leiomyomas across the contact domains\n",
    "domain_boundary_corr = bin_contact_domains(U_MED12_diff, cd_bed)\n",
    "corr_matrix = np.zeros((15,15))\n",
    "for i in range(15):\n",
    "    for j in range(i,15):\n",
    "        corr_matrix[i,j] = scipy.stats.pearsonr(np.array(domain_boundary_corr)[:,i],\n",
    "                                                np.array(domain_boundary_corr)[:,j])[0]\n",
    "        corr_matrix[j,i] = corr_matrix[i,j]\n",
    "        \n",
    "g = seaborn.clustermap(corr_matrix, row_cluster=False, col_cluster=False,\n",
    "                       robust=False, row_colors=row_colors, col_colors=row_colors,\n",
    "                       figsize=(2.8, 2.8), vmin=-1.0, vmax=1.0, cmap='BrBG')\n",
    "\n",
    "g.cax.set_position([0.91,0.125,0.05,0.57])\n",
    "g.cax.set_ylabel('Pearson r', rotation=270, fontsize=11, labelpad=10)\n",
    "# g.ax_heatmap.set_title('$\\it{MED12}$ mutation differential\\nHOSVD vector correlation', fontsize=11, pad=17)\n",
    "g.ax_heatmap.set_title('MED12 mutation differential\\nHOSVD vector correlation', fontsize=11, pad=17)\n",
    "g.ax_heatmap.set_xlabel('Binned domain position index', fontsize=11)\n",
    "\n",
    "plt.annotate('Domain', (0.0, 1.0), xytext=(-16.65, 1.012),\n",
    "                       color='k', fontsize=10)\n",
    "\n",
    "plt.annotate('Domain', (0.0, 1.0), xytext=(-26.5, -0.23),\n",
    "                       color='k', fontsize=10, rotation=90)\n",
    "\n",
    "g.ax_heatmap.yaxis.tick_left()\n",
    "\n",
    "g.ax_heatmap.tick_params(\n",
    "    axis='both',\n",
    "    which='both',\n",
    "    bottom=False,\n",
    "    top=False,\n",
    "    left=False,\n",
    "    labelbottom=True)\n",
    "\n",
    "labels = [item.get_text() for item in g.ax_heatmap.get_yticklabels()]\n",
    "labels[0] = '-L'\n",
    "labels[-1] = '+L'\n",
    "for i in range(len(labels)-2):\n",
    "    labels[i+1] = ''\n",
    "g.ax_heatmap.set_yticklabels(labels, fontsize=11)\n",
    "g.ax_heatmap.set_xticklabels(labels, fontsize=11)\n",
    "plt.show()\n",
    "\n",
    "g.savefig(output_dir + 'figures/figureS6_panels/' + file_prefix +\n",
    "          '_panelE_MED12_differential_domain_correlation_' + date + '.pdf',\n",
    "          bbox_inches='tight', transparent=True, format='pdf')"
   ]
  },
  {
   "cell_type": "code",
   "execution_count": 14,
   "metadata": {},
   "outputs": [
    {
     "data": {
      "image/png": "[encoded data removed]",
      "text/plain": [
       "<Figure size 201.6x201.6 with 6 Axes>"
      ]
     },
     "metadata": {
      "needs_background": "light"
     },
     "output_type": "display_data"
    }
   ],
   "source": [
    "# Figure S6F: Correlation of the vector specifying epigenetic alterations\n",
    "# between MED12-mut and MED12-wt leiomyomas across randomly shuffled\n",
    "# contact domains\n",
    "domain_boundary_corr = bin_contact_domains(U_MED12_diff, cd_bed_permute)\n",
    "corr_matrix = np.zeros((15,15))\n",
    "for i in range(15):\n",
    "    for j in range(i,15):\n",
    "        corr_matrix[i,j] = scipy.stats.pearsonr(np.array(domain_boundary_corr)[:,i],\n",
    "                                                np.array(domain_boundary_corr)[:,j])[0]\n",
    "        corr_matrix[j,i] = corr_matrix[i,j]\n",
    "\n",
    "g = seaborn.clustermap(corr_matrix, row_cluster=False, col_cluster=False,\n",
    "                       robust=False, row_colors=row_colors, col_colors=row_colors,\n",
    "                       figsize=(2.8,2.8), vmin=-1.0, vmax=1.0, cmap='BrBG')\n",
    "\n",
    "g.cax.set_position([0.91,0.125,0.05,0.57])\n",
    "g.cax.set_ylabel('Pearson r', rotation=270, fontsize=11, labelpad=10)\n",
    "# g.ax_heatmap.set_title('$\\it{MED12}$ mutation differential HOSVD\\nvector random domain correlation',\n",
    "#                        fontsize=11, pad=16)\n",
    "g.ax_heatmap.set_title('MED12 mutation differential HOSVD\\nvector random domain correlation',\n",
    "                       fontsize=11, pad=16)\n",
    "g.ax_heatmap.set_xlabel('Binned domain position index', fontsize=11)\n",
    "\n",
    "plt.annotate('Domain', (0.0, 1.0), xytext=(-16.65, 1.012),\n",
    "                       color='k', fontsize=10)\n",
    "\n",
    "plt.annotate('Domain', (0.0, 1.0), xytext=(-26.5, -0.23),\n",
    "                       color='k', fontsize=10, rotation=90)\n",
    "\n",
    "g.ax_heatmap.yaxis.tick_left()\n",
    "\n",
    "g.ax_heatmap.tick_params(\n",
    "    axis='both',\n",
    "    which='both',\n",
    "    bottom=False,\n",
    "    top=False,\n",
    "    left=False,\n",
    "    labelbottom=True)\n",
    "\n",
    "labels = [item.get_text() for item in g.ax_heatmap.get_yticklabels()]\n",
    "labels[0] = '-L'\n",
    "labels[-1] = '+L'\n",
    "for i in range(len(labels)-2):\n",
    "    labels[i+1] = ''\n",
    "g.ax_heatmap.set_yticklabels(labels, fontsize=11)\n",
    "g.ax_heatmap.set_xticklabels(labels, fontsize=11)\n",
    "plt.show()\n",
    "\n",
    "g.savefig(output_dir + 'figures/figureS6_panels/' + file_prefix +\n",
    "          '_panelF_MED12_differential_random_domain_correlation_' + date + '.pdf',\n",
    "          bbox_inches='tight', transparent=True, format='pdf')"
   ]
  },
  {
   "cell_type": "code",
   "execution_count": 15,
   "metadata": {},
   "outputs": [
    {
     "data": {
      "image/png": "[encoded data removed]",
      "text/plain": [
       "<Figure size 201.6x201.6 with 6 Axes>"
      ]
     },
     "metadata": {
      "needs_background": "light"
     },
     "output_type": "display_data"
    }
   ],
   "source": [
    "# Figure S6G: Correlation of the vector specifying epigenetic alterations\n",
    "# between MED12-mut and MED12-wt leiomyomas with randomly shuffled components\n",
    "# the contact domains are fixed at the true locations\n",
    "U_shuffle = np.copy(U_MED12_diff)\n",
    "np.random.shuffle(U_shuffle)\n",
    "domain_boundary_corr = bin_contact_domains(U_shuffle, cd_bed)\n",
    "corr_matrix = np.zeros((15,15))\n",
    "for i in range(15):\n",
    "    for j in range(i,15):\n",
    "        corr_matrix[i,j] = scipy.stats.pearsonr(np.array(domain_boundary_corr)[:,i],\n",
    "                                                np.array(domain_boundary_corr)[:,j])[0]\n",
    "        corr_matrix[j,i] = corr_matrix[i,j]\n",
    "del U_shuffle\n",
    "\n",
    "g = seaborn.clustermap(corr_matrix, row_cluster=False, col_cluster=False,\n",
    "                       robust=False, row_colors=row_colors, col_colors=row_colors,\n",
    "                       figsize=(2.8,2.8), vmin=-1.0, vmax=1.0, cmap='BrBG')\n",
    "\n",
    "g.cax.set_position([0.91,0.125,0.05,0.57])\n",
    "g.cax.set_ylabel('Pearson r', rotation=270, fontsize=11, labelpad=10)\n",
    "# g.ax_heatmap.set_title('Shuffled $\\it{MED12}$ differential\\nHOSVD vector correlation',\n",
    "#                        fontsize=11, pad=16)\n",
    "g.ax_heatmap.set_title('Shuffled MED12 differential\\nHOSVD vector correlation',\n",
    "                       fontsize=11, pad=16)\n",
    "g.ax_heatmap.set_xlabel('Binned domain position index', fontsize=11)\n",
    "\n",
    "plt.annotate('Domain', (0.0, 1.0), xytext=(-16.65, 1.012),\n",
    "                       color='k', fontsize=10)\n",
    "\n",
    "plt.annotate('Domain', (0.0, 1.0), xytext=(-26.5, -0.23),\n",
    "                       color='k', fontsize=10, rotation=90)\n",
    "\n",
    "g.ax_heatmap.yaxis.tick_left()\n",
    "\n",
    "g.ax_heatmap.tick_params(\n",
    "    axis='both',\n",
    "    which='both',\n",
    "    bottom=False,\n",
    "    top=False,\n",
    "    left=False,\n",
    "    labelbottom=True)\n",
    "\n",
    "labels = [item.get_text() for item in g.ax_heatmap.get_yticklabels()]\n",
    "labels[0] = '-L'\n",
    "labels[-1] = '+L'\n",
    "for i in range(len(labels)-2):\n",
    "    labels[i+1] = ''\n",
    "g.ax_heatmap.set_yticklabels(labels, fontsize=11)\n",
    "g.ax_heatmap.set_xticklabels(labels, fontsize=11)\n",
    "plt.show()\n",
    "\n",
    "g.savefig(output_dir + 'figures/figureS6_panels/' + file_prefix +\n",
    "          '_panelG_shuffled_MED12_differential_domain_correlation_' + date + '.pdf',\n",
    "          bbox_inches='tight', transparent=True, format='pdf')"
   ]
  },
  {
   "cell_type": "code",
   "execution_count": 16,
   "metadata": {},
   "outputs": [],
   "source": [
    "# Find contact domains with epigenetic alterations between\n",
    "# uterine leiomyoma and myometrium."
   ]
  },
  {
   "cell_type": "code",
   "execution_count": 17,
   "metadata": {},
   "outputs": [],
   "source": [
    "# For each contact domain, calculate the sum of the HOSVD\n",
    "# location vector components for all genomic bins passing\n",
    "# the significance threshold within the domain.\n",
    "cd_change = [[] for c in range(len(chr_list))]\n",
    "chr_shift = 0\n",
    "for c, chrom in enumerate(chr_list):\n",
    "    for cd in cd_bed[c]:\n",
    "        # Get the indices for the first and last genomic bin\n",
    "        # lying completely within the domain.\n",
    "        start = math.ceil(cd[1]/2000)\n",
    "        end = math.floor(cd[2]/2000)\n",
    "        net = 0\n",
    "        for l in range(start, end):\n",
    "            # Only consider the bin if it passes the threshold\n",
    "            if(abs(U_diff[chr_shift + l]) > cut):\n",
    "                net += U_diff[chr_shift + l]\n",
    "        cd_change[c].append(net)\n",
    "    # The chr_shift adjusts the indexing for each chromosome\n",
    "    chr_shift += math.ceil(chr_length[chrom]/2000) + 1"
   ]
  },
  {
   "cell_type": "code",
   "execution_count": 18,
   "metadata": {},
   "outputs": [],
   "source": [
    "# Need to flatten the array for plotting\n",
    "flat_cd_change = []\n",
    "flat_cd_index = {}\n",
    "for c in range(len(chr_list)):\n",
    "    for l in range(len(cd_change[c])):\n",
    "        flat_cd_change.append(cd_change[c][l])\n",
    "        flat_cd_index[len(flat_cd_change)-1] = (c,l)\n",
    "        \n",
    "flat_cd_change = np.array(flat_cd_change)"
   ]
  },
  {
   "cell_type": "code",
   "execution_count": 19,
   "metadata": {},
   "outputs": [
    {
     "data": {
      "image/png": "[encoded data removed]",
      "text/plain": [
       "<Figure size 260.64x260.64 with 1 Axes>"
      ]
     },
     "metadata": {
      "needs_background": "light"
     },
     "output_type": "display_data"
    }
   ],
   "source": [
    "# Figure 4F: Contact domain alterations. Plot the net differential\n",
    "# HOSVD location vector signal for each contact domain. The gene \n",
    "# names were added manually by looking at the top few differential\n",
    "# regions and finding the most differentially expressed gene within\n",
    "# each region.\n",
    "\n",
    "fig, ax = plt.subplots(1,1,figsize=(3.62, 3.62))\n",
    "plt.plot(np.sort(flat_cd_change),'k.')\n",
    "x = [float(i) for i in range(len(flat_cd_change))]\n",
    "y = np.sort(flat_cd_change)\n",
    "\n",
    "ax.annotate('EBF1', (x[-1],y[-1]), xytext=((1-0.16)*x[-1],y[-1]),\n",
    "            color=(1,0,0,1), fontsize=11)\n",
    "ax.annotate('NFIB', (x[-2],y[-2]), xytext=((1-0.16)*x[-2],y[-2]),\n",
    "            color=(1,0,0,1), fontsize=11)\n",
    "\n",
    "ax.annotate('PART1', (x[0],y[0]), xytext=(100, y[0]),\n",
    "            color=(0,0,1,1), fontsize=11)\n",
    "\n",
    "ax.annotate('ATP8B4', (x[1],y[1]), xytext=(x[1] + 80, y[1]*(1+0.41)),\n",
    "            color=(0,0,1,1), fontsize=11, arrowprops={'arrowstyle': '-','color':(0,0,1,1)})\n",
    "\n",
    "ax.annotate('C9orf3', (x[2],y[2]), xytext=(x[2] + 200, y[2]*(1+0.13)),\n",
    "            color=(0,0,1,1), fontsize=11, arrowprops={'arrowstyle': '-','color':(0,0,1,1)})\n",
    "\n",
    "ax.annotate('PCP4', (x[3],y[3]), xytext=(x[3] + 265, y[3]*(1+0.0)),\n",
    "            color=(0,0,1,1), fontsize=11, arrowprops={'arrowstyle': '-','color':(0,0,1,1)})\n",
    "\n",
    "ax.annotate('RAD51B', (x[4],y[4]), xytext=(x[4] + 275, y[4]*(1-0.32)),\n",
    "            color=(0,0,1,1), fontsize=11, arrowprops={'arrowstyle': '-','color':(0,0,1,1)})\n",
    "\n",
    "plt.ylim((-(1+.1)*max(np.abs(flat_cd_change)), (1+.1)*max(np.abs(flat_cd_change))))\n",
    "ax.set_ylabel('Integrated contact domain change', fontsize=11)\n",
    "ax.set_xlabel('Contact domain sorted by integrated change', fontsize=11)\n",
    "plt.title('Contact domain chromatin state alterations', fontsize=11)\n",
    "\n",
    "plt.savefig(output_dir + 'figures/figure4_panels/' + file_prefix + \n",
    "            '_panelF_integrated_domain_change_' + date + '.pdf',\n",
    "            bbox_inches='tight', transparent=True, format='pdf')"
   ]
  },
  {
   "cell_type": "code",
   "execution_count": 20,
   "metadata": {},
   "outputs": [
    {
     "data": {
      "text/plain": [
       "Text(0.5, 0, 'Contact domain index')"
      ]
     },
     "execution_count": 20,
     "metadata": {},
     "output_type": "execute_result"
    },
    {
     "data": {
      "image/png": "[encoded data removed]",
      "text/plain": [
       "<Figure size 288x288 with 1 Axes>"
      ]
     },
     "metadata": {
      "needs_background": "light"
     },
     "output_type": "display_data"
    }
   ],
   "source": [
    "# Select the contact domains with non-zero change and \n",
    "# take the absoule value. Scale and shift so that the \n",
    "# x and y axis range from 0-1. \n",
    "\n",
    "sorted_nonzero_cd = np.sort(np.abs(flat_cd_change[np.where(flat_cd_change != 0.0)[0]]))\n",
    "sorted_nonzero_cd = sorted_nonzero_cd - min(sorted_nonzero_cd)\n",
    "sorted_nonzero_cd = sorted_nonzero_cd/max(sorted_nonzero_cd)\n",
    "\n",
    "fig, ax = plt.subplots(1,1,figsize=(4,4))\n",
    "plt.plot(np.linspace(0, 1, num=len(np.where(flat_cd_change != 0.0)[0])),\n",
    "         sorted_nonzero_cd, 'k.')\n",
    "\n",
    "plt.ylim((0.0,1.0))\n",
    "ax.set_ylabel('Absolute value of integrated\\ncontact domain change', fontsize=12)\n",
    "ax.set_xlabel('Contact domain index', fontsize=12)"
   ]
  },
  {
   "cell_type": "code",
   "execution_count": 21,
   "metadata": {
    "scrolled": true
   },
   "outputs": [
    {
     "name": "stdout",
     "output_type": "stream",
     "text": [
      "764 0 712\n",
      "-0.8176361646617092\n"
     ]
    }
   ],
   "source": [
    "# Find the x-axis point in the above plot where the line of slope \n",
    "# one is tangent to the curve. This amounts to finding the point \n",
    "# for which the line passsing through the point with slope 1 has\n",
    "# the fewest points below the line.\n",
    "\n",
    "N = len(np.where(np.abs(flat_cd_change) > 0.0)[0])\n",
    "n_below = [0 for i in range(N)]\n",
    "for i in range(0,N):\n",
    "    b = sorted_nonzero_cd[i] - i/N\n",
    "    for j in range(0,N):\n",
    "        if( (j-i)/N + sorted_nonzero_cd[i] > sorted_nonzero_cd[j] ):\n",
    "            n_below[i] += 1\n",
    "print(N, np.min(n_below), np.argmin(n_below))\n",
    "b = sorted_nonzero_cd[np.argmin(n_below)] - np.argmin(n_below)/N\n",
    "print(b)"
   ]
  },
  {
   "cell_type": "code",
   "execution_count": 22,
   "metadata": {},
   "outputs": [
    {
     "data": {
      "text/plain": [
       "Text(0.5, 0, 'Contact domain index')"
      ]
     },
     "execution_count": 22,
     "metadata": {},
     "output_type": "execute_result"
    },
    {
     "data": {
      "image/png": "[encoded data removed]",
      "text/plain": [
       "<Figure size 288x288 with 1 Axes>"
      ]
     },
     "metadata": {
      "needs_background": "light"
     },
     "output_type": "display_data"
    }
   ],
   "source": [
    "# Visualize the number of points below the line of slope one passing\n",
    "# through each of the data points. \n",
    "fig, ax = plt.subplots(1,1,figsize=(4,4))\n",
    "plt.plot(n_below)\n",
    "ax.set_ylabel('Number of points below line of slope 1', fontsize=12)\n",
    "ax.set_xlabel('Contact domain index', fontsize=12)"
   ]
  },
  {
   "cell_type": "code",
   "execution_count": 23,
   "metadata": {},
   "outputs": [
    {
     "name": "stdout",
     "output_type": "stream",
     "text": [
      "3821 3873\n"
     ]
    }
   ],
   "source": [
    "# Write the contact domains with significant change, where\n",
    "# a significant change is determined by lying at or above\n",
    "# the point where the line of slope 1 is tangent.\n",
    "\n",
    "diff_cds_pos = open(output_dir + 'diff_contact_domains_lower_leio_'+date+'.bed', 'w+')\n",
    "diff_cds_neg = open(output_dir + 'diff_contact_domains_higher_leio_'+date+'.bed', 'w+')\n",
    "\n",
    "arg_sorted_cds = np.argsort(np.abs(flat_cd_change))\n",
    "L = len(flat_cd_change)\n",
    "thresh = L - (N - np.argmin(n_below))\n",
    "print(thresh, L)\n",
    "for i in range(thresh, L):\n",
    "    bed_index = flat_cd_index[arg_sorted_cds[i]]\n",
    "    if(flat_cd_change[arg_sorted_cds[i]] > 0.0):\n",
    "        diff_cds_pos.write(\"{}\\t{}\\t{}\\n\".format(cd_bed[bed_index[0]][bed_index[1]][0],\n",
    "                                                 cd_bed[bed_index[0]][bed_index[1]][1],\n",
    "                                                 cd_bed[bed_index[0]][bed_index[1]][2]))\n",
    "    if(flat_cd_change[arg_sorted_cds[i]] < 0.0):\n",
    "        diff_cds_neg.write(\"{}\\t{}\\t{}\\n\".format(cd_bed[bed_index[0]][bed_index[1]][0],\n",
    "                                                 cd_bed[bed_index[0]][bed_index[1]][1],\n",
    "                                                 cd_bed[bed_index[0]][bed_index[1]][2])) \n",
    "diff_cds_pos.close()\n",
    "diff_cds_neg.close()"
   ]
  },
  {
   "cell_type": "code",
   "execution_count": 24,
   "metadata": {},
   "outputs": [],
   "source": [
    "# Look for differentially expressed genes in the contact\n",
    "# domains exhibiting epigenetic alterations\n",
    "\n",
    "# The gene table can be obtained from the UCSC Table Browser.\n",
    "# Select the knownGene table for the hg19 genome and select the\n",
    "# first 5 fields for output.\n",
    "isoform_file = open('./knownGene_hg19.txt','r')\n",
    "isoform_table = []\n",
    "for iso in isoform_file:\n",
    "    if(iso[0] != '#'):\n",
    "        isoform_table.append(iso.strip().split('\\t')) \n",
    "isoform_file.close()\n",
    "\n",
    "# A function that reads a DESeq2 output file\n",
    "def readDEFile(DE_file):\n",
    "    DE_array = []\n",
    "    DEf = open(DE_file,'r')\n",
    "    for line in DEf:\n",
    "        if(line[0] == '#'):\n",
    "            continue\n",
    "        l = line.strip().split(',')\n",
    "        l[0] = l[0].strip().split('\"')[1]\n",
    "        DE_array.append(l)\n",
    "    DEf.close()\n",
    "    return DE_array\n",
    "\n",
    "# Given a gene list and a differential expression table,\n",
    "# select only the genes passing the provided thresholds\n",
    "def intersectwDE(gene_list, DE_list, padj, log2FC_cut):\n",
    "    # pajd is the adjusted p-value threshold \n",
    "    # FC_cut is a threshold on the absolute value of the\n",
    "    # log2FC\n",
    "    intersect = []\n",
    "    for gene in gene_list:\n",
    "        for j in range(len(DE_list)):\n",
    "            if(DE_list[j][0] == gene):\n",
    "                if(DE_list[j][6] == 'NA'):\n",
    "                    continue\n",
    "                if(float(DE_list[j][6]) < padj and abs(float(DE_list[j][2])) > log2FC_cut ):\n",
    "                    intersect.append([gene,float(DE_list[j][2])])\n",
    "                    break\n",
    "                    \n",
    "    return intersect\n",
    "\n",
    "# Get the list of expressed genes to remove lowly expressed\n",
    "# genes from consideration\n",
    "expressed_genes_file = open('./expressedGenes_final_any.txt','r')\n",
    "expressed_genes = []\n",
    "for line in expressed_genes_file:\n",
    "    expressed_genes.append(line.strip())\n",
    "\n",
    "# Read the differential expression file\n",
    "gene_DE = readDEFile('./leiomyoma_paired_pt_DESeq2_results.csv')"
   ]
  },
  {
   "cell_type": "code",
   "execution_count": 25,
   "metadata": {},
   "outputs": [],
   "source": [
    "# Get differentially expressed genes for which any isoform \n",
    "# overlaps one of the differential contact domains. \n",
    "# This is done separately for contact domains with increasing\n",
    "# and decreasing activating histone marks in leiomyoma\n",
    "\n",
    "def singleOverlap(region1, region2):\n",
    "    # Tests for an overlap between the two regions\n",
    "    # in bed format\n",
    "    if(region1[0] != region2[0]):\n",
    "        return False\n",
    "    elif(region1[1] < region2[2] and region1[2] > region2[1]):\n",
    "        return True\n",
    "    else:\n",
    "        return False\n",
    "    \n",
    "diff_cds_high = abf.readBedList(output_dir + 'diff_contact_domains_higher_leio_'+date+'.bed')\n",
    "\n",
    "cds_high_genes = {}\n",
    "for region in diff_cds_high:\n",
    "    cds_high_genes[tuple(region)] = []\n",
    "    for iso in isoform_table:\n",
    "        if(singleOverlap(region, [iso[1], int(iso[3]), int(iso[4])])):\n",
    "            if(iso[-1] not in cds_high_genes[tuple(region)]):\n",
    "                cds_high_genes[tuple(region)].append(iso[-1])\n",
    "\n",
    "cds_high_DE_genes = {}\n",
    "for cd in cds_high_genes:\n",
    "    cds_high_DE_genes[cd] = intersectwDE(cds_high_genes[cd], gene_DE, 0.01, 0.5)\n",
    "\n",
    "\n",
    "diff_cds_low = abf.readBedList(output_dir + 'diff_contact_domains_lower_leio_'+date+'.bed')\n",
    "\n",
    "cds_low_genes = {}\n",
    "for region in diff_cds_low:\n",
    "    cds_low_genes[tuple(region)] = []\n",
    "    for iso in isoform_table:\n",
    "        if(singleOverlap(region, [iso[1], int(iso[3]), int(iso[4])])):\n",
    "            if(iso[-1] not in cds_low_genes[tuple(region)]):\n",
    "                cds_low_genes[tuple(region)].append(iso[-1])\n",
    "\n",
    "cds_low_DE_genes = {}\n",
    "for cd in cds_low_genes:\n",
    "    cds_low_DE_genes[cd] = intersectwDE(cds_low_genes[cd], gene_DE, 0.01, 0.5)"
   ]
  },
  {
   "cell_type": "code",
   "execution_count": 26,
   "metadata": {
    "scrolled": true
   },
   "outputs": [
    {
     "name": "stdout",
     "output_type": "stream",
     "text": [
      "Increasing regions with increasing DE genes:  23 33\n",
      "Decreasing regions with decreasing DE genes:  17 19\n"
     ]
    }
   ],
   "source": [
    "# How many of the differential contact domains contain a gene\n",
    "# that is differentially expressed in the corresponding direction.\n",
    "\n",
    "n_cds = len(cds_high_DE_genes)\n",
    "n_DE_cds = 0\n",
    "for cd in cds_high_DE_genes:\n",
    "    for gene in cds_high_DE_genes[cd]:\n",
    "        if(gene[1] > 0.0):\n",
    "            n_DE_cds += 1\n",
    "            break\n",
    "print('Increasing regions with increasing DE genes: ', n_DE_cds, n_cds)\n",
    "\n",
    "n_cds = len(cds_low_DE_genes)\n",
    "n_DE_cds = 0\n",
    "for cd in cds_low_DE_genes:\n",
    "    for gene in cds_low_DE_genes[cd]:\n",
    "        if(gene[1] < 0.0):\n",
    "            n_DE_cds += 1\n",
    "            break\n",
    "print('Decreasing regions with decreasing DE genes: ', n_DE_cds, n_cds)"
   ]
  },
  {
   "cell_type": "code",
   "execution_count": null,
   "metadata": {},
   "outputs": [],
   "source": []
  }
 ],
 "metadata": {
  "kernelspec": {
   "display_name": "Python 3",
   "language": "python",
   "name": "python3"
  },
  "language_info": {
   "codemirror_mode": {
    "name": "ipython",
    "version": 3
   },
   "file_extension": ".py",
   "mimetype": "text/x-python",
   "name": "python",
   "nbconvert_exporter": "python",
   "pygments_lexer": "ipython3",
   "version": "3.7.3"
  }
 },
 "nbformat": 4,
 "nbformat_minor": 2
}
