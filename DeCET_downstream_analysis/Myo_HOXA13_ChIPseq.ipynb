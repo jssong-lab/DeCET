{
 "cells": [
  {
   "cell_type": "code",
   "execution_count": 1,
   "metadata": {},
   "outputs": [],
   "source": [
    "import numpy as np\n",
    "import torch\n",
    "import scipy\n",
    "import scipy.stats\n",
    "import matplotlib.pyplot as plt\n",
    "from matplotlib import rcParams\n",
    "import matplotlib.patches as mpatches\n",
    "import seaborn\n",
    "seaborn.set(font='Arial')\n",
    "plt.style.use('default')\n",
    "rcParams['font.family'] = 'Arial'\n",
    "rcParams['font.size'] = 11\n",
    "rcParams['pdf.fonttype'] = 42\n",
    "plt.rcParams.update({\"text.color\": 'k'})\n",
    "\n",
    "import sys\n",
    "sys.path.append('./')\n",
    "import auxiliary_bed_functions as abf\n",
    "chr_list = abf.getChrList()\n",
    "\n",
    "date = '8_6_20' # Change this to today's date for output names.\n",
    "\n",
    "input_dir = '../' # directory with input files\n",
    "file_prefix = 'leiomyoma_HOSVD_final' # prefix used for input files\n",
    "output_dir = '../' # directory to write output"
   ]
  },
  {
   "cell_type": "code",
   "execution_count": 2,
   "metadata": {},
   "outputs": [],
   "source": [
    "def getMinDistance(value, some_list):\n",
    "    min_d = abs(value - some_list[0])\n",
    "    for i in range(1,len(some_list)):\n",
    "        if(abs(value - some_list[i]) < min_d):\n",
    "            min_d = abs(value - some_list[i])\n",
    "    return min_d\n",
    "\n",
    "def getDistribution(data_list, N, upper):\n",
    "    \"\"\"Obtain a histogram for the list over a given range.\n",
    "    \n",
    "    The region between 0 and upper will be binned into\n",
    "    equally sized bins. There is an additional overflow bin\n",
    "    that contains the number of elements beyond the upper \n",
    "    bound. The function assumes there are no negative entries.\n",
    "    The bin values are scaled by the total number of\n",
    "    elements in the input data list so that the bin values\n",
    "    and overflow bin sum to 1.\n",
    "    \"\"\"\n",
    "    L = len(data_list)\n",
    "    distribution = [0.0 for i in range(N+1)]\n",
    "    step = upper/N\n",
    "    for l in range(L):\n",
    "        for k in range(N):\n",
    "            if(data_list[l] >= step*k and data_list[l] < step*(k+1)):\n",
    "                distribution[k] += 1\n",
    "                break\n",
    "            elif(data_list[l] >= upper):\n",
    "                distribution[-1] += 1\n",
    "                break\n",
    "    for k in range(N+1):\n",
    "        distribution[k] /= L\n",
    "    return distribution"
   ]
  },
  {
   "cell_type": "code",
   "execution_count": 3,
   "metadata": {},
   "outputs": [],
   "source": [
    "# The intersected peak file. This can be obtained\n",
    "# by intersecting the narrowPeak files for the two\n",
    "# replicates using bedtools.\n",
    "M_HOXA13_pool = abf.readBed(input_dir + '../Myo_HOXA13/M_intersect_h13v5_1e6FDR_peaks.narrowPeak')"
   ]
  },
  {
   "cell_type": "code",
   "execution_count": 4,
   "metadata": {},
   "outputs": [],
   "source": [
    "# Obtain the center of the intersected peak regions.\n",
    "# The center is defined as the average of the starting\n",
    "# and ending coordinates.\n",
    "M_H13_pool_summit = [[0.5*(M_HOXA13_pool[c][i][1] + M_HOXA13_pool[c][i][2]) for i in range(len(M_HOXA13_pool[c]))] for c in range(len(chr_list))]\n"
   ]
  },
  {
   "cell_type": "code",
   "execution_count": 5,
   "metadata": {},
   "outputs": [],
   "source": [
    "# Read in the regions with increased histone modifications\n",
    "# associated with active gene regulation in leiomyoma.\n",
    "DeCET_leio_high = abf.readBed(input_dir + 'region_files/location_vector_4_differential_regions_neg.txt')"
   ]
  },
  {
   "cell_type": "code",
   "execution_count": 6,
   "metadata": {},
   "outputs": [],
   "source": [
    "# For each of the altered regions obtain the distance\n",
    "# to the nearest HOXA13 peak center.\n",
    "distance_list_leio_regions = []\n",
    "for c in range(len(chr_list)):\n",
    "    for i in range(len(DeCET_leio_high[c])):\n",
    "        distance_list_leio_regions.append(getMinDistance(0.5*(DeCET_leio_high[c][i][2] + DeCET_leio_high[c][i][1]), M_H13_pool_summit[c]))"
   ]
  },
  {
   "cell_type": "code",
   "execution_count": 7,
   "metadata": {},
   "outputs": [
    {
     "name": "stdout",
     "output_type": "stream",
     "text": [
      "Max distance:  1553376.0\n",
      "Mean distance:  47692.053630363036\n",
      "Median distance:  12770.5\n"
     ]
    }
   ],
   "source": [
    "# Get the histogram of distances.\n",
    "print(\"Max distance: \", max(distance_list_leio_regions))\n",
    "N = 10\n",
    "upper_enhancer = 20000\n",
    "distance_distribution_leio_regions =  getDistribution(distance_list_leio_regions, N, upper_enhancer)     \n",
    "print(\"Mean distance: \", np.mean(distance_list_leio_regions))\n",
    "print(\"Median distance: \", np.median(distance_list_leio_regions))"
   ]
  },
  {
   "cell_type": "code",
   "execution_count": 8,
   "metadata": {},
   "outputs": [],
   "source": [
    "# Repeat for the regions with reduced histone modifications\n",
    "# in leiomyoma (equivalently higher histone modifications\n",
    "# in myometrium)\n",
    "DeCET_myo_high = abf.readBed(input_dir + 'region_files/location_vector_4_differential_regions_pos.txt')"
   ]
  },
  {
   "cell_type": "code",
   "execution_count": 9,
   "metadata": {},
   "outputs": [],
   "source": [
    "distance_list_myo_regions = []\n",
    "for c in range(len(chr_list)):\n",
    "    for i in range(len(DeCET_myo_high[c])):\n",
    "        distance_list_myo_regions.append(getMinDistance(0.5*(DeCET_myo_high[c][i][2] + DeCET_myo_high[c][i][1]), M_H13_pool_summit[c]))"
   ]
  },
  {
   "cell_type": "code",
   "execution_count": 10,
   "metadata": {},
   "outputs": [
    {
     "name": "stdout",
     "output_type": "stream",
     "text": [
      "Max distance:  464732.5\n",
      "Mean distance:  18512.302067381315\n",
      "Median distance:  6616.5\n"
     ]
    }
   ],
   "source": [
    "print(\"Max distance: \", max(distance_list_myo_regions))\n",
    "N = 10\n",
    "upper_enhancer = 20000\n",
    "distance_distribution_myo_regions =  getDistribution(distance_list_myo_regions, N, upper_enhancer)     \n",
    "print(\"Mean distance: \", np.mean(distance_list_myo_regions))\n",
    "print(\"Median distance: \", np.median(distance_list_myo_regions))"
   ]
  },
  {
   "cell_type": "code",
   "execution_count": 11,
   "metadata": {},
   "outputs": [
    {
     "data": {
      "image/png": "[encoded data removed]",
      "text/plain": [
       "<Figure size 302.4x205.2 with 1 Axes>"
      ]
     },
     "metadata": {
      "needs_background": "light"
     },
     "output_type": "display_data"
    }
   ],
   "source": [
    "# Distribution of the distance to the\n",
    "# nearest HOXA13 peak for regions with higer/lower\n",
    "# histone modifications in leiomyoma\n",
    "legend_TN = [mpatches.Patch(color=c, label=l) for c,l in zip([(0,0,1,1), (1,0,0,1)], ['Higher in leio', 'Lower in leio'])]\n",
    "fig1 = plt.figure(1,figsize=(4.2, 2.85))\n",
    "ax1 = fig1.add_subplot(111)  \n",
    "fig1.canvas.draw()\n",
    "\n",
    "ax1.plot([i*(upper_enhancer/N) for i in range(len(distance_distribution_myo_regions)+1)],\n",
    "         [0] + distance_distribution_myo_regions,\n",
    "         c=(1,0,0,1), ds='steps')\n",
    "ax1.plot([i*(upper_enhancer/N) for i in range(len(distance_distribution_leio_regions)+1)],\n",
    "         [0] + distance_distribution_leio_regions,\n",
    "         c=(0,0,1,1), ds='steps')\n",
    "\n",
    "a=ax1.get_xticks().tolist()\n",
    "a[-2]='>20'\n",
    "for i in range(len(a)-2):\n",
    "    a[i] = int(int(a[i])/1000)\n",
    "ax1.set_xticklabels(a)\n",
    "ax1.set_xlabel('Distance to nearest HOXA13 peak center (kb)',fontsize=11)\n",
    "#plt.ylim(0.0, 0.6)\n",
    "\n",
    "ax1.legend(handles=legend_TN, frameon=True, fontsize=10, ncol=1)\n",
    "\n",
    "ax1.set_ylabel('Distribution',fontsize=11)\n",
    "plt.title('All altered regions',fontsize=11)\n",
    "plt.tight_layout()"
   ]
  },
  {
   "cell_type": "code",
   "execution_count": 12,
   "metadata": {},
   "outputs": [
    {
     "data": {
      "text/plain": [
       "MannwhitneyuResult(statistic=1413740.5, pvalue=8.062008272339623e-20)"
      ]
     },
     "execution_count": 12,
     "metadata": {},
     "output_type": "execute_result"
    }
   ],
   "source": [
    "# Mann Whitney U test for the list of distances\n",
    "# to the nearest HOXA13 peak.\n",
    "scipy.stats.mannwhitneyu(distance_list_leio_regions,\n",
    "                         distance_list_myo_regions,\n",
    "                         alternative='two-sided')"
   ]
  },
  {
   "cell_type": "code",
   "execution_count": 13,
   "metadata": {},
   "outputs": [],
   "source": [
    "# Read in sets of random histone modification ChIP-seq\n",
    "# peaks. The random set of peaks was obtained by \n",
    "# pooling peaks from all 21 leiomyoma patients and \n",
    "# sampling 10000 random peaks for each histone modification.\n",
    "Leio_H3K27ac_peaks = abf.readBed(input_dir + 'MACS2_peaks/Leio_H3K27ac_MACS2_10k_peaks.broadPeak')\n",
    "Leio_H3K4me3_peaks = abf.readBed(input_dir + 'MACS2_peaks/Leio_H3K4me3_MACS2_10k_peaks.broadPeak')\n",
    "Leio_H3K4me1_peaks = abf.readBed(input_dir + 'MACS2_peaks/Leio_H3K4me1_MACS2_10k_peaks.broadPeak')"
   ]
  },
  {
   "cell_type": "code",
   "execution_count": 14,
   "metadata": {},
   "outputs": [],
   "source": [
    "# Compute the distance the the nearest HOXA13 peak \n",
    "# for each of the random peaks.\n",
    "distance_list_leio_H3K27ac_random = []\n",
    "for c in range(len(chr_list)):\n",
    "    for i in range(len(Leio_H3K27ac_peaks[c])):\n",
    "        center = 0.5*(Leio_H3K27ac_peaks[c][i][1] + Leio_H3K27ac_peaks[c][i][2])\n",
    "        distance_list_leio_H3K27ac_random.append(getMinDistance(center, M_H13_pool_summit[c]))\n",
    "        \n",
    "distance_list_leio_H3K4me3_random = []\n",
    "for c in range(len(chr_list)):\n",
    "    for i in range(len(Leio_H3K4me3_peaks[c])):\n",
    "        center = 0.5*(Leio_H3K4me3_peaks[c][i][1] + Leio_H3K4me3_peaks[c][i][2])\n",
    "        distance_list_leio_H3K4me3_random.append(getMinDistance(center, M_H13_pool_summit[c]))\n",
    "        \n",
    "distance_list_leio_H3K4me1_random = []\n",
    "for c in range(len(chr_list)):\n",
    "    for i in range(len(Leio_H3K4me1_peaks[c])):\n",
    "        center = 0.5*(Leio_H3K4me1_peaks[c][i][1] + Leio_H3K4me1_peaks[c][i][2])\n",
    "        distance_list_leio_H3K4me1_random.append(getMinDistance(center, M_H13_pool_summit[c]))"
   ]
  },
  {
   "cell_type": "code",
   "execution_count": 15,
   "metadata": {},
   "outputs": [
    {
     "name": "stdout",
     "output_type": "stream",
     "text": [
      "Max distance:  1762719.5\n",
      "Mean distance:  40990.2224\n",
      "Median distance:  13553.5\n",
      "Max distance:  1912678.5\n",
      "Mean distance:  70856.4038\n",
      "Median distance:  27950.0\n",
      "Max distance:  2374275.5\n",
      "Mean distance:  39579.69005\n",
      "Median distance:  11404.25\n"
     ]
    }
   ],
   "source": [
    "# Get the histogram of distances for the random peak regions.\n",
    "print(\"Max distance: \", max(distance_list_leio_H3K27ac_random))\n",
    "N = 10\n",
    "upper_enhancer = 20000\n",
    "distance_distribution_leio_H3K27ac_random =  getDistribution(distance_list_leio_H3K27ac_random, N, upper_enhancer)     \n",
    "print(\"Mean distance: \", np.mean(distance_list_leio_H3K27ac_random))\n",
    "print(\"Median distance: \", np.median(distance_list_leio_H3K27ac_random))\n",
    "\n",
    "print(\"Max distance: \", max(distance_list_leio_H3K4me3_random))\n",
    "N = 10\n",
    "upper_enhancer = 20000\n",
    "distance_distribution_leio_H3K4me3_random =  getDistribution(distance_list_leio_H3K4me3_random, N, upper_enhancer)     \n",
    "print(\"Mean distance: \", np.mean(distance_list_leio_H3K4me3_random))\n",
    "print(\"Median distance: \", np.median(distance_list_leio_H3K4me3_random))\n",
    "\n",
    "print(\"Max distance: \", max(distance_list_leio_H3K4me1_random))\n",
    "N = 10\n",
    "upper_enhancer = 20000\n",
    "distance_distribution_leio_H3K4me1_random =  getDistribution(distance_list_leio_H3K4me1_random, N, upper_enhancer)     \n",
    "print(\"Mean distance: \", np.mean(distance_list_leio_H3K4me1_random))\n",
    "print(\"Median distance: \", np.median(distance_list_leio_H3K4me1_random))"
   ]
  },
  {
   "cell_type": "code",
   "execution_count": 16,
   "metadata": {},
   "outputs": [],
   "source": [
    "# Read in sets of random histone modification ChIP-seq\n",
    "# peaks. The random set of peaks was obtained by \n",
    "# pooling peaks from all 21 myometrium patients and \n",
    "# sampling 10000 random peaks for each histone modification.\n",
    "Myo_H3K27ac_peaks = abf.readBed(input_dir + 'MACS2_peaks/Myo_H3K27ac_MACS2_10k_peaks.broadPeak')\n",
    "Myo_H3K4me3_peaks = abf.readBed(input_dir + 'MACS2_peaks/Myo_H3K4me3_MACS2_10k_peaks.broadPeak')\n",
    "Myo_H3K4me1_peaks = abf.readBed(input_dir + 'MACS2_peaks/Myo_H3K4me1_MACS2_10k_peaks.broadPeak')"
   ]
  },
  {
   "cell_type": "code",
   "execution_count": 17,
   "metadata": {},
   "outputs": [],
   "source": [
    "# Compute the distance the the nearest HOXA13 peak \n",
    "# for each of the random peaks.\n",
    "distance_list_myo_H3K27ac_random = []\n",
    "for c in range(len(chr_list)):\n",
    "    for i in range(len(Myo_H3K27ac_peaks[c])):\n",
    "        center = 0.5*(Myo_H3K27ac_peaks[c][i][1] + Myo_H3K27ac_peaks[c][i][2])\n",
    "        distance_list_myo_H3K27ac_random.append(getMinDistance(center, M_H13_pool_summit[c]))\n",
    "        \n",
    "distance_list_myo_H3K4me3_random = []\n",
    "for c in range(len(chr_list)):\n",
    "    if(c == 23):\n",
    "        continue\n",
    "    for i in range(len(Myo_H3K4me3_peaks[c])):\n",
    "        center = 0.5*(Myo_H3K4me3_peaks[c][i][1] + Myo_H3K4me3_peaks[c][i][2])\n",
    "        distance_list_myo_H3K4me3_random.append(getMinDistance(center, M_H13_pool_summit[c]))\n",
    "        \n",
    "distance_list_myo_H3K4me1_random = []\n",
    "for c in range(len(chr_list)):\n",
    "    for i in range(len(Myo_H3K4me1_peaks[c])):\n",
    "        center = 0.5*(Myo_H3K4me1_peaks[c][i][1] + Myo_H3K4me1_peaks[c][i][2])\n",
    "        distance_list_myo_H3K4me1_random.append(getMinDistance(center, M_H13_pool_summit[c]))"
   ]
  },
  {
   "cell_type": "code",
   "execution_count": 18,
   "metadata": {},
   "outputs": [
    {
     "name": "stdout",
     "output_type": "stream",
     "text": [
      "Max distance:  1925046.5\n",
      "Mean distance:  39538.3522\n",
      "Median distance:  13235.75\n",
      "Max distance:  1769310.0\n",
      "Mean distance:  71417.0728\n",
      "Median distance:  28535.5\n",
      "Max distance:  1925501.0\n",
      "Mean distance:  35320.38305\n",
      "Median distance:  11416.0\n"
     ]
    }
   ],
   "source": [
    "# Get the histogram of distances for the random peak regions.\n",
    "print(\"Max distance: \", max(distance_list_myo_H3K27ac_random))\n",
    "N = 10\n",
    "upper_enhancer = 20000\n",
    "distance_distribution_myo_H3K27ac_random =  getDistribution(distance_list_myo_H3K27ac_random, N, upper_enhancer)     \n",
    "print(\"Mean distance: \", np.mean(distance_list_myo_H3K27ac_random))\n",
    "print(\"Median distance: \", np.median(distance_list_myo_H3K27ac_random))\n",
    "\n",
    "print(\"Max distance: \", max(distance_list_myo_H3K4me3_random))\n",
    "N = 10\n",
    "upper_enhancer = 20000\n",
    "distance_distribution_myo_H3K4me3_random =  getDistribution(distance_list_myo_H3K4me3_random, N, upper_enhancer)     \n",
    "print(\"Mean distance: \", np.mean(distance_list_myo_H3K4me3_random))\n",
    "print(\"Median distance: \", np.median(distance_list_myo_H3K4me3_random))\n",
    "\n",
    "print(\"Max distance: \", max(distance_list_myo_H3K4me1_random))\n",
    "N = 10\n",
    "upper_enhancer = 20000\n",
    "distance_distribution_myo_H3K4me1_random =  getDistribution(distance_list_myo_H3K4me1_random, N, upper_enhancer)     \n",
    "print(\"Mean distance: \", np.mean(distance_list_myo_H3K4me1_random))\n",
    "print(\"Median distance: \", np.median(distance_list_myo_H3K4me1_random))"
   ]
  },
  {
   "cell_type": "code",
   "execution_count": 19,
   "metadata": {},
   "outputs": [
    {
     "data": {
      "image/png": "[encoded data removed]",
      "text/plain": [
       "<Figure size 302.4x205.2 with 1 Axes>"
      ]
     },
     "metadata": {
      "needs_background": "light"
     },
     "output_type": "display_data"
    }
   ],
   "source": [
    "# Distribution of the distance to the nearest \n",
    "# HOXA13 peak for random H3K27ac peaks sampled \n",
    "# from leiomyoma or myometrium samples\n",
    "legend_TN = [mpatches.Patch(color=c, label=l) for c,l in zip([(0,0,1,1), (1,0,0,1)], ['Random leio H3K27ac peaks', 'Random myo H3K27ac peaks'])]\n",
    "fig1 = plt.figure(1,figsize=(4.2, 2.85))\n",
    "ax1 = fig1.add_subplot(111)  \n",
    "fig1.canvas.draw()\n",
    "\n",
    "ax1.plot([i*(upper_enhancer/N) for i in range(len(distance_distribution_myo_H3K27ac_random)+1)],\n",
    "         [0] + distance_distribution_myo_H3K27ac_random,\n",
    "         c=(1,0,0,1), ds='steps')\n",
    "ax1.plot([i*(upper_enhancer/N) for i in range(len(distance_distribution_leio_H3K27ac_random)+1)],\n",
    "         [0] + distance_distribution_leio_H3K27ac_random,\n",
    "         c=(0,0,1,1), ds='steps')\n",
    "\n",
    "a=ax1.get_xticks().tolist()\n",
    "a[-2]='>20'\n",
    "for i in range(len(a)-2):\n",
    "    a[i] = int(int(a[i])/1000)\n",
    "ax1.set_xticklabels(a)\n",
    "ax1.set_xlabel('Distance to nearest HOXA13 peak center (kb)',fontsize=11)\n",
    "#plt.ylim(0.0, 0.6)\n",
    "\n",
    "ax1.legend(handles=legend_TN, frameon=True, fontsize=10, ncol=1)\n",
    "\n",
    "ax1.set_ylabel('Distribution',fontsize=11)\n",
    "plt.title('Random H3K27ac peaks',fontsize=11)\n",
    "plt.tight_layout()"
   ]
  },
  {
   "cell_type": "code",
   "execution_count": 20,
   "metadata": {},
   "outputs": [
    {
     "data": {
      "image/png": "[encoded data removed]",
      "text/plain": [
       "<Figure size 302.4x205.2 with 1 Axes>"
      ]
     },
     "metadata": {
      "needs_background": "light"
     },
     "output_type": "display_data"
    }
   ],
   "source": [
    "# Distribution of the distance to the nearest \n",
    "# HOXA13 peak for random H3K4me3 peaks sampled \n",
    "# from leiomyoma or myometrium samples\n",
    "legend_TN = [mpatches.Patch(color=c, label=l) for c,l in zip([(0,0,1,1), (1,0,0,1)], ['Random leio H3K4me3 peaks', 'Random myo H3K4me3 peaks'])]\n",
    "fig1 = plt.figure(1,figsize=(4.2, 2.85))\n",
    "ax1 = fig1.add_subplot(111)  \n",
    "fig1.canvas.draw()\n",
    "\n",
    "ax1.plot([i*(upper_enhancer/N) for i in range(len(distance_distribution_myo_H3K4me3_random)+1)],\n",
    "         [0] + distance_distribution_myo_H3K4me3_random,\n",
    "         c=(1,0,0,1), ds='steps')\n",
    "ax1.plot([i*(upper_enhancer/N) for i in range(len(distance_distribution_leio_H3K4me3_random)+1)],\n",
    "         [0] + distance_distribution_leio_H3K4me3_random,\n",
    "         c=(0,0,1,1), ds='steps')\n",
    "\n",
    "a=ax1.get_xticks().tolist()\n",
    "a[-2]='>20'\n",
    "for i in range(len(a)-2):\n",
    "    a[i] = int(int(a[i])/1000)\n",
    "ax1.set_xticklabels(a)\n",
    "ax1.set_xlabel('Distance to nearest HOXA13 peak center (kb)',fontsize=11)\n",
    "#plt.ylim(0.0, 0.6)\n",
    "\n",
    "ax1.legend(handles=legend_TN, frameon=True, fontsize=10, ncol=1)\n",
    "\n",
    "ax1.set_ylabel('Distribution',fontsize=11)\n",
    "plt.title('Random H3K4me3 peaks',fontsize=11)\n",
    "plt.tight_layout()"
   ]
  },
  {
   "cell_type": "code",
   "execution_count": 21,
   "metadata": {},
   "outputs": [
    {
     "data": {
      "image/png": "[encoded data removed]",
      "text/plain": [
       "<Figure size 302.4x205.2 with 1 Axes>"
      ]
     },
     "metadata": {
      "needs_background": "light"
     },
     "output_type": "display_data"
    }
   ],
   "source": [
    "# Distribution of the distance to the nearest \n",
    "# HOXA13 peak for random H3K4me1 peaks sampled \n",
    "# from leiomyoma or myometrium samples\n",
    "legend_TN = [mpatches.Patch(color=c, label=l) for c,l in zip([(0,0,1,1), (1,0,0,1)], ['Random leio H3K4me1 peaks', 'Random myo H3K4me1 peaks'])]\n",
    "fig1 = plt.figure(1,figsize=(4.2, 2.85))\n",
    "ax1 = fig1.add_subplot(111)  \n",
    "fig1.canvas.draw()\n",
    "\n",
    "ax1.plot([i*(upper_enhancer/N) for i in range(len(distance_distribution_myo_H3K4me1_random)+1)],\n",
    "         [0] + distance_distribution_myo_H3K4me1_random,\n",
    "         c=(1,0,0,1), ds='steps')\n",
    "ax1.plot([i*(upper_enhancer/N) for i in range(len(distance_distribution_leio_H3K4me1_random)+1)],\n",
    "         [0] + distance_distribution_leio_H3K4me1_random,\n",
    "         c=(0,0,1,1), ds='steps')\n",
    "\n",
    "a=ax1.get_xticks().tolist()\n",
    "a[-2]='>20'\n",
    "for i in range(len(a)-2):\n",
    "    a[i] = int(int(a[i])/1000)\n",
    "ax1.set_xticklabels(a)\n",
    "ax1.set_xlabel('Distance to nearest HOXA13 peak center (kb)',fontsize=11)\n",
    "#plt.ylim(0.0, 0.6)\n",
    "\n",
    "ax1.legend(handles=legend_TN, frameon=True, fontsize=10, ncol=1)\n",
    "\n",
    "ax1.set_ylabel('Distribution',fontsize=11)\n",
    "plt.title('Random H3K4me1 peaks',fontsize=11)\n",
    "plt.tight_layout()"
   ]
  },
  {
   "cell_type": "code",
   "execution_count": null,
   "metadata": {},
   "outputs": [],
   "source": []
  },
  {
   "cell_type": "code",
   "execution_count": 22,
   "metadata": {},
   "outputs": [
    {
     "data": {
      "image/png": "[encoded data removed]",
      "text/plain": [
       "<Figure size 288x205.2 with 1 Axes>"
      ]
     },
     "metadata": {
      "needs_background": "light"
     },
     "output_type": "display_data"
    }
   ],
   "source": [
    "# Figure 5E: Distribution of the distance to the\n",
    "# nearest HOXA13 peak for the regions with lower \n",
    "# histone modifications in leiomyoma or for random\n",
    "# H3K27ac peaks sampled from myometrium samples.\n",
    "legend_TN = [mpatches.Patch(color=c, label=l) for c,l in zip([(1,0,0,1), (0,0,0,1)], ['Lower in leio', 'Random myo H3K27ac peaks'])]\n",
    "# fig1 = plt.figure(1,figsize=(4.2, 2.85))\n",
    "# fig1 = plt.figure(1,figsize=(3.7, 2.85))\n",
    "fig1 = plt.figure(1,figsize=(4.0, 2.85))\n",
    "ax1 = fig1.add_subplot(111)  \n",
    "fig1.canvas.draw()\n",
    "\n",
    "ax1.plot([i*(upper_enhancer/N) for i in range(len(distance_distribution_myo_H3K27ac_random)+1)],\n",
    "         [0] + distance_distribution_myo_H3K27ac_random,\n",
    "         c=(0,0,0,1), ds='steps')\n",
    "ax1.plot([i*(upper_enhancer/N) for i in range(len(distance_distribution_myo_regions)+1)],\n",
    "         [0] + distance_distribution_myo_regions,\n",
    "         c=(1,0,0,1), ds='steps')\n",
    "\n",
    "a=ax1.get_xticks().tolist()\n",
    "a[-2]='>20'\n",
    "for i in range(len(a)-2):\n",
    "    a[i] = int(int(a[i])/1000)\n",
    "ax1.set_xticklabels(a)\n",
    "ax1.set_xlabel('Distance to nearest HOXA13 peak center (kb)',fontsize=11)\n",
    "#plt.ylim(0.0, 0.6)\n",
    "\n",
    "ax1.legend(handles=legend_TN, frameon=True, fontsize=10, ncol=1)\n",
    "\n",
    "ax1.set_ylabel('Distribution',fontsize=11)\n",
    "plt.title('Altered vs. random peak regions',fontsize=11)\n",
    "plt.tight_layout()\n",
    "\n",
    "plt.savefig(output_dir + 'figures/' + 'figure5_panels/' + file_prefix +\n",
    "            '_panelE_HOXA13_lower_leio_dist_' + date + '.pdf', format='pdf', transparent=True)"
   ]
  },
  {
   "cell_type": "code",
   "execution_count": 23,
   "metadata": {},
   "outputs": [
    {
     "data": {
      "text/plain": [
       "MannwhitneyuResult(statistic=7754685.0, pvalue=2.4499931664299094e-28)"
      ]
     },
     "execution_count": 23,
     "metadata": {},
     "output_type": "execute_result"
    }
   ],
   "source": [
    "# Mann Whitney U test for the list of distances\n",
    "# to regions with lower histone modifications in\n",
    "# leiomyoma vs random H3K27ac peaks from myometrium\n",
    "# samples.\n",
    "scipy.stats.mannwhitneyu(distance_list_myo_H3K27ac_random,\n",
    "                         distance_list_myo_regions,\n",
    "                         alternative='two-sided')"
   ]
  },
  {
   "cell_type": "code",
   "execution_count": 24,
   "metadata": {},
   "outputs": [
    {
     "data": {
      "image/png": "[encoded data removed]",
      "text/plain": [
       "<Figure size 302.4x205.2 with 1 Axes>"
      ]
     },
     "metadata": {
      "needs_background": "light"
     },
     "output_type": "display_data"
    }
   ],
   "source": [
    "# Distribution of the distance to the\n",
    "# nearest HOXA13 peak for the regions with lower \n",
    "# histone modifications in leiomyoma or for random\n",
    "# H3K4me3 peaks sampled from myometrium samples.\n",
    "legend_TN = [mpatches.Patch(color=c, label=l) for c,l in zip([(1,0,0,1), (0,0,0,1)], ['Lower in leio', 'Random myo H3K4me3 peaks'])]\n",
    "fig1 = plt.figure(1,figsize=(4.2, 2.85))\n",
    "ax1 = fig1.add_subplot(111)  \n",
    "fig1.canvas.draw()\n",
    "\n",
    "ax1.plot([i*(upper_enhancer/N) for i in range(len(distance_distribution_myo_H3K4me3_random)+1)],\n",
    "         [0] + distance_distribution_myo_H3K4me3_random,\n",
    "         c=(0,0,0,1), ds='steps')\n",
    "ax1.plot([i*(upper_enhancer/N) for i in range(len(distance_distribution_myo_regions)+1)],\n",
    "         [0] + distance_distribution_myo_regions,\n",
    "         c=(1,0,0,1), ds='steps')\n",
    "\n",
    "a=ax1.get_xticks().tolist()\n",
    "a[-2]='>20'\n",
    "for i in range(len(a)-2):\n",
    "    a[i] = int(int(a[i])/1000)\n",
    "ax1.set_xticklabels(a)\n",
    "ax1.set_xlabel('Distance to nearest HOXA13 peak center (kb)',fontsize=11)\n",
    "#plt.ylim(0.0, 0.6)\n",
    "\n",
    "ax1.legend(handles=legend_TN, frameon=True, fontsize=10, ncol=1)\n",
    "\n",
    "ax1.set_ylabel('Distribution',fontsize=11)\n",
    "plt.title('Altered vs. random peak regions',fontsize=11)\n",
    "plt.tight_layout()"
   ]
  },
  {
   "cell_type": "code",
   "execution_count": 25,
   "metadata": {},
   "outputs": [
    {
     "data": {
      "text/plain": [
       "MannwhitneyuResult(statistic=9311185.5, pvalue=1.0252872810562156e-138)"
      ]
     },
     "execution_count": 25,
     "metadata": {},
     "output_type": "execute_result"
    }
   ],
   "source": [
    "# Mann Whitney U test for the list of distances\n",
    "# to regions with lower histone modifications in\n",
    "# leiomyoma vs random H3K4me3 peaks from myometrium\n",
    "# samples.\n",
    "scipy.stats.mannwhitneyu(distance_list_myo_H3K4me3_random,\n",
    "                         distance_list_myo_regions,\n",
    "                         alternative='two-sided')"
   ]
  },
  {
   "cell_type": "code",
   "execution_count": 26,
   "metadata": {},
   "outputs": [
    {
     "data": {
      "image/png": "[encoded data removed]",
      "text/plain": [
       "<Figure size 302.4x205.2 with 1 Axes>"
      ]
     },
     "metadata": {
      "needs_background": "light"
     },
     "output_type": "display_data"
    }
   ],
   "source": [
    "# Distribution of the distance to the\n",
    "# nearest HOXA13 peak for the regions with lower \n",
    "# histone modifications in leiomyoma or for random\n",
    "# H3K4me1 peaks sampled from myometrium samples.\n",
    "legend_TN = [mpatches.Patch(color=c, label=l) for c,l in zip([(1,0,0,1), (0,0,0,1)], ['Lower in leio', 'Random myo H3K4me1 peaks'])]\n",
    "fig1 = plt.figure(1,figsize=(4.2, 2.85))\n",
    "ax1 = fig1.add_subplot(111)  \n",
    "fig1.canvas.draw()\n",
    "\n",
    "ax1.plot([i*(upper_enhancer/N) for i in range(len(distance_distribution_myo_H3K4me1_random)+1)],\n",
    "         [0] + distance_distribution_myo_H3K4me1_random,\n",
    "         c=(0,0,0,1), ds='steps')\n",
    "ax1.plot([i*(upper_enhancer/N) for i in range(len(distance_distribution_myo_regions)+1)],\n",
    "         [0] + distance_distribution_myo_regions,\n",
    "         c=(1,0,0,1), ds='steps')\n",
    "\n",
    "a=ax1.get_xticks().tolist()\n",
    "a[-2]='>20'\n",
    "for i in range(len(a)-2):\n",
    "    a[i] = int(int(a[i])/1000)\n",
    "ax1.set_xticklabels(a)\n",
    "ax1.set_xlabel('Distance to nearest HOXA13 peak center (kb)',fontsize=11)\n",
    "#plt.ylim(0.0, 0.6)\n",
    "\n",
    "ax1.legend(handles=legend_TN, frameon=True, fontsize=10, ncol=1)\n",
    "\n",
    "ax1.set_ylabel('Distribution',fontsize=11)\n",
    "plt.title('Altered vs. random peak regions',fontsize=11)\n",
    "plt.tight_layout()"
   ]
  },
  {
   "cell_type": "code",
   "execution_count": 27,
   "metadata": {},
   "outputs": [
    {
     "data": {
      "text/plain": [
       "MannwhitneyuResult(statistic=7479590.0, pvalue=1.127232816124181e-17)"
      ]
     },
     "execution_count": 27,
     "metadata": {},
     "output_type": "execute_result"
    }
   ],
   "source": [
    "# Mann Whitney U test for the list of distances\n",
    "# to regions with lower histone modifications in\n",
    "# leiomyoma vs random H3K4me1 peaks from myometrium\n",
    "# samples.\n",
    "scipy.stats.mannwhitneyu(distance_list_myo_H3K4me1_random,\n",
    "                         distance_list_myo_regions,\n",
    "                         alternative='two-sided')"
   ]
  },
  {
   "cell_type": "code",
   "execution_count": null,
   "metadata": {},
   "outputs": [],
   "source": []
  },
  {
   "cell_type": "code",
   "execution_count": 28,
   "metadata": {},
   "outputs": [
    {
     "data": {
      "image/png": "[encoded data removed]",
      "text/plain": [
       "<Figure size 288x205.2 with 1 Axes>"
      ]
     },
     "metadata": {
      "needs_background": "light"
     },
     "output_type": "display_data"
    }
   ],
   "source": [
    "# Figure 5F: Distribution of the distance to the\n",
    "# nearest HOXA13 peak for the regions with higher\n",
    "# histone modifications in leiomyoma or for random\n",
    "# H3K27ac peaks sampled from leiomyoma samples.\n",
    "legend_TN = [mpatches.Patch(color=c, label=l) for c,l in zip([(0,0,1,1), (0,0,0,1)], ['Higher in leio', 'Random leio H3K27ac peaks'])]\n",
    "# fig1 = plt.figure(1,figsize=(4.2, 2.85))\n",
    "# fig1 = plt.figure(1,figsize=(3.7, 2.85))\n",
    "fig1 = plt.figure(1,figsize=(4.0, 2.85))\n",
    "ax1 = fig1.add_subplot(111)  \n",
    "fig1.canvas.draw()\n",
    "\n",
    "ax1.plot([i*(upper_enhancer/N) for i in range(len(distance_distribution_leio_H3K27ac_random)+1)],\n",
    "         [0] + distance_distribution_leio_H3K27ac_random,\n",
    "         c=(0,0,0,1), ds='steps')\n",
    "ax1.plot([i*(upper_enhancer/N) for i in range(len(distance_distribution_leio_regions)+1)],\n",
    "         [0] + distance_distribution_leio_regions,\n",
    "         c=(0,0,1,1), ds='steps')\n",
    "\n",
    "a=ax1.get_xticks().tolist()\n",
    "a[-2]='>20'\n",
    "for i in range(len(a)-2):\n",
    "    a[i] = int(int(a[i])/1000)\n",
    "ax1.set_xticklabels(a)\n",
    "ax1.set_xlabel('Distance to nearest HOXA13 peak center (kb)',fontsize=11)\n",
    "#plt.ylim(0.0, 0.6)\n",
    "\n",
    "ax1.legend(handles=legend_TN, frameon=True, fontsize=10, ncol=1)\n",
    "\n",
    "ax1.set_ylabel('Distribution',fontsize=11)\n",
    "plt.title('Altered vs. random peak regions',fontsize=11)\n",
    "plt.tight_layout()\n",
    "plt.savefig(output_dir + 'figures/' + 'figure5_panels/' + file_prefix +\n",
    "            '_panelF_HOXA13_higher_leio_dist_' + date + '.pdf', format='pdf', transparent=True)"
   ]
  },
  {
   "cell_type": "code",
   "execution_count": 29,
   "metadata": {},
   "outputs": [
    {
     "data": {
      "text/plain": [
       "MannwhitneyuResult(statistic=9198463.0, pvalue=0.4176207961992572)"
      ]
     },
     "execution_count": 29,
     "metadata": {},
     "output_type": "execute_result"
    }
   ],
   "source": [
    "# Mann Whitney U test for the list of distances\n",
    "# to regions with higher histone modifications in\n",
    "# leiomyoma vs random H3K27ac peaks from leiomyoma\n",
    "# samples.\n",
    "scipy.stats.mannwhitneyu(distance_list_leio_H3K27ac_random,\n",
    "                         distance_list_leio_regions,\n",
    "                         alternative='two-sided')"
   ]
  },
  {
   "cell_type": "code",
   "execution_count": 30,
   "metadata": {},
   "outputs": [
    {
     "data": {
      "image/png": "[encoded data removed]",
      "text/plain": [
       "<Figure size 302.4x205.2 with 1 Axes>"
      ]
     },
     "metadata": {
      "needs_background": "light"
     },
     "output_type": "display_data"
    }
   ],
   "source": [
    "# Distribution of the distance to the\n",
    "# nearest HOXA13 peak for the regions with higher \n",
    "# histone modifications in leiomyoma or for random\n",
    "# H3K4me3 peaks sampled from leiomyoma samples\n",
    "legend_TN = [mpatches.Patch(color=c, label=l) for c,l in zip([(0,0,1,1), (0,0,0,1)], ['Higher in leio', 'Random leio H3K4me3 peaks'])]\n",
    "fig1 = plt.figure(1,figsize=(4.2, 2.85))\n",
    "ax1 = fig1.add_subplot(111)  \n",
    "fig1.canvas.draw()\n",
    "\n",
    "ax1.plot([i*(upper_enhancer/N) for i in range(len(distance_distribution_leio_H3K4me3_random)+1)],\n",
    "         [0] + distance_distribution_leio_H3K4me3_random,\n",
    "         c=(0,0,0,1), ds='steps')\n",
    "ax1.plot([i*(upper_enhancer/N) for i in range(len(distance_distribution_leio_regions)+1)],\n",
    "         [0] + distance_distribution_leio_regions,\n",
    "         c=(0,0,1,1), ds='steps')\n",
    "\n",
    "a=ax1.get_xticks().tolist()\n",
    "a[-2]='>20'\n",
    "for i in range(len(a)-2):\n",
    "    a[i] = int(int(a[i])/1000)\n",
    "ax1.set_xticklabels(a)\n",
    "ax1.set_xlabel('Distance to nearest HOXA13 peak center (kb)',fontsize=11)\n",
    "#plt.ylim(0.0, 0.6)\n",
    "\n",
    "ax1.legend(handles=legend_TN, frameon=True, fontsize=10, ncol=1)\n",
    "\n",
    "ax1.set_ylabel('Distribution',fontsize=11)\n",
    "plt.title('Altered vs. random peak regions',fontsize=11)\n",
    "plt.tight_layout()"
   ]
  },
  {
   "cell_type": "code",
   "execution_count": 31,
   "metadata": {},
   "outputs": [
    {
     "data": {
      "text/plain": [
       "MannwhitneyuResult(statistic=11099059.5, pvalue=5.946419103007666e-51)"
      ]
     },
     "execution_count": 31,
     "metadata": {},
     "output_type": "execute_result"
    }
   ],
   "source": [
    "# Mann Whitney U test for the list of distances\n",
    "# to regions with higher histone modifications in\n",
    "# leiomyoma vs random H3K4me3 peaks from leiomyoma\n",
    "# samples.\n",
    "scipy.stats.mannwhitneyu(distance_list_leio_H3K4me3_random,\n",
    "                         distance_list_leio_regions,\n",
    "                         alternative='two-sided')"
   ]
  },
  {
   "cell_type": "code",
   "execution_count": 32,
   "metadata": {},
   "outputs": [
    {
     "data": {
      "image/png": "[encoded data removed]",
      "text/plain": [
       "<Figure size 302.4x205.2 with 1 Axes>"
      ]
     },
     "metadata": {
      "needs_background": "light"
     },
     "output_type": "display_data"
    }
   ],
   "source": [
    "# Distribution of the distance to the\n",
    "# nearest HOXA13 peak for the regions with higher \n",
    "# histone modifications in leiomyoma or for random\n",
    "# H3K4me1 peaks sampled from leiomyoma samples\n",
    "legend_TN = [mpatches.Patch(color=c, label=l) for c,l in zip([(0,0,1,1), (0,0,0,1)], ['Higher in leio', 'Random leio H3K4me1 peaks'])]\n",
    "fig1 = plt.figure(1,figsize=(4.2, 2.85))\n",
    "ax1 = fig1.add_subplot(111)  \n",
    "fig1.canvas.draw()\n",
    "\n",
    "ax1.plot([i*(upper_enhancer/N) for i in range(len(distance_distribution_leio_H3K4me1_random)+1)],\n",
    "         [0] + distance_distribution_leio_H3K4me1_random,\n",
    "         c=(0,0,0,1), ds='steps')\n",
    "ax1.plot([i*(upper_enhancer/N) for i in range(len(distance_distribution_leio_regions)+1)],\n",
    "         [0] + distance_distribution_leio_regions,\n",
    "         c=(0,0,1,1), ds='steps')\n",
    "\n",
    "a=ax1.get_xticks().tolist()\n",
    "a[-2]='>20'\n",
    "for i in range(len(a)-2):\n",
    "    a[i] = int(int(a[i])/1000)\n",
    "ax1.set_xticklabels(a)\n",
    "ax1.set_xlabel('Distance to nearest HOXA13 peak center (kb)',fontsize=11)\n",
    "#plt.ylim(0.0, 0.6)\n",
    "\n",
    "ax1.legend(handles=legend_TN, frameon=True, fontsize=10, ncol=1)\n",
    "\n",
    "ax1.set_ylabel('Distribution',fontsize=11)\n",
    "plt.title('Altered vs. random peak regions',fontsize=11)\n",
    "plt.tight_layout()"
   ]
  },
  {
   "cell_type": "code",
   "execution_count": 33,
   "metadata": {},
   "outputs": [
    {
     "data": {
      "text/plain": [
       "MannwhitneyuResult(statistic=8665021.5, pvalue=0.001493613313669459)"
      ]
     },
     "execution_count": 33,
     "metadata": {},
     "output_type": "execute_result"
    }
   ],
   "source": [
    "# Mann Whitney U test for the list of distances\n",
    "# to regions with higher histone modifications in\n",
    "# leiomyoma vs random H3K4me1 peaks from leiomyoma\n",
    "# samples.\n",
    "scipy.stats.mannwhitneyu(distance_list_leio_H3K4me1_random,\n",
    "                         distance_list_leio_regions,\n",
    "                         alternative='two-sided')"
   ]
  },
  {
   "cell_type": "code",
   "execution_count": null,
   "metadata": {},
   "outputs": [],
   "source": []
  }
 ],
 "metadata": {
  "kernelspec": {
   "display_name": "Python 3",
   "language": "python",
   "name": "python3"
  },
  "language_info": {
   "codemirror_mode": {
    "name": "ipython",
    "version": 3
   },
   "file_extension": ".py",
   "mimetype": "text/x-python",
   "name": "python",
   "nbconvert_exporter": "python",
   "pygments_lexer": "ipython3",
   "version": "3.7.3"
  }
 },
 "nbformat": 4,
 "nbformat_minor": 2
}
