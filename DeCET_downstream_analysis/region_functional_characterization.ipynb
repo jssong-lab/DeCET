{
 "cells": [
  {
   "cell_type": "code",
   "execution_count": 1,
   "metadata": {},
   "outputs": [],
   "source": [
    "import numpy as np\n",
    "import torch\n",
    "import scipy\n",
    "import scipy.stats\n",
    "import matplotlib.pyplot as plt\n",
    "from matplotlib import rcParams\n",
    "import matplotlib.patches as mpatches\n",
    "import seaborn\n",
    "seaborn.set(font='Arial')\n",
    "plt.style.use('default')\n",
    "rcParams['font.family'] = 'Arial'\n",
    "rcParams['font.size'] = 11\n",
    "rcParams['pdf.fonttype'] = 42\n",
    "plt.rcParams.update({\"text.color\": 'k'})\n",
    "\n",
    "import sys\n",
    "sys.path.append('./')\n",
    "import auxiliary_bed_functions as abf\n",
    "chr_list = abf.getChrList()\n",
    "\n",
    "date = '7_21_20' # Change this to today's date for output names.\n",
    "\n",
    "input_dir = '../tensor_input/' # directory with the HOSVD results\n",
    "file_prefix = 'leiomyoma_HOSVD_final' # prefix used for input files\n",
    "output_dir = '../' # directory to write output"
   ]
  },
  {
   "cell_type": "code",
   "execution_count": 2,
   "metadata": {},
   "outputs": [
    {
     "name": "stdout",
     "output_type": "stream",
     "text": [
      "['chr1', 145074000, 145076000]\n",
      "1547874\n"
     ]
    }
   ],
   "source": [
    "# The genomic bins used for the hg19 genome. chr Y is\n",
    "# the last chromosome in the list, so the ordering of \n",
    "# the bins through chrX is the same as that when \n",
    "# chr Y is removed.\n",
    "\n",
    "chr_length = {'chrY': 59373566, 'chrX': 155270560, 'chr13': 115169878,\n",
    "              'chr12': 133851895, 'chr11': 135006516, 'chr10': 135534747,\n",
    "              'chr17': 81195210, 'chr16': 90354753, 'chr15': 102531392,\n",
    "              'chr14': 107349540, 'chr19': 59128983, 'chr18': 78077248,\n",
    "              'chrM': 16571, 'chr22': 51304566, 'chr20': 63025520,\n",
    "              'chr21': 48129895, 'chr7': 159138663, 'chr6': 171115067,\n",
    "              'chr5': 180915260, 'chr4': 191154276, 'chr3': 198022430,\n",
    "              'chr2': 243199373, 'chr1': 249250621, 'chr9': 141213431,\n",
    "              'chr8': 146364022}\n",
    "bin_size = 2000\n",
    "\n",
    "genomic_bin = [[] for l in range(0,1547874)]\n",
    "counter = 0\n",
    "for chrom in chr_list:\n",
    "    for l in range(0, int(np.ceil(chr_length[chrom]/bin_size))+1):\n",
    "        genomic_bin[counter] = [chrom, l*bin_size, (l+1)*bin_size]\n",
    "        counter += 1\n",
    "print(genomic_bin[72537])\n",
    "print(counter)"
   ]
  },
  {
   "cell_type": "code",
   "execution_count": 3,
   "metadata": {},
   "outputs": [
    {
     "name": "stdout",
     "output_type": "stream",
     "text": [
      "126 126\n"
     ]
    }
   ],
   "source": [
    "# Read in the projections from the tensor decomposition.\n",
    "fp = open( input_dir + file_prefix + '_projections.txt', 'r')\n",
    "\n",
    "index = []\n",
    "projections = []\n",
    "for line in fp:\n",
    "    l = line.strip().split(':')\n",
    "    index.append([int(l[0].split(',')[0]), int(l[0].split(',')[1]), int(l[0].split(',')[2])])\n",
    "    projections.append(l[1].strip().split(','))\n",
    "\n",
    "print(len(index), len(projections[0]))\n",
    "n_pt = 21\n",
    "n_as = 3\n",
    "n_gr = 2\n",
    "fp.close()\n",
    "\n",
    "sample_proj = np.zeros((n_gr, n_pt, n_as, len(projections)))\n",
    "\n",
    "for k in range(0,len(projections)):\n",
    "    sample_proj[index[k][0], index[k][1], index[k][2]] = projections[k]"
   ]
  },
  {
   "cell_type": "code",
   "execution_count": 4,
   "metadata": {},
   "outputs": [
    {
     "name": "stdout",
     "output_type": "stream",
     "text": [
      "(1518186, 126)\n"
     ]
    }
   ],
   "source": [
    "# Read the HOSVD location vectors.\n",
    "U_l = torch.load(input_dir + file_prefix + '_factor_matrix_location.pt', map_location='cpu').numpy()\n",
    "\n",
    "L_genome = U_l.shape[0]\n",
    "print(U_l.shape)"
   ]
  },
  {
   "cell_type": "code",
   "execution_count": 5,
   "metadata": {},
   "outputs": [
    {
     "name": "stdout",
     "output_type": "stream",
     "text": [
      "[ 2 19 15 11  8  1  9 10 12  3]\n",
      "1.1102230246251565e-16\n"
     ]
    }
   ],
   "source": [
    "# ANOVA analysis to identify location vectors that separate the \n",
    "# conditions (leiomyoma/myometrium).\n",
    "n_loc = len(U_l[0,:])\n",
    "full_var_ratio = np.zeros(n_loc)\n",
    "wGroupVar = np.zeros((n_as, n_loc))\n",
    "bGroupVar = np.zeros((n_as, n_loc))\n",
    "\n",
    "for l in range(n_loc):\n",
    "    for k in range(n_as):\n",
    "        bGroupVar[k,l] = n_pt*(np.mean(sample_proj[0,:,k,l]) - np.mean((sample_proj[:,:,k,l])))**2 +\\\n",
    "                         n_pt*(np.mean(sample_proj[1,:,k,l]) - np.mean((sample_proj[:,:,k,l])))**2\n",
    "        wGroupVar[k,l] = sum( np.power(sample_proj[0,:,k,l] - np.mean(sample_proj[0,:,k,l]),2) ) +\\\n",
    "                         sum( np.power(sample_proj[1,:,k,l] - np.mean(sample_proj[1,:,k,l]),2) )\n",
    "    full_var_ratio[l] = (sum(bGroupVar[:,l])/(n_as*(n_gr-1)))/(sum(wGroupVar[:,l])/(n_as*(n_gr*n_pt - n_gr)))\n",
    "\n",
    "print(np.argsort(full_var_ratio)[-10:])\n",
    "\n",
    "# This statistic is only F-distributed if the assays are independent.\n",
    "print(1 - scipy.stats.f.cdf(max(full_var_ratio),\n",
    "                            n_as*(n_gr-1), n_as*n_gr*(n_pt-1),\n",
    "                            loc=0, scale=1))"
   ]
  },
  {
   "cell_type": "code",
   "execution_count": 6,
   "metadata": {},
   "outputs": [
    {
     "name": "stdout",
     "output_type": "stream",
     "text": [
      "1306 positive\n",
      "1818 negative\n"
     ]
    }
   ],
   "source": [
    "# Get the bins (location vector components representing genomic regions)\n",
    "# that are significantly non-zero for the location vector that separates\n",
    "# the conditions.\n",
    "\n",
    "# Select the mode with greatest between condition separation.\n",
    "l = np.argmax(full_var_ratio)\n",
    "\n",
    "# Set the threshold for a vector component to be considered significant.\n",
    "# The empirical distribution of component values from all vectors is used\n",
    "# to set the threshold.\n",
    "\n",
    "cut = np.percentile(np.absolute(U_l), 99.9, interpolation='nearest')\n",
    "\n",
    "significant_pos = []\n",
    "significant_neg = []\n",
    "for i in range(L_genome):\n",
    "    if(U_l[i,l] > cut):\n",
    "        significant_pos.append(i)\n",
    "    elif(U_l[i,l] < -cut):\n",
    "        significant_neg.append(i)\n",
    "        \n",
    "print(len(significant_pos), 'positive')\n",
    "print(len(significant_neg), 'negative')"
   ]
  },
  {
   "cell_type": "code",
   "execution_count": 7,
   "metadata": {},
   "outputs": [
    {
     "name": "stderr",
     "output_type": "stream",
     "text": [
      "Using numpy backend.\n",
      "Using pytorch backend.\n"
     ]
    },
    {
     "name": "stdout",
     "output_type": "stream",
     "text": [
      "torch.Size([2, 21, 3, 1518186])\n"
     ]
    }
   ],
   "source": [
    "# Get the projections of the data onto the condition \n",
    "# and assay space decompositions.\n",
    "import tensorly\n",
    "tensorly.set_backend('pytorch')\n",
    "S = torch.load(input_dir + 'leiomyoma_HOSVD_final_core_tensor.pt')\n",
    "U_pt = torch.load(input_dir + 'leiomyoma_HOSVD_final_factor_matrix_patient.pt')\n",
    "\n",
    "proj_ac = tensorly.tenalg.mode_dot(S, U_pt, 1)\n",
    "proj_ac = tensorly.tenalg.mode_dot(proj_ac, torch.tensor(U_l), 3)\n",
    "del S, U_pt\n",
    "print(proj_ac.shape)"
   ]
  },
  {
   "cell_type": "code",
   "execution_count": 8,
   "metadata": {},
   "outputs": [
    {
     "data": {
      "image/png": "[encoded data removed]",
      "text/plain": [
       "<Figure size 288x396 with 3 Axes>"
      ]
     },
     "metadata": {
      "needs_background": "light"
     },
     "output_type": "display_data"
    }
   ],
   "source": [
    "# For the regions found to exhibit epigenetic alterations\n",
    "# between leiomyoma and myometrium, plot the patient mean\n",
    "# projection onto each of the three assay space basis \n",
    "# vectors while holding the condition space basis vector \n",
    "# fixed to that describing differences between leiomyoma \n",
    "# and myometrium.\n",
    "legend_assay_vecs = [mpatches.Patch(color=c, label=l) for c,l in zip([(0,0,1,0.4), (1,0,0,0.4)], ['Higher in leio', 'Lower in leio'])]\n",
    "\n",
    "fig = plt.figure(figsize=(4.0,5.5), edgecolor='k')\n",
    "\n",
    "assay_name = ['H3K27ac', 'H3K4me3', 'H3K4me1']\n",
    "bound = [2*10**-7, 1*10**-7, 1*10**-7]\n",
    "\n",
    "for k in range(n_as):\n",
    "    assay = k\n",
    "    ax = fig.add_subplot(311+k, frame_on=True)\n",
    "    hist_u = plt.hist(np.mean(proj_ac[1, :, k].numpy(),axis=0)[significant_pos],\n",
    "                 bins=50, color=(1, 0, 0, .4), range=(-bound[k],bound[k]), density=True)\n",
    "    hist_d = plt.hist(np.mean(proj_ac[1, :, k].numpy(),axis=0)[significant_neg],\n",
    "                 bins=50, color=(0, 0, 1, .4), range=(-bound[k],bound[k]), density=True)\n",
    "    if(k == 0):\n",
    "        plt.title('Projections Onto Assay Basis',fontsize=14)\n",
    "        ax.legend(handles=legend_assay_vecs,\n",
    "                       frameon=True, fontsize=10, ncol=1)\n",
    "        \n",
    "    ax.set_ylabel('Assay basis ' + str(k+1) + '\\ndistribution', fontsize=12)\n",
    "    if(k == n_as-1):\n",
    "        ax.set_xlabel('Projection',fontsize=12)\n",
    "plt.tight_layout()"
   ]
  },
  {
   "cell_type": "code",
   "execution_count": 9,
   "metadata": {},
   "outputs": [
    {
     "data": {
      "image/png": "[encoded data removed]",
      "text/plain": [
       "<Figure size 288x338.4 with 2 Axes>"
      ]
     },
     "metadata": {
      "needs_background": "light"
     },
     "output_type": "display_data"
    }
   ],
   "source": [
    "# Figure 3A: Plot the patient mean projection onto\n",
    "# the second assay space basis vector for the regions\n",
    "# found to have higher (top) lower (bottom) activating\n",
    "# histone modifications in leiomyoma\n",
    "\n",
    "legend_assay_vecs_up = [mpatches.Patch(color=c, label=l) for c,l in zip([(1,0,0,1)], ['Lower in leio'])]\n",
    "legend_assay_vecs_down = [mpatches.Patch(color=c, label=l) for c,l in zip([(0,0,1,1)], ['Higher in leio'])]\n",
    "\n",
    "fig = plt.figure(figsize=(4.0,4.7), edgecolor='k')\n",
    "\n",
    "ax = fig.add_subplot(211)\n",
    "\n",
    "hist_d = plt.hist(np.mean(proj_ac[1, :, 1].numpy(),axis=0)[significant_neg],\n",
    "             bins=50, color=(0,0,1,1), range=(-10**-7,10**-7), density=True)\n",
    "\n",
    "plt.title('Projections onto assay basis 2',fontsize=11)\n",
    "ax.legend(handles=legend_assay_vecs_down,\n",
    "                frameon=True, fontsize=10, ncol=1)\n",
    "ax.set_ylabel('Distribution', fontsize=11)\n",
    "ax.set_xlabel('Projection',fontsize=11)\n",
    "plt.tight_layout()\n",
    "\n",
    "ax = fig.add_subplot(212)\n",
    "\n",
    "# Flip the sign here to make the interpretation of the \n",
    "# x-axis consistent. This way more negative values indicate\n",
    "# more H3K4me3 in the respected condition.\n",
    "hist_u = plt.hist(-1.0*np.mean(proj_ac[1, :, 1].numpy(),axis=0)[significant_pos],\n",
    "             bins=50, color=(1,0,0,1), range=(-10**-7,10**-7), density=True)\n",
    "\n",
    "plt.title('Projections onto assay basis 2',fontsize=11)\n",
    "ax.legend(handles=legend_assay_vecs_up,\n",
    "                frameon=True, fontsize=10, ncol=1)\n",
    "ax.set_ylabel('Distribution', fontsize=11)\n",
    "ax.set_xlabel('Projection',fontsize=11)\n",
    "plt.tight_layout()\n",
    "\n",
    "plt.savefig(output_dir + 'figures/' + 'figure3_panels/' + file_prefix +\n",
    "            '_panelA_assay_basis_2_projection_distribution_' + date + '.pdf',\n",
    "            bbox_inches='tight', transparent=True, format='pdf')"
   ]
  },
  {
   "cell_type": "code",
   "execution_count": 10,
   "metadata": {},
   "outputs": [
    {
     "name": "stdout",
     "output_type": "stream",
     "text": [
      "0.0\n"
     ]
    }
   ],
   "source": [
    "# Sort the genomic bins by the corresponding component\n",
    "# value in the differential location vector, and separate\n",
    "# the regions into promoters and enhancers.\n",
    "loc_order = np.argsort(U_l[:,np.argmax(full_var_ratio)])\n",
    "base_line = 0.0 \n",
    "print(base_line)\n",
    "# Get the mean projection across patients onto the seocond\n",
    "# basis vector of the assay space and the second basis\n",
    "# vector of the condition space.\n",
    "mean_values = np.mean(proj_ac[1, :, 1].numpy(),axis=0)\n",
    "\n",
    "# Use the baseline value to characterize the bins as\n",
    "# prommoters or enhancers.\n",
    "char_index_order = [[], [], [], []]\n",
    "char_colors = [[], [], [], []]\n",
    "# Regions with higher activating histone marks\n",
    "# in leiomyoma.\n",
    "for l in range(len(significant_neg)):\n",
    "    if(mean_values[loc_order[l]] < base_line):\n",
    "        char_colors[0].append('k')\n",
    "        char_index_order[0].append(loc_order[l])\n",
    "    else:\n",
    "        char_colors[1].append((0.6, 0.6, 0.6))\n",
    "        char_index_order[1].append(loc_order[l])\n",
    "\n",
    "# Regions with lower activating histone marks\n",
    "# in leiomyoma.\n",
    "for l in range(len(significant_pos)):\n",
    "    if(mean_values[loc_order[-l-1]] > base_line):\n",
    "        char_colors[2].append((125/255, 30/255, 125/255))\n",
    "        char_index_order[2].append(loc_order[-l-1])\n",
    "    else:\n",
    "        char_colors[3].append((245/255, 179/255, 245/255))\n",
    "        char_index_order[3].append(loc_order[-l-1])\n",
    "    \n",
    "# Concatenate the regions and color labels into a single list\n",
    "# for plotting.\n",
    "functional_order = char_index_order[0] + char_index_order[1] + char_index_order[2] + char_index_order[3]\n",
    "functional_color = char_colors[0] + char_colors[1] + char_colors[2] + char_colors[3]"
   ]
  },
  {
   "cell_type": "code",
   "execution_count": 11,
   "metadata": {},
   "outputs": [],
   "source": [
    "# Load the scaled data tensor to plot the condition difference\n",
    "# in histone modifications at the differential regions.\n",
    "t = torch.load(input_dir + file_prefix + '_scaled_tensor.pt')"
   ]
  },
  {
   "cell_type": "code",
   "execution_count": 12,
   "metadata": {},
   "outputs": [
    {
     "data": {
      "image/png": "[encoded data removed]",
      "text/plain": [
       "<Figure size 345.6x475.2 with 5 Axes>"
      ]
     },
     "metadata": {
      "needs_background": "light"
     },
     "output_type": "display_data"
    }
   ],
   "source": [
    "# Figure 3B: The patient mean difference in the histone modification\n",
    "# ChIP-seq signal between the two conditions. The bins are sorted\n",
    "# by the corresponding component values on the differential HOSVD\n",
    "# location vector and grouped into functional classes.\n",
    "\n",
    "regulatory_colors = ['k', (0.6, 0.6, 0.6), (125/255, 30/255, 125/255),\n",
    "                     (245/255, 179/255, 245/255)]\n",
    "regulatory_labels = ['Promoter high in leio', 'Enhancer high in leio',\n",
    "                     'Promoter low in leio', 'Enhancer low in leio']\n",
    "legend_TN = [mpatches.Patch(color=c, label=l) for c,l in zip(regulatory_colors, regulatory_labels)]\n",
    "\n",
    "# Get the patient mean difference in ChIP-seq signal between the two\n",
    "# conditions for each of the assays.\n",
    "end_regions = np.column_stack((np.mean(t[1,:,0,:].numpy(), axis=0) - np.mean(t[0,:,0,:].numpy(), axis=0),\n",
    "                               np.mean(t[1,:,1,:].numpy(), axis=0) - np.mean(t[0,:,1,:].numpy(), axis=0),\n",
    "                               np.mean(t[1,:,2,:].numpy(), axis=0) - np.mean(t[0,:,2,:].numpy(), axis=0)))\n",
    "\n",
    "# Extract the signal at the differential regions using the ordering\n",
    "# described above.\n",
    "end_regions = end_regions[functional_order, :]\n",
    "\n",
    "max_scale = [np.percentile(np.abs(end_regions)[:,k], 90, interpolation='nearest') for k in range(3)]\n",
    "\n",
    "end_regions[:,0] = np.divide(end_regions[:,0], max_scale[0])\n",
    "end_regions[:,1] = np.divide(end_regions[:,1], max_scale[1])\n",
    "end_regions[:,2] = np.divide(end_regions[:,2], max_scale[2])\n",
    "\n",
    "g = seaborn.clustermap(end_regions, row_cluster=False, col_cluster=False, cmap=\"BrBG\",\n",
    "                       row_colors=functional_color, center = 0.0, vmin = -1.0, vmax= 1.0,\n",
    "                       xticklabels = ['H3K27ac' , 'H3K4me3', 'H3K4me1'], yticklabels=[],\n",
    "                       figsize=(4.8, 6.6))\n",
    "\n",
    "g.ax_row_dendrogram.set_visible(False)\n",
    "plt.setp(g.ax_heatmap.get_xticklabels(), fontsize=12)\n",
    "\n",
    "g.cax.set_position([0.91,0.125,0.05,0.60])\n",
    "plt.setp(g.cax.get_yticklabels(), fontsize=11)\n",
    "g.cax.set_ylabel('Scaled mean condition matched ChIP-seq difference', rotation=270, fontsize=11, labelpad=17)\n",
    "\n",
    "g.ax_heatmap.yaxis.set_label_position(\"left\")\n",
    "\n",
    "l2=g.ax_heatmap.legend(loc='lower center', bbox_to_anchor=(0.45, 1.0, 0.1, 0.1), handles=legend_TN,\n",
    "                       frameon=True, fontsize=10, ncol=2)\n",
    "\n",
    "g.ax_heatmap.set_ylabel('Sorted genomic location', fontsize=11, labelpad=20)\n",
    "\n",
    "# plt.savefig(output_dir + 'figures/' + 'figure3_panels/' + file_prefix +\n",
    "#             '_panelB_sorted_location_functional_heatmap_' + date + '.png',\n",
    "#             bbox_inches='tight', dpi=300, transparent=True, format='png')\n",
    "\n",
    "plt.savefig(output_dir + 'figures/' + 'figure3_panels/' + file_prefix +\n",
    "            '_panelB_sorted_location_functional_heatmap_' + date + '.pdf',\n",
    "            bbox_inches='tight', transparent=True, format='pdf')"
   ]
  },
  {
   "cell_type": "code",
   "execution_count": 13,
   "metadata": {},
   "outputs": [
    {
     "name": "stdout",
     "output_type": "stream",
     "text": [
      "0.0\n"
     ]
    }
   ],
   "source": [
    "## Write the enhancer and promoter regions into separate bed files\n",
    "\n",
    "base_line = 0.0\n",
    "print(base_line)\n",
    "mean_values = np.mean(proj_ac[1, :, 1].numpy(),axis=0)\n",
    "\n",
    "output_up = open(output_dir + 'region_files/' + file_prefix + '_pos_loc' + str(np.argmax(full_var_ratio)+1) + '_promoter.bed','w+')\n",
    "\n",
    "for l in range(0,len(significant_pos)):\n",
    "    if(mean_values[significant_pos[l]] > base_line):\n",
    "        output_up.write('{}\\t{}\\t{}\\n'.format(genomic_bin[significant_pos[l]][0],genomic_bin[significant_pos[l]][1],genomic_bin[significant_pos[l]][2]))     \n",
    "output_up.close()\n",
    "\n",
    "output_up = open(output_dir + 'region_files/' + file_prefix + '_pos_loc' + str(np.argmax(full_var_ratio)+1) + '_enhancer.bed','w+')\n",
    "\n",
    "for l in range(0,len(significant_pos)):\n",
    "    if(mean_values[significant_pos[l]] < base_line):\n",
    "        output_up.write('{}\\t{}\\t{}\\n'.format(genomic_bin[significant_pos[l]][0],genomic_bin[significant_pos[l]][1],genomic_bin[significant_pos[l]][2]))     \n",
    "output_up.close()\n",
    "\n",
    "full_output_pos = open(output_dir + 'region_files/' + 'location_vector_4_differential_regions_pos.txt', 'w+')\n",
    "full_output_pos.write(\"{}\\t{}\\t{}\\t{}\\t{}\\n\".format('chr', 'x1', 'x2', 'component', 'function'))\n",
    "for l in range(0, len(significant_pos)):\n",
    "    full_output_pos.write(\"{}\\t{}\\t{}\\t{}\\t\".format(genomic_bin[significant_pos[l]][0],\n",
    "                                                    genomic_bin[significant_pos[l]][1],\n",
    "                                                    genomic_bin[significant_pos[l]][2],\n",
    "                                                    U_l[significant_pos[l], np.argmax(full_var_ratio)]))\n",
    "    if(mean_values[significant_pos[l]] > base_line):\n",
    "        full_output_pos.write(\"{}\\n\".format('promoter'))\n",
    "    else:\n",
    "        full_output_pos.write(\"{}\\n\".format('enhancer'))\n",
    "full_output_pos.close()\n",
    "\n",
    "output_down = open(output_dir + 'region_files/' + file_prefix + '_neg_loc' + str(np.argmax(full_var_ratio)+1) + '_promoter.bed','w+')\n",
    "\n",
    "for l in range(0,len(significant_neg)):\n",
    "    if(mean_values[significant_neg[l]] < base_line):\n",
    "        output_down.write('{}\\t{}\\t{}\\n'.format(genomic_bin[significant_neg[l]][0],genomic_bin[significant_neg[l]][1],genomic_bin[significant_neg[l]][2]))\n",
    "output_down.close()\n",
    "\n",
    "output_down = open(output_dir + 'region_files/' + file_prefix + '_neg_loc' + str(np.argmax(full_var_ratio)+1) + '_enhancer.bed','w+')\n",
    "\n",
    "for l in range(0,len(significant_neg)):\n",
    "    if(mean_values[significant_neg[l]] > base_line):\n",
    "        output_down.write('{}\\t{}\\t{}\\n'.format(genomic_bin[significant_neg[l]][0],genomic_bin[significant_neg[l]][1],genomic_bin[significant_neg[l]][2]))\n",
    "output_down.close()\n",
    "\n",
    "full_output_neg = open(output_dir + 'region_files/' + 'location_vector_4_differential_regions_neg.txt', 'w+')\n",
    "full_output_neg.write(\"{}\\t{}\\t{}\\t{}\\t{}\\n\".format('chr', 'x1', 'x2', 'component', 'function'))\n",
    "for l in range(0, len(significant_neg)):\n",
    "    full_output_neg.write(\"{}\\t{}\\t{}\\t{}\\t\".format(genomic_bin[significant_neg[l]][0],\n",
    "                                                    genomic_bin[significant_neg[l]][1],\n",
    "                                                    genomic_bin[significant_neg[l]][2],\n",
    "                                                    U_l[significant_neg[l], np.argmax(full_var_ratio)]))\n",
    "    if(mean_values[significant_neg[l]] < base_line):\n",
    "        full_output_neg.write(\"{}\\n\".format('promoter'))\n",
    "    else:\n",
    "        full_output_neg.write(\"{}\\n\".format('enhancer'))\n",
    "full_output_neg.close()"
   ]
  },
  {
   "cell_type": "code",
   "execution_count": 14,
   "metadata": {},
   "outputs": [],
   "source": [
    "## Repeat the analysis for the regions with alteratoins between leiomyomas ##\n",
    "## with mutations in MED12 (MED12-mut) and those without (MED12-wt)        ##\n",
    "\n",
    "# List of patients whos tumors have mutations in exon 2 of MED12\n",
    "MED12mut_list = [0, 2, 3, 4, 6, 10, 11, 12, 14, 15, 17, 18, 20]\n",
    "MED12wt_list = []\n",
    "for j in range(n_pt):\n",
    "    if(j not in MED12mut_list):\n",
    "        MED12wt_list.append(j)"
   ]
  },
  {
   "cell_type": "code",
   "execution_count": 15,
   "metadata": {},
   "outputs": [
    {
     "name": "stdout",
     "output_type": "stream",
     "text": [
      "[11 15 10 35 29  1 20 23 19  6]\n",
      "1.1102230246251565e-16\n"
     ]
    }
   ],
   "source": [
    "# ANOVA analysis to identify location vectors that separate the \n",
    "# tumors with MED12 mutation from those that do not\n",
    "full_var_MED12 = np.zeros(n_loc)\n",
    "wGroupVar_MED12 = np.zeros((n_as, n_loc))\n",
    "bGroupVar_MED12 = np.zeros((n_as, n_loc))\n",
    "\n",
    "for l in range(n_loc):\n",
    "    for k in range(n_as):\n",
    "        bGroupVar_MED12[k,l] = len(MED12mut_list)*(np.mean(sample_proj[1,MED12mut_list,k,l]) - np.mean((sample_proj[1,:,k,l])))**2 +\\\n",
    "                               len(MED12wt_list)*(np.mean(sample_proj[1,MED12wt_list,k,l]) - np.mean((sample_proj[1,:,k,l])))**2\n",
    "        wGroupVar_MED12[k,l] = sum( np.power(sample_proj[1,MED12mut_list,k,l] - np.mean(sample_proj[1,MED12mut_list,k,l]),2) ) +\\\n",
    "                               sum( np.power(sample_proj[1,MED12wt_list,k,l] - np.mean(sample_proj[1,MED12wt_list,k,l]),2) )\n",
    "        \n",
    "        full_var_MED12[l] = (sum(bGroupVar_MED12[:,l])/(n_as*(2-1)))/(sum(wGroupVar_MED12[:,l])/(n_as*(n_pt-2)))\n",
    "            \n",
    "print(np.argsort(full_var_MED12)[-10:])\n",
    "print(1 - scipy.stats.f.cdf(max(full_var_MED12),\n",
    "                            n_as*(2-1), n_as*(n_pt-2),\n",
    "                            loc=0, scale=1))"
   ]
  },
  {
   "cell_type": "code",
   "execution_count": 16,
   "metadata": {},
   "outputs": [
    {
     "name": "stdout",
     "output_type": "stream",
     "text": [
      "1662 positive\n",
      "1576 negative\n"
     ]
    }
   ],
   "source": [
    "# Get the bins (location vector components representing genomic regions)\n",
    "# that are significantly non-zero for the location vector that separates\n",
    "# MED12-mut and MED12-wt leiomyomas\n",
    "\n",
    "# Select the mode with greatest between tumor type separation\n",
    "l = np.argmax(full_var_MED12)\n",
    "\n",
    "significant_pos_MED12 = []\n",
    "significant_neg_MED12 = []\n",
    "for i in range(L_genome):\n",
    "    if(U_l[i,l] > cut):\n",
    "        significant_pos_MED12.append(i)\n",
    "    elif(U_l[i,l] < -cut):\n",
    "        significant_neg_MED12.append(i)\n",
    "        \n",
    "print(len(significant_pos_MED12), 'positive')\n",
    "print(len(significant_neg_MED12), 'negative')"
   ]
  },
  {
   "cell_type": "code",
   "execution_count": 17,
   "metadata": {},
   "outputs": [],
   "source": [
    "# Sort using the HOSVD location vector for the vector\n",
    "# specifying differences between MED12-wt and MED12-mut\n",
    "# leiomyomas\n",
    "loc_order_MED12 = np.argsort(U_l[:, np.argmax(full_var_MED12)])\n",
    "\n",
    "# Sort the genomic bins by the corresponding component\n",
    "# value of location vector 6 (zero-indexed here). This is\n",
    "# the vector specifying alterations between MED12-mut and \n",
    "# MED12-wt leiomyomas. Also sort the regions into \n",
    "# promoters and enhancers\n",
    "\n",
    "base_line = 0.0 \n",
    "# To compare subgroups of leiomyoma samples, a factor is \n",
    "# needed to account for the direction of the change for \n",
    "# each patient, as the direction may differ for the subgroups.\n",
    "# This can be accomplished in an unsupervised way using the \n",
    "# sign of the projection onto the first basis vector of the \n",
    "# assay space, which describes a change in a combination of \n",
    "# the three histone modifications.\n",
    "mean_values = np.mean(np.multiply(proj_ac[1, :, 1, :], np.sign(proj_ac[1, :, 0, :])).numpy(), axis=0)\n",
    "\n",
    "char_colors = [[], [], [], []]\n",
    "char_index_order = [[], [], [], []]\n",
    "for l in range(len(significant_pos_MED12)):\n",
    "    if(mean_values[loc_order_MED12[-l-1]] < base_line):\n",
    "        char_colors[0].append('k')\n",
    "        char_index_order[0].append(loc_order_MED12[-l-1])\n",
    "    else:\n",
    "        char_colors[1].append((0.6, 0.6, 0.6))\n",
    "        char_index_order[1].append(loc_order_MED12[-l-1])\n",
    "\n",
    "for l in range(len(significant_neg_MED12)):\n",
    "    if(mean_values[loc_order_MED12[l]] < base_line):\n",
    "        char_colors[2].append((125/255, 30/255, 125/255))\n",
    "        char_index_order[2].append(loc_order_MED12[l])\n",
    "    else:\n",
    "        char_colors[3].append((245/255, 179/255, 245/255))\n",
    "        char_index_order[3].append(loc_order_MED12[l])\n",
    "        \n",
    "functional_order = char_index_order[0] + char_index_order[1] + char_index_order[2] + char_index_order[3]\n",
    "functional_color = char_colors[0] + char_colors[1] + char_colors[2] + char_colors[3]"
   ]
  },
  {
   "cell_type": "code",
   "execution_count": 18,
   "metadata": {},
   "outputs": [
    {
     "data": {
      "image/png": "[encoded data removed]",
      "text/plain": [
       "<Figure size 288x396 with 3 Axes>"
      ]
     },
     "metadata": {
      "needs_background": "light"
     },
     "output_type": "display_data"
    }
   ],
   "source": [
    "legend_assay_vecs = [mpatches.Patch(color=c, label=l) for c,l in zip([(110/255, 0/255, 140/255, 0.4), (0, 0.75, 0.75, .4)], ['Higher in $\\it{MED12}$-mut', 'Higher in $\\it{MED12}$-wt'])]\n",
    "\n",
    "fig = plt.figure(figsize=(4.0,5.5), edgecolor='k')\n",
    "\n",
    "assay_name = ['H3K27ac', 'H3K4me3', 'H3K4me1']\n",
    "bound = [2*10**-7, 1*10**-7, 1*10**-7]\n",
    "\n",
    "for k in range(n_as):\n",
    "    mean_values = np.mean(np.multiply(proj_ac[1, :, k, :], np.sign(proj_ac[1, :, 0, :])).numpy(), axis=0)\n",
    "    assay = k\n",
    "    ax = fig.add_subplot(311+k, frame_on=True)\n",
    "    hist_u = plt.hist(mean_values[significant_pos_MED12],\n",
    "                 bins=50, color=(110/255, 0/255, 140/255, 0.4), range=(-bound[k],bound[k]), density=True)\n",
    "    hist_d = plt.hist(mean_values[significant_neg_MED12],\n",
    "                 bins=50, color=(0, 0.75, 0.75, .4), range=(-bound[k],bound[k]), density=True)\n",
    "\n",
    "    if(k == 0):\n",
    "        plt.title('Projections Onto Assay Basis',fontsize=14)\n",
    "        ax.legend(handles=legend_assay_vecs,\n",
    "                       frameon=True, fontsize=10, ncol=1)\n",
    "        \n",
    "    ax.set_ylabel('Assay basis ' + str(k+1) + '\\ndistribution', fontsize=12)\n",
    "    if(k == n_as-1):\n",
    "        ax.set_xlabel('Projection',fontsize=12)\n",
    "plt.tight_layout()"
   ]
  },
  {
   "cell_type": "code",
   "execution_count": 19,
   "metadata": {},
   "outputs": [
    {
     "data": {
      "image/png": "[encoded data removed]",
      "text/plain": [
       "<Figure size 288x306.72 with 2 Axes>"
      ]
     },
     "metadata": {
      "needs_background": "light"
     },
     "output_type": "display_data"
    }
   ],
   "source": [
    "import matplotlib.patches as mpatches\n",
    "legend_assay_vecs_up = [mpatches.Patch(color=c, label=l) for c,l in zip([(0,0.75,0.75,1.0)], ['Higher in $\\it{MED12}$-wt'])]\n",
    "legend_assay_vecs_down = [mpatches.Patch(color=c, label=l) for c,l in zip([(110/255, 0/255, 140/255)], ['Higher in $\\it{MED12}$-mut'])]\n",
    "\n",
    "mean_values = np.mean(np.multiply(proj_ac[1, :, 1, :], np.sign(proj_ac[1, :, 0, :])).numpy(), axis=0)\n",
    "\n",
    "fig = plt.figure(figsize=(4.0, 4.26), edgecolor='k')\n",
    "\n",
    "ax = fig.add_subplot(211)\n",
    "\n",
    "hist_d = plt.hist(mean_values[significant_pos_MED12],\n",
    "                  bins=50, color=(110/255, 0/255, 140/255, 1.0),\n",
    "                  range=(-10**-7,10**-7), density=True)\n",
    "\n",
    "plt.title('Projections onto assay basis 2',fontsize=11)\n",
    "ax.legend(handles=legend_assay_vecs_down,\n",
    "                frameon=True, fontsize=10, ncol=1)\n",
    "        \n",
    "ax.set_ylabel('Distribution', fontsize=11)\n",
    "\n",
    "ax.set_xlabel('Projection',fontsize=11)\n",
    "plt.tight_layout()\n",
    "\n",
    "ax = fig.add_subplot(212)\n",
    "\n",
    "hist_u = plt.hist(mean_values[significant_neg_MED12],\n",
    "                  bins=50, color=(0,0.75,0.75,1.0),\n",
    "                  range=(-10**-7,10**-7), density=True)\n",
    "\n",
    "plt.title('Projections onto assay basis 2',fontsize=11)\n",
    "ax.legend(handles=legend_assay_vecs_up,\n",
    "                frameon=True, fontsize=10, ncol=1)\n",
    "        \n",
    "ax.set_ylabel('Distribution', fontsize=11)\n",
    "\n",
    "ax.set_xlabel('Projection',fontsize=11)\n",
    "plt.tight_layout()\n",
    "\n",
    "plt.savefig(output_dir + 'figures/' + 'figureS6_panels/' + file_prefix +\n",
    "            '_panelA_assay_basis_2_projection_MED12_distribution_' + date + '.pdf',\n",
    "             bbox_inches='tight', transparent=True, format='pdf')"
   ]
  },
  {
   "cell_type": "code",
   "execution_count": 20,
   "metadata": {},
   "outputs": [
    {
     "name": "stdout",
     "output_type": "stream",
     "text": [
      "(3238, 3)\n"
     ]
    },
    {
     "data": {
      "text/plain": [
       "Text(0.5, 39.39999999999995, 'Tissue sample')"
      ]
     },
     "execution_count": 20,
     "metadata": {},
     "output_type": "execute_result"
    },
    {
     "data": {
      "image/png": "[encoded data removed]",
      "text/plain": [
       "<Figure size 345.6x475.2 with 5 Axes>"
      ]
     },
     "metadata": {
      "needs_background": "light"
     },
     "output_type": "display_data"
    }
   ],
   "source": [
    "regulatory_colors = ['k', (0.6, 0.6, 0.6), (125/255, 30/255, 125/255),\n",
    "                     (245/255, 179/255, 245/255)]\n",
    "regulatory_labels = ['Promoter high in $\\it{MED12}$-mut', 'Enhancer high in $\\it{MED12}$-mut',\n",
    "                     'Promoter low in $\\it{MED12}$-wt', 'Enhancer low in $\\it{MED12}$-wt']\n",
    "legend_TN = [mpatches.Patch(color=c, label=l) for c,l in zip(regulatory_colors, regulatory_labels)]\n",
    "\n",
    "end_regions = np.column_stack((np.mean(t[1,MED12mut_list,0,:].numpy(), axis=0) - np.mean(t[1,MED12wt_list,0,:].numpy(), axis=0),\n",
    "                               np.mean(t[1,MED12mut_list,1,:].numpy(), axis=0) - np.mean(t[1,MED12wt_list,1,:].numpy(), axis=0),\n",
    "                               np.mean(t[1,MED12mut_list,2,:].numpy(), axis=0) - np.mean(t[1,MED12wt_list,2,:].numpy(), axis=0)))\n",
    "\n",
    "end_regions = end_regions[functional_order, :]\n",
    "end_regions = end_regions - np.mean(end_regions, axis=0)\n",
    "print(end_regions.shape)\n",
    "max_scale = [np.percentile(np.abs(end_regions)[:,k], 90, interpolation='nearest') for k in range(3)]\n",
    "end_regions[:,0] = np.divide(end_regions[:,0], max_scale[0])\n",
    "end_regions[:,1] = np.divide(end_regions[:,1], max_scale[1])\n",
    "end_regions[:,2] = np.divide(end_regions[:,2], max_scale[2])\n",
    "\n",
    "g = seaborn.clustermap(end_regions, row_cluster=False, col_cluster=False, cmap=\"BrBG\",\n",
    "                       row_colors=functional_color, center = 0.0, vmin = -1.0, vmax= 1.0,\n",
    "                       xticklabels = ['H3K27ac' , 'H3K4me3', 'H3K4me1'], yticklabels=[],\n",
    "                       figsize=(4.8, 6.6))\n",
    "\n",
    "g.ax_row_dendrogram.set_visible(False)\n",
    "\n",
    "g.cax.set_position([0.91,0.125,0.05,0.57])\n",
    "plt.setp(g.cax.get_yticklabels(), fontsize=12)\n",
    "g.cax.set_ylabel('Scaled ChIP-seq coverage', rotation=270, fontsize=12, labelpad=17)\n",
    "\n",
    "g.ax_heatmap.yaxis.set_label_position(\"left\")\n",
    "\n",
    "l2=g.ax_heatmap.legend(loc='lower center', bbox_to_anchor=(0.45, 1.0, 0.1, 0.1), handles=legend_TN,\n",
    "                       frameon=True, fontsize=10, ncol=2)\n",
    "\n",
    "g.ax_heatmap.set_xlabel('Tissue sample', fontsize=12)"
   ]
  },
  {
   "cell_type": "code",
   "execution_count": 21,
   "metadata": {},
   "outputs": [
    {
     "name": "stdout",
     "output_type": "stream",
     "text": [
      "0.0\n"
     ]
    }
   ],
   "source": [
    "# Write the enhancer and promoter regions in separate bed files\n",
    "\n",
    "base_line = 0.0 \n",
    "print(base_line)\n",
    "mean_values = np.mean(np.multiply(proj_ac[1, :, 1, :], np.sign(proj_ac[1, :, 0, :])).numpy(), axis=0)\n",
    "\n",
    "    \n",
    "output_up = open(output_dir + 'region_files/' + file_prefix + '_pos_loc' + str(6+1) + '_MED12_promoter.bed','w+')\n",
    "\n",
    "for l in range(0,len(significant_pos_MED12)):\n",
    "    if(mean_values[significant_pos_MED12[l]] < base_line):\n",
    "        output_up.write('{}\\t{}\\t{}\\n'.format(genomic_bin[significant_pos_MED12[l]][0],genomic_bin[significant_pos_MED12[l]][1],genomic_bin[significant_pos_MED12[l]][2]))     \n",
    "output_up.close()\n",
    "\n",
    "output_up = open(output_dir + 'region_files/' + file_prefix + '_pos_loc' + str(6+1) + '_MED12_enhancer.bed','w+')\n",
    "\n",
    "for l in range(0,len(significant_pos_MED12)):\n",
    "    if(mean_values[significant_pos_MED12[l]] > base_line):\n",
    "        output_up.write('{}\\t{}\\t{}\\n'.format(genomic_bin[significant_pos_MED12[l]][0],genomic_bin[significant_pos_MED12[l]][1],genomic_bin[significant_pos_MED12[l]][2]))     \n",
    "output_up.close()\n",
    "\n",
    "full_output_pos = open(output_dir + 'region_files/' + 'location_vector_7_differential_regions_pos.txt', 'w+')\n",
    "full_output_pos.write(\"{}\\t{}\\t{}\\t{}\\t{}\\n\".format('chr', 'x1', 'x2', 'component', 'function'))\n",
    "for l in range(0, len(significant_pos_MED12)):\n",
    "    full_output_pos.write(\"{}\\t{}\\t{}\\t{}\\t\".format(genomic_bin[significant_pos_MED12[l]][0],\n",
    "                                                    genomic_bin[significant_pos_MED12[l]][1],\n",
    "                                                    genomic_bin[significant_pos_MED12[l]][2],\n",
    "                                                    U_l[significant_pos_MED12[l], 6]))\n",
    "    if(mean_values[significant_pos_MED12[l]] < base_line):\n",
    "        full_output_pos.write(\"{}\\n\".format('promoter'))\n",
    "    else:\n",
    "        full_output_pos.write(\"{}\\n\".format('enhancer'))\n",
    "full_output_pos.close()\n",
    "\n",
    "output_down = open(output_dir + 'region_files/' + file_prefix + '_neg_loc' + str(6+1) + '_MED12_promoter.bed','w+')\n",
    "\n",
    "for l in range(0,len(significant_neg_MED12)):\n",
    "    if(mean_values[significant_neg_MED12[l]] < base_line):\n",
    "        output_down.write('{}\\t{}\\t{}\\n'.format(genomic_bin[significant_neg_MED12[l]][0],genomic_bin[significant_neg_MED12[l]][1],genomic_bin[significant_neg_MED12[l]][2]))\n",
    "output_down.close()\n",
    "\n",
    "output_down = open(output_dir + 'region_files/' + file_prefix + '_neg_loc' + str(6+1) + '_MED12_enhancer.bed','w+')\n",
    "\n",
    "for l in range(0,len(significant_neg_MED12)):\n",
    "    if(mean_values[significant_neg_MED12[l]] > base_line):\n",
    "        output_down.write('{}\\t{}\\t{}\\n'.format(genomic_bin[significant_neg_MED12[l]][0],genomic_bin[significant_neg_MED12[l]][1],genomic_bin[significant_neg_MED12[l]][2]))\n",
    "output_down.close()\n",
    "\n",
    "full_output_neg = open(output_dir + 'region_files/' + 'location_vector_7_differential_regions_neg.txt', 'w+')\n",
    "full_output_neg.write(\"{}\\t{}\\t{}\\t{}\\t{}\\n\".format('chr', 'x1', 'x2', 'component', 'function'))\n",
    "for l in range(0, len(significant_neg_MED12)):\n",
    "    full_output_neg.write(\"{}\\t{}\\t{}\\t{}\\t\".format(genomic_bin[significant_neg_MED12[l]][0],\n",
    "                                                    genomic_bin[significant_neg_MED12[l]][1],\n",
    "                                                    genomic_bin[significant_neg_MED12[l]][2],\n",
    "                                                    U_l[significant_neg_MED12[l], 6]))\n",
    "    if(mean_values[significant_neg_MED12[l]] < base_line):\n",
    "        full_output_neg.write(\"{}\\n\".format('promoter'))\n",
    "    else:\n",
    "        full_output_neg.write(\"{}\\n\".format('enhancer'))\n",
    "full_output_neg.close()"
   ]
  },
  {
   "cell_type": "code",
   "execution_count": 22,
   "metadata": {},
   "outputs": [],
   "source": [
    "## Distribution around gene transcription start sites ##"
   ]
  },
  {
   "cell_type": "code",
   "execution_count": 23,
   "metadata": {},
   "outputs": [],
   "source": [
    "# The gene table can be obtained from the UCSC Table Browser.\n",
    "# Select the knownGene table for the hg19 genome and select the\n",
    "# first 5 fields for output.\n",
    "isoform_file = open('./knownGene_hg19.txt','r')\n",
    "isoform_table = []\n",
    "for iso in isoform_file:\n",
    "    if(iso[0] != '#'):\n",
    "        isoform_table.append(iso.strip().split('\\t'))\n",
    "    \n",
    "isoform_file.close()\n",
    "\n",
    "TSS_loc = [[] for c in chr_list]\n",
    "\n",
    "for i in range(0,len(isoform_table)):\n",
    "    isoform_table[i][3] = int(isoform_table[i][3])\n",
    "    isoform_table[i][4] = int(isoform_table[i][4])\n",
    "\n",
    "gene_table_byChr = [[] for i in range(0,len(chr_list))]\n",
    "for i in range(len(isoform_table)):\n",
    "    if(isoform_table[i][1] not in chr_list):\n",
    "        continue\n",
    "    gene_table_byChr[chr_list[isoform_table[i][1]]].append(isoform_table[i]) \n",
    "    \n",
    "for c in range(len(chr_list)):\n",
    "    for i in range(len(gene_table_byChr[c])):\n",
    "        if(gene_table_byChr[c][i][2] == '+'):\n",
    "            if(gene_table_byChr[c][i][3] not in TSS_loc[c]):\n",
    "                TSS_loc[c].append(gene_table_byChr[c][i][3])\n",
    "        elif(gene_table_byChr[c][i][2] == '-'):\n",
    "            if(gene_table_byChr[c][i][4] not in TSS_loc[c]):\n",
    "                TSS_loc[c].append(gene_table_byChr[c][i][4])\n",
    "        else:\n",
    "            print(\"No strand: \", c, i)"
   ]
  },
  {
   "cell_type": "code",
   "execution_count": 24,
   "metadata": {},
   "outputs": [],
   "source": [
    "def getMinDistance(value, some_list):\n",
    "    min_d = abs(value - some_list[0])\n",
    "    for i in range(1,len(some_list)):\n",
    "        if(abs(value - some_list[i]) < min_d):\n",
    "            min_d = abs(value - some_list[i])\n",
    "    return min_d\n",
    "\n",
    "def getDistribution(data_list, N, lower, upper):\n",
    "    \"\"\"Obtain a histogram for the list over a given range.\n",
    "    \n",
    "    The region between lower and upper will be binned into\n",
    "    equally sized bins. There is an additional overflow bin\n",
    "    that contains the number of elements beyond the upper \n",
    "    bound. Elements below the lower bound are thrown out.\n",
    "    The bin values are scaled to the total number of\n",
    "    elements in the input data list.\n",
    "    \"\"\"\n",
    "    L = len(data_list)\n",
    "    distribution = [0.0 for i in range(N+1)]\n",
    "    step = (upper-lower)/N\n",
    "    for l in range(L):\n",
    "        for k in range(N):\n",
    "            if(data_list[l] >= lower + step*k and data_list[l] < lower + step*(k+1)):\n",
    "                distribution[k] += 1\n",
    "                break\n",
    "            elif(data_list[l] >= upper):\n",
    "                distribution[-1] += 1\n",
    "                break\n",
    "    for k in range(N+1):\n",
    "        distribution[k] /= L\n",
    "    return distribution"
   ]
  },
  {
   "cell_type": "code",
   "execution_count": 25,
   "metadata": {},
   "outputs": [
    {
     "name": "stdout",
     "output_type": "stream",
     "text": [
      "Max distance:  405674.0\n",
      "Mean distance:  29271.202150537636\n",
      "Median distance:  13263.0\n"
     ]
    }
   ],
   "source": [
    "# Get the minimum distance between each enhancer region lower in leio and the\n",
    "# nearest gene TSS. Then get the distribution of these regions for plotting.\n",
    "region_pos_enhancers = abf.readBed('../region_files/' + file_prefix + '_pos_loc4_enhancer.bed')\n",
    "distance_list_pos_enhancers = []\n",
    "\n",
    "for c in range(len(chr_list)):\n",
    "    for i in range(len(region_pos_enhancers[c])):\n",
    "        distance_list_pos_enhancers.append(getMinDistance(0.5*(region_pos_enhancers[c][i][2] + region_pos_enhancers[c][i][1]), TSS_loc[c]))\n",
    "        \n",
    "print(\"Max distance: \", max(distance_list_pos_enhancers))\n",
    "N = 10\n",
    "upper_enhancer = 200000\n",
    "distance_distribution_pos_enhancers =  getDistribution(distance_list_pos_enhancers, N, 0, upper_enhancer)     \n",
    "print(\"Mean distance: \", np.mean(distance_list_pos_enhancers))\n",
    "print(\"Median distance: \", np.median(distance_list_pos_enhancers))"
   ]
  },
  {
   "cell_type": "code",
   "execution_count": 26,
   "metadata": {},
   "outputs": [
    {
     "name": "stdout",
     "output_type": "stream",
     "text": [
      "Max distance:  236679.0\n",
      "Mean distance:  7467.795212765957\n",
      "Median distance:  1681.5\n"
     ]
    }
   ],
   "source": [
    "# Get the minimum distance between each promoter region lower in leio and the\n",
    "# nearest gene TSS. Then get the distribution of these regions for plotting.\n",
    "region_pos_promoters = abf.readBed('../region_files/' + file_prefix + '_pos_loc4_promoter.bed')\n",
    "distance_list_pos_promoters = []\n",
    "\n",
    "for c in range(len(chr_list)):\n",
    "    for i in range(len(region_pos_promoters[c])):\n",
    "        distance_list_pos_promoters.append(getMinDistance(0.5*(region_pos_promoters[c][i][2] + region_pos_promoters[c][i][1]), TSS_loc[c]))\n",
    "\n",
    "print(\"Max distance: \", max(distance_list_pos_promoters))\n",
    "N = 10\n",
    "upper_promoter = 200000 #10000\n",
    "distance_distribution_pos_promoters =  getDistribution(distance_list_pos_promoters,N, 0, upper_promoter)     \n",
    "print(\"Mean distance: \", np.mean(distance_list_pos_promoters))\n",
    "print(\"Median distance: \", np.median(distance_list_pos_promoters))"
   ]
  },
  {
   "cell_type": "code",
   "execution_count": 27,
   "metadata": {},
   "outputs": [
    {
     "name": "stdout",
     "output_type": "stream",
     "text": [
      "Max distance:  1094234.0\n",
      "Mean distance:  82060.44012688342\n",
      "Median distance:  43062.0\n"
     ]
    }
   ],
   "source": [
    "# Get the minimum distance between each enhancer region higher in leio and the\n",
    "# nearest gene TSS. Then get the distribution of these regions for plotting.\n",
    "region_neg_enhancers = abf.readBed('../region_files/' + file_prefix + '_neg_loc4_enhancer.bed')\n",
    "distance_list_neg_enhancers = []\n",
    "\n",
    "for c in range(len(chr_list)):\n",
    "    for i in range(len(region_neg_enhancers[c])):\n",
    "        distance_list_neg_enhancers.append(getMinDistance(0.5*(region_neg_enhancers[c][i][2] + region_neg_enhancers[c][i][1]), TSS_loc[c]))\n",
    "\n",
    "print(\"Max distance: \", max(distance_list_neg_enhancers))\n",
    "N = 10\n",
    "upper_enhancer = 200000\n",
    "distance_distribution_neg_enhancers =  getDistribution(distance_list_neg_enhancers, N, 0, upper_enhancer)     \n",
    "print(\"Mean distance: \", np.mean(distance_list_neg_enhancers))\n",
    "print(\"Median distance: \", np.median(distance_list_neg_enhancers))"
   ]
  },
  {
   "cell_type": "code",
   "execution_count": 28,
   "metadata": {},
   "outputs": [
    {
     "name": "stdout",
     "output_type": "stream",
     "text": [
      "Max distance:  896051.0\n",
      "Mean distance:  13185.159784560143\n",
      "Median distance:  2142.0\n"
     ]
    }
   ],
   "source": [
    "# Get the minimum distance between each promoter region higher in leio and the\n",
    "# nearest gene TSS. Then get the distribution of these regions for plotting.\n",
    "region_neg_promoters = abf.readBed('../region_files/' + file_prefix + '_neg_loc4_promoter.bed')\n",
    "distance_list_neg_promoters = []\n",
    "\n",
    "for c in range(len(chr_list)):\n",
    "    for i in range(len(region_neg_promoters[c])):\n",
    "        distance_list_neg_promoters.append(getMinDistance(0.5*(region_neg_promoters[c][i][2] + region_neg_promoters[c][i][1]), TSS_loc[c]))\n",
    "\n",
    "print(\"Max distance: \", max(distance_list_neg_promoters))\n",
    "N = 10\n",
    "upper_promoter = 200000 #10000\n",
    "distance_distribution_neg_promoters =  getDistribution(distance_list_neg_promoters, N, 0, upper_promoter)     \n",
    "print(\"Mean distance: \", np.mean(distance_list_neg_promoters))\n",
    "print(\"Median distance: \", np.median(distance_list_neg_promoters))"
   ]
  },
  {
   "cell_type": "code",
   "execution_count": 29,
   "metadata": {},
   "outputs": [
    {
     "data": {
      "text/plain": [
       "MannwhitneyuResult(statistic=387960.0, pvalue=3.664057892811543e-42)"
      ]
     },
     "execution_count": 29,
     "metadata": {},
     "output_type": "execute_result"
    }
   ],
   "source": [
    "scipy.stats.mannwhitneyu(distance_list_neg_enhancers, distance_list_pos_enhancers)"
   ]
  },
  {
   "cell_type": "code",
   "execution_count": 30,
   "metadata": {},
   "outputs": [
    {
     "data": {
      "image/png": "[encoded data removed]",
      "text/plain": [
       "<Figure size 302.4x205.2 with 1 Axes>"
      ]
     },
     "metadata": {
      "needs_background": "light"
     },
     "output_type": "display_data"
    }
   ],
   "source": [
    "# Figure 3C distribution of differential promoters around nearest gene TSS\n",
    "legend_TN = [mpatches.Patch(color=c, label=l) for c,l in zip([(0,0,1,1), (1,0,0,1)], ['Higher in leio', 'Lower in leio'])]\n",
    "fig1 = plt.figure(1,figsize=(4.2, 2.85))\n",
    "ax1 = fig1.add_subplot(111)  \n",
    "fig1.canvas.draw()\n",
    "\n",
    "ax1.plot([i*(upper_promoter/N) for i in range(len(distance_distribution_pos_promoters)+1)],\n",
    "         [0] + distance_distribution_pos_promoters,\n",
    "         c=(1,0,0,1), ds='steps')\n",
    "ax1.plot([i*(upper_promoter/N) for i in range(len(distance_distribution_neg_promoters)+1)],\n",
    "         [0] + distance_distribution_neg_promoters,\n",
    "         c=(0,0,1,1), ds='steps')\n",
    "\n",
    "a=ax1.get_xticks().tolist()\n",
    "#a[-2]='>10'\n",
    "a[-2]='>200'\n",
    "for i in range(len(a)-2):\n",
    "    a[i] = int(int(a[i])/1000)\n",
    "ax1.set_xticklabels(a)\n",
    "ax1.set_xlabel('Distance to nearest TSS (kb)',fontsize=11)\n",
    "#plt.ylim(0.0, 0.6)\n",
    "\n",
    "ax1.legend(handles=legend_TN, frameon=True, fontsize=10, ncol=1)\n",
    "\n",
    "ax1.set_ylabel('Distribution',fontsize=11)\n",
    "plt.title('Promoter regions',fontsize=11)\n",
    "plt.tight_layout()\n",
    "\n",
    "plt.savefig(output_dir + '/figures/figure3_panels/TSS_distance_distribution_promoters' + date + '.pdf',\n",
    "            transparent=True, format='pdf')"
   ]
  },
  {
   "cell_type": "code",
   "execution_count": 31,
   "metadata": {},
   "outputs": [
    {
     "data": {
      "image/png": "[encoded data removed]",
      "text/plain": [
       "<Figure size 302.4x205.2 with 1 Axes>"
      ]
     },
     "metadata": {
      "needs_background": "light"
     },
     "output_type": "display_data"
    }
   ],
   "source": [
    "# Figure 3D distribution of differential enhancers around nearest gene TSS\n",
    "legend_TN = [mpatches.Patch(color=c, label=l) for c,l in zip([(0,0,1,1), (1,0,0,1)], ['Higher in leio', 'Lower in leio'])]\n",
    "fig2 = plt.figure(1, figsize=(4.2, 2.85))\n",
    "ax2 = fig2.add_subplot(111)  \n",
    "fig2.canvas.draw()\n",
    "\n",
    "ax2.plot([i*(upper_enhancer/N) for i in range(len(distance_distribution_pos_enhancers)+1)],\n",
    "         [0] + distance_distribution_pos_enhancers,\n",
    "         c=(1,0,0,1), ds='steps')\n",
    "ax2.plot([i*(upper_enhancer/N) for i in range(len(distance_distribution_neg_enhancers)+1)],\n",
    "         [0] + distance_distribution_neg_enhancers,\n",
    "         c=(0,0,1,1), ds='steps')\n",
    "\n",
    "a=ax2.get_xticks().tolist()\n",
    "a[-2]='>200'\n",
    "for i in range(len(a)-2):\n",
    "    a[i] = int(int(a[i])/1000)\n",
    "ax2.set_xticklabels(a)\n",
    "ax2.set_xlabel('Distance to nearest TSS (kb)',fontsize=11)\n",
    "#plt.ylim(0.0, 0.6)\n",
    "\n",
    "ax2.legend(handles=legend_TN, frameon=True, fontsize=10, ncol=1)\n",
    "\n",
    "ax2.set_ylabel('Distribution',fontsize=11)\n",
    "plt.title('Enhancer regions',fontsize=11)\n",
    "plt.tight_layout()\n",
    "\n",
    "plt.savefig(output_dir + 'figures/figure3_panels/TSS_distance_distribution_enhancers' + date + '.pdf',\n",
    "            transparent=True, format='pdf')"
   ]
  },
  {
   "cell_type": "code",
   "execution_count": 32,
   "metadata": {},
   "outputs": [
    {
     "name": "stdout",
     "output_type": "stream",
     "text": [
      "Max distance:  828553.0\n",
      "Mean distance:  55228.92753623189\n",
      "Median distance:  30233.0\n"
     ]
    }
   ],
   "source": [
    "# Get the minimum distance between each enhancer region higher in MED12mut leio\n",
    "# and the nearest gene TSS. Then get the distribution of these regions for plotting.\n",
    "region_pos_MED12_enhancers = abf.readBed('../region_files/' + file_prefix + '_pos_loc7_MED12_enhancer.bed')\n",
    "distance_list_pos_MED12_enhancers = []\n",
    "\n",
    "for c in range(len(chr_list)):\n",
    "    for i in range(len(region_pos_MED12_enhancers[c])):\n",
    "        distance_list_pos_MED12_enhancers.append(getMinDistance(0.5*(region_pos_MED12_enhancers[c][i][2] + region_pos_MED12_enhancers[c][i][1]), TSS_loc[c]))\n",
    "\n",
    "print(\"Max distance: \", max(distance_list_pos_MED12_enhancers))\n",
    "N = 10\n",
    "upper_enhancer = 200000\n",
    "distance_distribution_pos_MED12_enhancers =  getDistribution(distance_list_pos_MED12_enhancers, N, 0, upper_enhancer)     \n",
    "print(\"Mean distance: \", np.mean(distance_list_pos_MED12_enhancers))\n",
    "print(\"Median distance: \", np.median(distance_list_pos_MED12_enhancers))"
   ]
  },
  {
   "cell_type": "code",
   "execution_count": 33,
   "metadata": {},
   "outputs": [
    {
     "name": "stdout",
     "output_type": "stream",
     "text": [
      "Max distance:  762555.0\n",
      "Mean distance:  14021.952965235174\n",
      "Median distance:  1756.0\n"
     ]
    }
   ],
   "source": [
    "# Get the minimum distance between each promoter region higher in MED12mut leio\n",
    "# and the nearest gene TSS. Then get the distribution of these regions for plotting.\n",
    "region_pos_MED12_promoters = abf.readBed('../region_files/' + file_prefix + '_pos_loc7_MED12_promoter.bed')\n",
    "distance_list_pos_MED12_promoters = []\n",
    "\n",
    "for c in range(len(chr_list)):\n",
    "    for i in range(len(region_pos_MED12_promoters[c])):\n",
    "        distance_list_pos_MED12_promoters.append(getMinDistance(0.5*(region_pos_MED12_promoters[c][i][2] + region_pos_MED12_promoters[c][i][1]), TSS_loc[c]))\n",
    "\n",
    "print(\"Max distance: \", max(distance_list_pos_MED12_promoters))\n",
    "N = 10\n",
    "upper_promoter = 200000 #10000\n",
    "distance_distribution_pos_MED12_promoters =  getDistribution(distance_list_pos_MED12_promoters,N, 0, upper_promoter)     \n",
    "print(\"Mean distance: \", np.mean(distance_list_pos_MED12_promoters))\n",
    "print(\"Median distance: \", np.median(distance_list_pos_MED12_promoters))"
   ]
  },
  {
   "cell_type": "code",
   "execution_count": 34,
   "metadata": {},
   "outputs": [
    {
     "name": "stdout",
     "output_type": "stream",
     "text": [
      "Max distance:  779050.0\n",
      "Mean distance:  55741.40997229917\n",
      "Median distance:  30148.0\n"
     ]
    }
   ],
   "source": [
    "# Get the minimum distance between each enhancer region higher in MED12wt leio\n",
    "# and the nearest gene TSS. Then get the distribution of these regions for plotting.\n",
    "region_neg_MED12_enhancers = abf.readBed('../region_files/' + file_prefix + '_neg_loc7_MED12_enhancer.bed')\n",
    "distance_list_neg_MED12_enhancers = []\n",
    "\n",
    "for c in range(len(chr_list)):\n",
    "    for i in range(len(region_neg_MED12_enhancers[c])):\n",
    "        distance_list_neg_MED12_enhancers.append(getMinDistance(0.5*(region_neg_MED12_enhancers[c][i][2] + region_neg_MED12_enhancers[c][i][1]), TSS_loc[c]))\n",
    "\n",
    "print(\"Max distance: \", max(distance_list_neg_MED12_enhancers))\n",
    "N = 10\n",
    "upper_enhancer = 200000\n",
    "distance_distribution_neg_MED12_enhancers =  getDistribution(distance_list_neg_MED12_enhancers, N, 0, upper_enhancer)     \n",
    "print(\"Mean distance: \", np.mean(distance_list_neg_MED12_enhancers))\n",
    "print(\"Median distance: \", np.median(distance_list_neg_MED12_enhancers))"
   ]
  },
  {
   "cell_type": "code",
   "execution_count": 35,
   "metadata": {},
   "outputs": [
    {
     "name": "stdout",
     "output_type": "stream",
     "text": [
      "Max distance:  394194.0\n",
      "Mean distance:  12856.281947261663\n",
      "Median distance:  1985.0\n"
     ]
    }
   ],
   "source": [
    "# Get the minimum distance between each promoter region higher in MED12wt leio\n",
    "# and the nearest gene TSS. Then get the distribution of these regions for plotting.\n",
    "region_neg_MED12_promoters = abf.readBed('../region_files/' + file_prefix + '_neg_loc7_MED12_promoter.bed')\n",
    "distance_list_neg_MED12_promoters = []\n",
    "\n",
    "for c in range(len(chr_list)):\n",
    "    for i in range(len(region_neg_MED12_promoters[c])):\n",
    "        distance_list_neg_MED12_promoters.append(getMinDistance(0.5*(region_neg_MED12_promoters[c][i][2] + region_neg_MED12_promoters[c][i][1]), TSS_loc[c]))\n",
    "\n",
    "print(\"Max distance: \", max(distance_list_neg_MED12_promoters))\n",
    "N = 10\n",
    "upper_promoter = 200000 #10000\n",
    "distance_distribution_neg_MED12_promoters =  getDistribution(distance_list_neg_MED12_promoters, N, 0, upper_promoter)     \n",
    "print(\"Mean distance: \", np.mean(distance_list_neg_MED12_promoters))\n",
    "print(\"Median distance: \", np.median(distance_list_neg_MED12_promoters))"
   ]
  },
  {
   "cell_type": "code",
   "execution_count": 36,
   "metadata": {},
   "outputs": [
    {
     "data": {
      "text/plain": [
       "MannwhitneyuResult(statistic=627845.5, pvalue=0.31759635370529404)"
      ]
     },
     "execution_count": 36,
     "metadata": {},
     "output_type": "execute_result"
    }
   ],
   "source": [
    "scipy.stats.mannwhitneyu(distance_list_neg_MED12_enhancers,\n",
    "                         distance_list_pos_MED12_enhancers)"
   ]
  },
  {
   "cell_type": "code",
   "execution_count": 37,
   "metadata": {},
   "outputs": [
    {
     "data": {
      "image/png": "[encoded data removed]",
      "text/plain": [
       "<Figure size 288x168.12 with 1 Axes>"
      ]
     },
     "metadata": {
      "needs_background": "light"
     },
     "output_type": "display_data"
    }
   ],
   "source": [
    "# Figure S4B distribution of subtype differential promoters around nearest gene TSS\n",
    "legend_TN = [mpatches.Patch(color=c, label=l) for c,l in zip([(110/255, 0/255, 140/255, 1), (0,0.75,0.75,1)], ['Higher in $\\it{MED12}$-mut', 'Higher in $\\it{MED12}$-wt'])]\n",
    "fig1 = plt.figure(1,figsize=(4.0,2.335))\n",
    "ax1 = fig1.add_subplot(111)  \n",
    "fig1.canvas.draw()\n",
    "\n",
    "ax1.plot([i*(upper_promoter/N) for i in range(len(distance_distribution_pos_MED12_promoters)+1)],\n",
    "         [0] + distance_distribution_pos_MED12_promoters,\n",
    "         c=(110/255, 0/255, 140/255, 1), ds='steps')\n",
    "ax1.plot([i*(upper_promoter/N) for i in range(len(distance_distribution_neg_MED12_promoters)+1)],\n",
    "         [0] + distance_distribution_neg_MED12_promoters,\n",
    "         c=(0, 0.75, 0.75, 1), ds='steps')\n",
    "\n",
    "a=ax1.get_xticks().tolist()\n",
    "a[-2]='>200' #'>10'\n",
    "for i in range(len(a)-2):\n",
    "    a[i] = int(int(a[i])/1000)\n",
    "ax1.set_xticklabels(a)\n",
    "ax1.set_xlabel('Distance to nearest TSS (kb)',fontsize=11)\n",
    "#plt.ylim(0.0, 0.6)\n",
    "\n",
    "ax1.legend(handles=legend_TN, frameon=True, fontsize=10, ncol=1)\n",
    "\n",
    "ax1.set_ylabel('Distribution',fontsize=11)\n",
    "plt.title('Promoter regions',fontsize=11)\n",
    "plt.tight_layout()\n",
    "\n",
    "plt.savefig(output_dir + 'figures/figureS6_panels/TSS_distance_distribution_MED12_promoters' + date + '.pdf',\n",
    "            transparent=True, format='pdf')"
   ]
  },
  {
   "cell_type": "code",
   "execution_count": 38,
   "metadata": {},
   "outputs": [
    {
     "data": {
      "image/png": "[encoded data removed]",
      "text/plain": [
       "<Figure size 288x168.12 with 1 Axes>"
      ]
     },
     "metadata": {
      "needs_background": "light"
     },
     "output_type": "display_data"
    }
   ],
   "source": [
    "# Figure S4C distribution of subtype differential promoters around nearest gene TSS\n",
    "legend_TN = [mpatches.Patch(color=c, label=l) for c,l in zip([(110/255, 0/255, 140/255,1), (0,0.75,0.75,1)], ['Higher in $\\it{MED12}$-mut', 'Higher in $\\it{MED12}$-wt'])]\n",
    "fig2 = plt.figure(2,figsize=(4.0,2.335))\n",
    "ax2 = fig2.add_subplot(111)  \n",
    "fig2.canvas.draw()\n",
    "\n",
    "ax2.plot([i*(upper_enhancer/N) for i in range(len(distance_distribution_pos_MED12_enhancers)+1)],\n",
    "         [0] + distance_distribution_pos_MED12_enhancers,\n",
    "         c=(110/255, 0/255, 140/255,1), ds='steps')\n",
    "ax2.plot([i*(upper_enhancer/N) for i in range(len(distance_distribution_neg_MED12_enhancers)+1)],\n",
    "         [0] + distance_distribution_neg_MED12_enhancers,\n",
    "         c=(0,0.75,0.75,1), ds='steps')\n",
    "\n",
    "a=ax2.get_xticks().tolist()\n",
    "a[-2]='>200'\n",
    "for i in range(len(a)-2):\n",
    "    a[i] = int(int(a[i])/1000)\n",
    "ax2.set_xticklabels(a)\n",
    "ax2.set_xlabel('Distance to nearest TSS (kb)',fontsize=11)\n",
    "#plt.ylim(0.0, 0.6)\n",
    "\n",
    "ax2.legend(handles=legend_TN, frameon=True, fontsize=10, ncol=1)\n",
    "\n",
    "ax2.set_ylabel('Distribution',fontsize=11)\n",
    "plt.title('Enhancer regions',fontsize=11)\n",
    "plt.tight_layout()\n",
    "\n",
    "plt.savefig(output_dir + 'figures/figureS6_panels/TSS_distance_distribution_MED12_enhancers' + date + '.pdf',\n",
    "            transparent=True, format='pdf')"
   ]
  },
  {
   "cell_type": "code",
   "execution_count": null,
   "metadata": {},
   "outputs": [],
   "source": []
  }
 ],
 "metadata": {
  "kernelspec": {
   "display_name": "Python 3",
   "language": "python",
   "name": "python3"
  },
  "language_info": {
   "codemirror_mode": {
    "name": "ipython",
    "version": 3
   },
   "file_extension": ".py",
   "mimetype": "text/x-python",
   "name": "python",
   "nbconvert_exporter": "python",
   "pygments_lexer": "ipython3",
   "version": "3.7.3"
  }
 },
 "nbformat": 4,
 "nbformat_minor": 2
}
