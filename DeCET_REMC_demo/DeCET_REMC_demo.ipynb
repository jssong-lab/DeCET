{
 "cells": [
  {
   "cell_type": "code",
   "execution_count": 1,
   "metadata": {},
   "outputs": [],
   "source": [
    "import numpy as np\n",
    "import torch\n",
    "import matplotlib.pyplot as plt\n",
    "import pickle"
   ]
  },
  {
   "cell_type": "markdown",
   "metadata": {},
   "source": [
    "### Load the projections onto the location vectors obtained with the HOSVD."
   ]
  },
  {
   "cell_type": "code",
   "execution_count": 2,
   "metadata": {},
   "outputs": [
    {
     "name": "stdout",
     "output_type": "stream",
     "text": [
      "(3, 5, 15)\n"
     ]
    }
   ],
   "source": [
    "sample_proj = torch.load('DeCET_REMC_demo_HOSVD_projections.pt').numpy()\n",
    "print(sample_proj.shape)\n",
    "\n",
    "N0 = sample_proj.shape[0] # number of samples\n",
    "N1 = sample_proj.shape[1] # number of assays"
   ]
  },
  {
   "cell_type": "markdown",
   "metadata": {},
   "source": [
    "### Plot the projections onto the HOSVD location vectors."
   ]
  },
  {
   "cell_type": "code",
   "execution_count": 3,
   "metadata": {},
   "outputs": [
    {
     "data": {
      "image/png": "[encoded data removed]",
      "text/plain": [
       "<Figure size 288x576 with 5 Axes>"
      ]
     },
     "metadata": {
      "needs_background": "light"
     },
     "output_type": "display_data"
    }
   ],
   "source": [
    "n_proj = 10 # Set the number of location vectors to plot the projections onto\n",
    "assay_name = ['H3K27ac', 'H3K27me3', 'H3K9me3', 'H3K4me3', 'H3K4me1']\n",
    "\n",
    "fig = plt.figure(figsize=(4,8))\n",
    "ax = []\n",
    "\n",
    "for k in range(N1):\n",
    "    ax.append(fig.add_subplot(511+k))\n",
    "    l1, = ax[k].plot(sample_proj[0, k][0:n_proj],'.', markersize=4, c=(0,0,0,1))\n",
    "    l2, = ax[k].plot(sample_proj[1, k][0:n_proj],'.', markersize=4, c=(0.75,0,0.75,1))\n",
    "    l3, = ax[k].plot(sample_proj[2, k][0:n_proj],'.', markersize=4, c=(0,0.75,0.75,1))\n",
    "\n",
    "\n",
    "    if(k == 0):\n",
    "        plt.title('Projection onto location vectors',fontsize=11,y=1.1)\n",
    "        ax[k].legend([l1, l2, l3], [\"E067\", \"E069\", \"E071\"], fontsize=11)\n",
    "        \n",
    "    ax[k].set_ylabel(assay_name[k],fontsize=11)\n",
    "    ax[k].get_yaxis().set_label_coords(-0.17,0.5)\n",
    "\n",
    "    ax[k].ticklabel_format(axis='y', style='sci', scilimits=(0.0,0.0))\n",
    "    if(k < N1-1): \n",
    "        plt.setp(ax[k].get_xticklabels(), visible=False)\n",
    "    if(k != 0):\n",
    "        ax[k].yaxis.get_offset_text().set_visible(False)\n",
    "    \n",
    "    if(k == N1-1):\n",
    "        ax[k].set_xlabel('Location singular vector order',fontsize=11)\n",
    "        plt.setp(ax[k].get_xticklabels(), visible=True)\n",
    "        plt.xticks([2*i+1 for i in range(int(n_proj/2))], [2*(i+1) for i in range(int(n_proj/2))])\n",
    "    plt.setp(ax[k].get_xticklabels(), visible=True)\n",
    "    plt.xticks([2*i+1 for i in range(int(n_proj/2))], [2*(i+1) for i in range(int(n_proj/2))])\n",
    "\n",
    "plt.tight_layout()"
   ]
  },
  {
   "cell_type": "markdown",
   "metadata": {},
   "source": [
    "### Load the genomic location vectors."
   ]
  },
  {
   "cell_type": "code",
   "execution_count": 4,
   "metadata": {},
   "outputs": [
    {
     "name": "stdout",
     "output_type": "stream",
     "text": [
      "(1547874, 15)\n"
     ]
    }
   ],
   "source": [
    "U_l = torch.load('DeCET_REMC_demo_HOSVD_factor_matrix_2.pt').numpy()\n",
    "print(U_l.shape)"
   ]
  },
  {
   "cell_type": "markdown",
   "metadata": {},
   "source": [
    "### Load the index to genomic coordinate list and print the 5 bins with the most positive and negative component values for location vector 2 (1-based index)."
   ]
  },
  {
   "cell_type": "code",
   "execution_count": 5,
   "metadata": {},
   "outputs": [
    {
     "name": "stdout",
     "output_type": "stream",
     "text": [
      "1547874\n"
     ]
    }
   ],
   "source": [
    "f = open('DeCET_REMC_demo_index_to_genomic.pkl', 'rb')\n",
    "index_to_genomic = pickle.load(f)\n",
    "f.close()\n",
    "print(len(index_to_genomic))"
   ]
  },
  {
   "cell_type": "code",
   "execution_count": 6,
   "metadata": {},
   "outputs": [],
   "source": [
    "loc2_order = np.argsort(U_l[:,1])"
   ]
  },
  {
   "cell_type": "markdown",
   "metadata": {},
   "source": [
    "### Genomic bins with the most positive component value of location vector 2."
   ]
  },
  {
   "cell_type": "code",
   "execution_count": 7,
   "metadata": {},
   "outputs": [
    {
     "name": "stdout",
     "output_type": "stream",
     "text": [
      "Genomic index, genomic location, component value\n",
      "1384102, ['chr20', 49574000, 49576000], 0.013377379548156402\n",
      "152549, ['chr2', 55844000, 55846000], 0.013305314789616184\n",
      "897304, ['chr10', 114206000, 114208000], 0.012464537490103362\n",
      "555994, ['chr6', 49430000, 49432000], 0.012190781910503969\n",
      "418962, ['chr4', 147442000, 147444000], 0.01187593220214983\n"
     ]
    }
   ],
   "source": [
    "print(\"Genomic index, genomic location, component value\")\n",
    "for i in range(0,5):\n",
    "    print(\"{}, {}, {}\".format(loc2_order[-i-1],\n",
    "                              index_to_genomic[loc2_order[-i-1]],\n",
    "                              U_l[loc2_order[-i-1],1]))"
   ]
  },
  {
   "cell_type": "markdown",
   "metadata": {},
   "source": [
    "### Genomic bins with the most negative component value of location vector 2."
   ]
  },
  {
   "cell_type": "code",
   "execution_count": 8,
   "metadata": {},
   "outputs": [
    {
     "name": "stdout",
     "output_type": "stream",
     "text": [
      "Genomic index, genomic location, component value\n",
      "940597, ['chr11', 65254000, 65256000], -0.021307966625903344\n",
      "940598, ['chr11', 65256000, 65258000], -0.0185346483588998\n",
      "586711, ['chr6', 110864000, 110866000], -0.018322633328054887\n",
      "963772, ['chr11', 111604000, 111606000], -0.017708095995537323\n",
      "1382308, ['chr20', 45986000, 45988000], -0.017383452499942914\n"
     ]
    }
   ],
   "source": [
    "print(\"Genomic index, genomic location, component value\")\n",
    "for i in range(0,5):\n",
    "    print(\"{}, {}, {}\".format(loc2_order[i],\n",
    "                              index_to_genomic[loc2_order[i]],\n",
    "                              U_l[loc2_order[i],1]))"
   ]
  },
  {
   "cell_type": "code",
   "execution_count": null,
   "metadata": {},
   "outputs": [],
   "source": []
  }
 ],
 "metadata": {
  "kernelspec": {
   "display_name": "Python 3",
   "language": "python",
   "name": "python3"
  },
  "language_info": {
   "codemirror_mode": {
    "name": "ipython",
    "version": 3
   },
   "file_extension": ".py",
   "mimetype": "text/x-python",
   "name": "python",
   "nbconvert_exporter": "python",
   "pygments_lexer": "ipython3",
   "version": "3.6.1"
  }
 },
 "nbformat": 4,
 "nbformat_minor": 2
}
